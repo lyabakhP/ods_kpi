{
 "cells": [
  {
   "cell_type": "code",
   "execution_count": 1,
   "metadata": {},
   "outputs": [
    {
     "data": {
      "text/html": [
       "<script>requirejs.config({paths: { 'plotly': ['https://cdn.plot.ly/plotly-latest.min']},});if(!window.Plotly) {{require(['plotly'],function(plotly) {window.Plotly=plotly;});}}</script>"
      ],
      "text/vnd.plotly.v1+html": [
       "<script>requirejs.config({paths: { 'plotly': ['https://cdn.plot.ly/plotly-latest.min']},});if(!window.Plotly) {{require(['plotly'],function(plotly) {window.Plotly=plotly;});}}</script>"
      ]
     },
     "metadata": {},
     "output_type": "display_data"
    }
   ],
   "source": [
    "import warnings\n",
    "warnings.simplefilter('ignore')\n",
    "\n",
    "#from functools import partial\n",
    "\n",
    "import pandas as pd\n",
    "import numpy as np\n",
    "import pandas_profiling as pp\n",
    "\n",
    "#from sklearn.linear_model import LogisticRegression\n",
    "#from sklearn.ensemble import RandomForestClassifier, BaggingClassifier, ExtraTreesClassifier\n",
    "from sklearn.model_selection import cross_val_score, GridSearchCV, StratifiedKFold, train_test_split, KFold\n",
    "from sklearn.metrics import roc_auc_score, classification_report\n",
    "#from sklearn.preprocessing import StandardScaler, OneHotEncoder\n",
    "from scipy.stats import rankdata\n",
    "from sklearn.svm import SVC\n",
    "\n",
    "import lightgbm as lgb\n",
    "from catboost import Pool, CatBoostClassifier\n",
    "%matplotlib inline\n",
    "import matplotlib as plt\n",
    "import matplotlib.style as stl\n",
    "import seaborn as sns\n",
    "import plotly.plotly as py\n",
    "import plotly.graph_objs as go\n",
    "from plotly.offline import download_plotlyjs, init_notebook_mode, plot, iplot\n",
    "init_notebook_mode(connected=True)\n",
    "\n",
    "plt.rcParams['figure.figsize'] = 16, 10\n",
    "\n"
   ]
  },
  {
   "cell_type": "code",
   "execution_count": 2,
   "metadata": {
    "collapsed": true
   },
   "outputs": [],
   "source": [
    "from os import cpu_count"
   ]
  },
  {
   "cell_type": "code",
   "execution_count": 3,
   "metadata": {
    "collapsed": true
   },
   "outputs": [],
   "source": [
    "#from xgboost import XGBClassifier"
   ]
  },
  {
   "cell_type": "code",
   "execution_count": 4,
   "metadata": {
    "collapsed": true
   },
   "outputs": [],
   "source": [
    "import xgboost as xgb"
   ]
  },
  {
   "cell_type": "code",
   "execution_count": 5,
   "metadata": {},
   "outputs": [],
   "source": [
    "n_jobs = max(cpu_count()-1, 1)"
   ]
  },
  {
   "cell_type": "code",
   "execution_count": 6,
   "metadata": {},
   "outputs": [],
   "source": [
    "train = pd.read_csv('train_cleansed.csv')\n",
    "test = pd.read_csv('test_cleansed.csv')"
   ]
  },
  {
   "cell_type": "code",
   "execution_count": 7,
   "metadata": {},
   "outputs": [],
   "source": [
    "pd.options.display.max_columns = None"
   ]
  },
  {
   "cell_type": "code",
   "execution_count": 8,
   "metadata": {},
   "outputs": [],
   "source": [
    "X = train.drop(['0'], axis=1)\n",
    "y = train['0']"
   ]
  },
  {
   "cell_type": "markdown",
   "metadata": {},
   "source": [
    "# XGBOOST"
   ]
  },
  {
   "cell_type": "markdown",
   "metadata": {},
   "source": [
    "## Holdout validation "
   ]
  },
  {
   "cell_type": "code",
   "execution_count": 9,
   "metadata": {
    "collapsed": true
   },
   "outputs": [],
   "source": [
    "#skf = StratifiedKFold(n_splits=5, shuffle=True, random_state=42)"
   ]
  },
  {
   "cell_type": "code",
   "execution_count": 912,
   "metadata": {
    "collapsed": true
   },
   "outputs": [],
   "source": [
    "\n",
    "from sklearn.feature_selection import SelectFromModel\n",
    "from numpy import sort"
   ]
  },
  {
   "cell_type": "code",
   "execution_count": 1249,
   "metadata": {
    "collapsed": true
   },
   "outputs": [],
   "source": [
    "xgb_train = xgb.DMatrix(X, y, feature_names=X.columns)"
   ]
  },
  {
   "cell_type": "code",
   "execution_count": 1250,
   "metadata": {},
   "outputs": [],
   "source": [
    "parameters = {\n",
    "     'base_score' : 0.7,\n",
    "    'eta': 0.1,\n",
    "    'num_round' : 120,\n",
    "    'nthread': 4,\n",
    "    # regularization parameters\n",
    "    'max_depth' : 4, \n",
    "    'max_leaves':32,\n",
    "    #min_child_weight = 0.05,\n",
    "    'max_delta_step' :0,\n",
    "    'subsample':0.7,\n",
    "    'colsample_bytree':0.7,\n",
    "    'refresh_leaf' :1,\n",
    "    'eval_metric':'auc',\n",
    "    'tree_method' :'hist'\n",
    "    \n",
    "    \n",
    "}"
   ]
  },
  {
   "cell_type": "code",
   "execution_count": 1251,
   "metadata": {
    "collapsed": true
   },
   "outputs": [],
   "source": [
    "num_rounds = 10000"
   ]
  },
  {
   "cell_type": "code",
   "execution_count": 1252,
   "metadata": {
    "collapsed": true
   },
   "outputs": [],
   "source": [
    "skf = StratifiedKFold(n_splits=5, shuffle=True, random_state=42)"
   ]
  },
  {
   "cell_type": "code",
   "execution_count": 1253,
   "metadata": {},
   "outputs": [
    {
     "name": "stdout",
     "output_type": "stream",
     "text": [
      "[0]\ttrain-auc:0.671133+0.00600566\ttest-auc:0.660656+0.00693095\n",
      "[1]\ttrain-auc:0.69169+0.00433044\ttest-auc:0.677087+0.00399613\n",
      "[2]\ttrain-auc:0.69946+0.00286043\ttest-auc:0.685278+0.00439935\n",
      "[3]\ttrain-auc:0.705996+0.0039537\ttest-auc:0.688373+0.00500111\n",
      "[4]\ttrain-auc:0.711048+0.000927741\ttest-auc:0.693732+0.00706777\n",
      "[5]\ttrain-auc:0.715668+0.0020433\ttest-auc:0.69813+0.00574483\n",
      "[6]\ttrain-auc:0.716829+0.0016739\ttest-auc:0.698778+0.00603914\n",
      "[7]\ttrain-auc:0.718602+0.00166974\ttest-auc:0.700407+0.00515107\n",
      "[8]\ttrain-auc:0.722291+0.0017573\ttest-auc:0.70233+0.0043701\n",
      "[9]\ttrain-auc:0.723538+0.00179023\ttest-auc:0.702717+0.00502645\n",
      "[10]\ttrain-auc:0.725776+0.00287805\ttest-auc:0.704099+0.00474068\n",
      "[11]\ttrain-auc:0.728279+0.00283888\ttest-auc:0.705651+0.00379832\n",
      "[12]\ttrain-auc:0.730231+0.00153283\ttest-auc:0.707165+0.00384038\n",
      "[13]\ttrain-auc:0.733445+0.00116828\ttest-auc:0.708589+0.00435622\n",
      "[14]\ttrain-auc:0.734996+0.00160866\ttest-auc:0.710049+0.00468316\n",
      "[15]\ttrain-auc:0.736652+0.00145499\ttest-auc:0.710405+0.00346767\n",
      "[16]\ttrain-auc:0.73873+0.00123888\ttest-auc:0.710996+0.00309666\n",
      "[17]\ttrain-auc:0.739727+0.00120585\ttest-auc:0.711651+0.00310191\n",
      "[18]\ttrain-auc:0.742122+0.000962709\ttest-auc:0.712866+0.00313422\n",
      "[19]\ttrain-auc:0.744322+0.00103325\ttest-auc:0.713885+0.00215727\n",
      "[20]\ttrain-auc:0.74628+0.00104204\ttest-auc:0.715329+0.00219699\n",
      "[21]\ttrain-auc:0.747663+0.00106566\ttest-auc:0.715697+0.00188723\n",
      "[22]\ttrain-auc:0.749233+0.001067\ttest-auc:0.716395+0.00190345\n",
      "[23]\ttrain-auc:0.750613+0.00130487\ttest-auc:0.716606+0.00198841\n",
      "[24]\ttrain-auc:0.75181+0.00101492\ttest-auc:0.716675+0.00188095\n",
      "[25]\ttrain-auc:0.753348+0.000971664\ttest-auc:0.717229+0.00130853\n",
      "[26]\ttrain-auc:0.754914+0.00136284\ttest-auc:0.718079+0.00114889\n",
      "[27]\ttrain-auc:0.756051+0.00104517\ttest-auc:0.718243+0.000871099\n",
      "[28]\ttrain-auc:0.757264+0.00150936\ttest-auc:0.718457+0.000603303\n",
      "[29]\ttrain-auc:0.758556+0.00170295\ttest-auc:0.719164+0.000442963\n",
      "[30]\ttrain-auc:0.76+0.00204069\ttest-auc:0.719325+0.000653382\n",
      "[31]\ttrain-auc:0.761315+0.00175236\ttest-auc:0.719989+0.000341388\n",
      "[32]\ttrain-auc:0.762518+0.00194229\ttest-auc:0.720097+0.000488126\n",
      "[33]\ttrain-auc:0.763655+0.00183859\ttest-auc:0.720719+0.000440183\n",
      "[34]\ttrain-auc:0.764854+0.00193499\ttest-auc:0.72078+0.000194878\n",
      "[35]\ttrain-auc:0.765963+0.00213969\ttest-auc:0.721355+0.000603546\n",
      "[36]\ttrain-auc:0.766817+0.00218354\ttest-auc:0.721661+0.0004896\n",
      "[37]\ttrain-auc:0.76809+0.0024712\ttest-auc:0.721869+0.00048077\n",
      "[38]\ttrain-auc:0.769304+0.00232154\ttest-auc:0.722413+0.000561417\n",
      "[39]\ttrain-auc:0.77055+0.00216434\ttest-auc:0.722549+0.000394803\n",
      "[40]\ttrain-auc:0.771952+0.0020369\ttest-auc:0.723404+0.000480944\n",
      "[41]\ttrain-auc:0.773191+0.00176863\ttest-auc:0.723931+0.000349629\n",
      "[42]\ttrain-auc:0.774172+0.00165953\ttest-auc:0.72389+0.000502385\n",
      "[43]\ttrain-auc:0.775416+0.00218514\ttest-auc:0.724294+0.000882044\n",
      "[44]\ttrain-auc:0.776471+0.00230457\ttest-auc:0.724452+0.000851171\n",
      "[45]\ttrain-auc:0.777446+0.00214302\ttest-auc:0.724575+0.00113344\n",
      "[46]\ttrain-auc:0.778286+0.00237978\ttest-auc:0.724593+0.00137745\n",
      "[47]\ttrain-auc:0.779415+0.00234667\ttest-auc:0.725158+0.00128866\n",
      "[48]\ttrain-auc:0.780682+0.00241533\ttest-auc:0.725367+0.0014626\n",
      "[49]\ttrain-auc:0.781959+0.00230403\ttest-auc:0.725649+0.00137911\n",
      "[50]\ttrain-auc:0.7834+0.00238722\ttest-auc:0.725683+0.00148251\n",
      "[51]\ttrain-auc:0.78426+0.00232715\ttest-auc:0.725926+0.00151829\n",
      "[52]\ttrain-auc:0.785339+0.00238751\ttest-auc:0.726115+0.00134646\n",
      "[53]\ttrain-auc:0.786177+0.0025908\ttest-auc:0.726427+0.00160885\n",
      "[54]\ttrain-auc:0.787132+0.00264968\ttest-auc:0.726741+0.00144891\n",
      "[55]\ttrain-auc:0.787942+0.00232992\ttest-auc:0.726811+0.00135999\n",
      "[56]\ttrain-auc:0.78887+0.00246322\ttest-auc:0.727034+0.00123663\n",
      "[57]\ttrain-auc:0.789701+0.0026056\ttest-auc:0.726909+0.00112917\n",
      "[58]\ttrain-auc:0.790639+0.00235308\ttest-auc:0.726898+0.00103988\n",
      "[59]\ttrain-auc:0.791477+0.00251367\ttest-auc:0.72691+0.00110208\n",
      "[60]\ttrain-auc:0.792236+0.00247853\ttest-auc:0.727185+0.00119\n",
      "[61]\ttrain-auc:0.792967+0.00221283\ttest-auc:0.727309+0.00124941\n",
      "[62]\ttrain-auc:0.793516+0.00216027\ttest-auc:0.727419+0.00131302\n",
      "[63]\ttrain-auc:0.794045+0.00216839\ttest-auc:0.727685+0.00118601\n",
      "[64]\ttrain-auc:0.794765+0.00213957\ttest-auc:0.727895+0.00124383\n",
      "[65]\ttrain-auc:0.79577+0.00171483\ttest-auc:0.72822+0.00103195\n",
      "[66]\ttrain-auc:0.79653+0.0015712\ttest-auc:0.728627+0.000975008\n",
      "[67]\ttrain-auc:0.797471+0.00168469\ttest-auc:0.728579+0.000872686\n",
      "[68]\ttrain-auc:0.798447+0.00166553\ttest-auc:0.728561+0.000916185\n",
      "[69]\ttrain-auc:0.799191+0.00174148\ttest-auc:0.728375+0.000697481\n",
      "[70]\ttrain-auc:0.799763+0.00186091\ttest-auc:0.728368+0.000664567\n",
      "[71]\ttrain-auc:0.800612+0.00194625\ttest-auc:0.72863+0.000799371\n",
      "[72]\ttrain-auc:0.801189+0.00208009\ttest-auc:0.7287+0.000754221\n",
      "[73]\ttrain-auc:0.801943+0.00206023\ttest-auc:0.729062+0.000840115\n",
      "[74]\ttrain-auc:0.802775+0.00201515\ttest-auc:0.729133+0.00100133\n",
      "[75]\ttrain-auc:0.803693+0.00179775\ttest-auc:0.728987+0.00073347\n",
      "[76]\ttrain-auc:0.804567+0.00163229\ttest-auc:0.729046+0.000775848\n",
      "[77]\ttrain-auc:0.805571+0.00147296\ttest-auc:0.729+0.000604584\n",
      "[78]\ttrain-auc:0.805992+0.00158755\ttest-auc:0.729256+0.000598839\n",
      "[79]\ttrain-auc:0.806639+0.00148947\ttest-auc:0.729191+0.000571408\n",
      "[80]\ttrain-auc:0.80714+0.0011901\ttest-auc:0.729262+0.000521615\n",
      "[81]\ttrain-auc:0.808133+0.00123304\ttest-auc:0.729596+0.000444563\n",
      "[82]\ttrain-auc:0.808965+0.00126275\ttest-auc:0.729756+0.000305837\n",
      "[83]\ttrain-auc:0.809792+0.0013741\ttest-auc:0.729798+6.68049e-05\n",
      "[84]\ttrain-auc:0.810555+0.00156029\ttest-auc:0.729891+9.30245e-05\n",
      "[85]\ttrain-auc:0.811602+0.00138301\ttest-auc:0.729759+0.00023678\n",
      "[86]\ttrain-auc:0.812259+0.00133488\ttest-auc:0.729615+0.00033052\n",
      "[87]\ttrain-auc:0.812861+0.00118228\ttest-auc:0.72957+0.000261126\n",
      "[88]\ttrain-auc:0.813588+0.00123868\ttest-auc:0.729802+0.000469758\n",
      "[89]\ttrain-auc:0.814185+0.00139519\ttest-auc:0.73014+0.000797257\n",
      "[90]\ttrain-auc:0.814911+0.00141252\ttest-auc:0.730337+0.000865508\n",
      "[91]\ttrain-auc:0.815354+0.00158308\ttest-auc:0.73032+0.000864489\n",
      "[92]\ttrain-auc:0.816034+0.00172212\ttest-auc:0.730185+0.000854924\n",
      "[93]\ttrain-auc:0.816667+0.00191991\ttest-auc:0.730433+0.00097248\n",
      "[94]\ttrain-auc:0.817328+0.00188277\ttest-auc:0.730447+0.00103094\n",
      "[95]\ttrain-auc:0.81849+0.00190973\ttest-auc:0.730474+0.000701131\n",
      "[96]\ttrain-auc:0.819126+0.00193698\ttest-auc:0.730617+0.000601716\n",
      "[97]\ttrain-auc:0.819772+0.00194431\ttest-auc:0.730613+0.00066163\n",
      "[98]\ttrain-auc:0.820643+0.00180706\ttest-auc:0.730754+0.000449036\n",
      "[99]\ttrain-auc:0.821428+0.0019676\ttest-auc:0.731067+0.000642278\n",
      "[100]\ttrain-auc:0.822295+0.00176842\ttest-auc:0.731155+0.000638797\n",
      "[101]\ttrain-auc:0.822933+0.00163018\ttest-auc:0.731137+0.000266218\n",
      "[102]\ttrain-auc:0.823565+0.00176055\ttest-auc:0.73128+0.000171653\n",
      "[103]\ttrain-auc:0.823919+0.00172256\ttest-auc:0.731414+8.64908e-05\n",
      "[104]\ttrain-auc:0.824434+0.00169283\ttest-auc:0.73141+0.000187586\n",
      "[105]\ttrain-auc:0.825052+0.00144754\ttest-auc:0.731429+0.000281466\n",
      "[106]\ttrain-auc:0.825818+0.00146257\ttest-auc:0.731483+0.000201327\n",
      "[107]\ttrain-auc:0.826379+0.0015029\ttest-auc:0.731283+0.000317573\n",
      "[108]\ttrain-auc:0.826976+0.00155208\ttest-auc:0.731239+0.000364566\n",
      "[109]\ttrain-auc:0.827412+0.00167022\ttest-auc:0.731237+0.000623383\n",
      "[110]\ttrain-auc:0.828089+0.00151379\ttest-auc:0.731094+0.000485187\n",
      "[111]\ttrain-auc:0.828841+0.00152497\ttest-auc:0.731009+0.000650242\n",
      "[112]\ttrain-auc:0.829614+0.00134795\ttest-auc:0.731052+0.000806613\n",
      "[113]\ttrain-auc:0.830279+0.00138795\ttest-auc:0.731224+0.000540852\n",
      "[114]\ttrain-auc:0.830802+0.00128856\ttest-auc:0.731194+0.0005115\n",
      "[115]\ttrain-auc:0.831227+0.00153742\ttest-auc:0.731155+0.000643053\n"
     ]
    }
   ],
   "source": [
    "results = xgb.cv(parameters, xgb_train, num_rounds, early_stopping_rounds=10,\n",
    "                 folds=skf, verbose_eval=1)"
   ]
  },
  {
   "cell_type": "code",
   "execution_count": 1254,
   "metadata": {},
   "outputs": [
    {
     "data": {
      "text/html": [
       "<div>\n",
       "<style>\n",
       "    .dataframe thead tr:only-child th {\n",
       "        text-align: right;\n",
       "    }\n",
       "\n",
       "    .dataframe thead th {\n",
       "        text-align: left;\n",
       "    }\n",
       "\n",
       "    .dataframe tbody tr th {\n",
       "        vertical-align: top;\n",
       "    }\n",
       "</style>\n",
       "<table border=\"1\" class=\"dataframe\">\n",
       "  <thead>\n",
       "    <tr style=\"text-align: right;\">\n",
       "      <th></th>\n",
       "      <th>test-auc-mean</th>\n",
       "      <th>test-auc-std</th>\n",
       "      <th>train-auc-mean</th>\n",
       "      <th>train-auc-std</th>\n",
       "    </tr>\n",
       "  </thead>\n",
       "  <tbody>\n",
       "    <tr>\n",
       "      <th>0</th>\n",
       "      <td>0.660656</td>\n",
       "      <td>0.006931</td>\n",
       "      <td>0.671133</td>\n",
       "      <td>0.006006</td>\n",
       "    </tr>\n",
       "    <tr>\n",
       "      <th>1</th>\n",
       "      <td>0.677087</td>\n",
       "      <td>0.003996</td>\n",
       "      <td>0.691690</td>\n",
       "      <td>0.004330</td>\n",
       "    </tr>\n",
       "    <tr>\n",
       "      <th>2</th>\n",
       "      <td>0.685278</td>\n",
       "      <td>0.004399</td>\n",
       "      <td>0.699460</td>\n",
       "      <td>0.002860</td>\n",
       "    </tr>\n",
       "    <tr>\n",
       "      <th>3</th>\n",
       "      <td>0.688373</td>\n",
       "      <td>0.005001</td>\n",
       "      <td>0.705996</td>\n",
       "      <td>0.003954</td>\n",
       "    </tr>\n",
       "    <tr>\n",
       "      <th>4</th>\n",
       "      <td>0.693732</td>\n",
       "      <td>0.007068</td>\n",
       "      <td>0.711048</td>\n",
       "      <td>0.000928</td>\n",
       "    </tr>\n",
       "  </tbody>\n",
       "</table>\n",
       "</div>"
      ],
      "text/plain": [
       "   test-auc-mean  test-auc-std  train-auc-mean  train-auc-std\n",
       "0       0.660656      0.006931        0.671133       0.006006\n",
       "1       0.677087      0.003996        0.691690       0.004330\n",
       "2       0.685278      0.004399        0.699460       0.002860\n",
       "3       0.688373      0.005001        0.705996       0.003954\n",
       "4       0.693732      0.007068        0.711048       0.000928"
      ]
     },
     "execution_count": 1254,
     "metadata": {},
     "output_type": "execute_result"
    }
   ],
   "source": [
    "results.head()"
   ]
  },
  {
   "cell_type": "code",
   "execution_count": 1255,
   "metadata": {},
   "outputs": [
    {
     "name": "stdout",
     "output_type": "stream",
     "text": [
      "0.731483 107\n"
     ]
    }
   ],
   "source": [
    "print(max(results['test-auc-mean']), len(results['test-auc-mean']))\n"
   ]
  },
  {
   "cell_type": "code",
   "execution_count": 1256,
   "metadata": {},
   "outputs": [],
   "source": [
    "model = xgb.XGBClassifier(binary='binary:logistic',\n",
    "    base_score = 0.7,\n",
    "    eta= 0.1,\n",
    "    num_round = 107,\n",
    "    nthread= 4,\n",
    "    # regularization parameters\n",
    "    max_depth = 4, \n",
    "    max_leaves= 32,\n",
    "    #min_child_weight = 0.05,\n",
    "    max_delta_step = 0,\n",
    "    subsample= 0.7,\n",
    "    colsample_bytree= 0.7,\n",
    "    refresh_leaf = 1,\n",
    "    eval_metric= 'auc',\n",
    "    tree_method = 'hist')"
   ]
  },
  {
   "cell_type": "code",
   "execution_count": 1257,
   "metadata": {},
   "outputs": [
    {
     "data": {
      "text/plain": [
       "XGBClassifier(base_score=0.7, binary='binary:logistic', booster='gbtree',\n",
       "       colsample_bylevel=1, colsample_bytree=0.7, eta=0.1,\n",
       "       eval_metric='auc', gamma=0, learning_rate=0.1, max_delta_step=0,\n",
       "       max_depth=4, max_leaves=32, min_child_weight=1, missing=None,\n",
       "       n_estimators=100, n_jobs=1, nthread=4, num_round=107,\n",
       "       objective='binary:logistic', random_state=0, refresh_leaf=1,\n",
       "       reg_alpha=0, reg_lambda=1, scale_pos_weight=1, seed=None,\n",
       "       silent=True, subsample=0.7, tree_method='hist')"
      ]
     },
     "execution_count": 1257,
     "metadata": {},
     "output_type": "execute_result"
    }
   ],
   "source": [
    "model.fit(X=X_train, y=y_train, verbose=1)"
   ]
  },
  {
   "cell_type": "code",
   "execution_count": 1230,
   "metadata": {},
   "outputs": [],
   "source": [
    "val_pred = model.predict_proba(X_val)"
   ]
  },
  {
   "cell_type": "code",
   "execution_count": 1231,
   "metadata": {},
   "outputs": [
    {
     "data": {
      "text/plain": [
       "0.748857727149153"
      ]
     },
     "execution_count": 1231,
     "metadata": {},
     "output_type": "execute_result"
    }
   ],
   "source": [
    "roc_auc_score(y_val,val_pred[:,1])#0.748857727149153 0.7467943004410285 0.7470185745213075 0.7470180486735226 0.7470169969779527 0.7452065030543868 0.7467943004410285 0.7466775622327708 0.7467943004410285"
   ]
  },
  {
   "cell_type": "code",
   "execution_count": 1044,
   "metadata": {},
   "outputs": [
    {
     "data": {
      "text/plain": [
       "XGBClassifier(base_score=0.7, binary='binary:logistic', booster='gbtree',\n",
       "       colsample_bylevel=1, colsample_bytree=0.7, eta=0.1,\n",
       "       eval_metric='auc', gamma=0, learning_rate=0.1, max_delta_step=0,\n",
       "       max_depth=4, max_leaves=32, min_child_weight=1, missing=None,\n",
       "       n_estimators=100, n_jobs=1, nthread=4, num_round=107,\n",
       "       objective='binary:logistic', random_state=0, refresh_leaf=1,\n",
       "       reg_alpha=0, reg_lambda=1, scale_pos_weight=1, seed=None,\n",
       "       silent=True, subsample=0.7, tree_method='hist')"
      ]
     },
     "execution_count": 1044,
     "metadata": {},
     "output_type": "execute_result"
    }
   ],
   "source": [
    "model.fit(X=X, y=y, verbose=1)"
   ]
  },
  {
   "cell_type": "code",
   "execution_count": 1045,
   "metadata": {
    "collapsed": true
   },
   "outputs": [],
   "source": [
    "X_test = test.drop(['0'], axis=1)\n",
    "y_test = test['0']"
   ]
  },
  {
   "cell_type": "code",
   "execution_count": 1046,
   "metadata": {},
   "outputs": [],
   "source": [
    "predict_xgb = model.predict_proba(X_test)"
   ]
  },
  {
   "cell_type": "code",
   "execution_count": 1047,
   "metadata": {
    "collapsed": true
   },
   "outputs": [],
   "source": [
    "test_index = pd.read_csv('test.csv', sep='\\t')\n",
    "test_index = test_index['Unnamed: 0']"
   ]
  },
  {
   "cell_type": "code",
   "execution_count": 1048,
   "metadata": {
    "collapsed": true
   },
   "outputs": [],
   "source": [
    "submition = pd.DataFrame({'_ID_': test_index, '_VAL_': np.zeros_like(test_index)})\n",
    "submition['_VAL_'] = predict_xgb[:,1]\n",
    "submition.to_csv('submission_xgb.csv', index=False)"
   ]
  },
  {
   "cell_type": "markdown",
   "metadata": {},
   "source": [
    "# cv 0.748857727149153\n",
    "# LB 0.75328152"
   ]
  },
  {
   "cell_type": "markdown",
   "metadata": {},
   "source": [
    "# LightGBM"
   ]
  },
  {
   "cell_type": "code",
   "execution_count": 1259,
   "metadata": {},
   "outputs": [],
   "source": [
    "parameters = {\n",
    "    'objective': 'binary',\n",
    "    'boost':'gbdt',\n",
    "    'learning_rate': 0.1,\n",
    "    'learning_rate': 0.1,\n",
    "    'num_threads': 4,\n",
    "    'metric': 'auc',\n",
    "    'colsample_bytree': 0.8,\n",
    "    'subsample': 0.8,\n",
    "    'subsample_freq': 1,\n",
    "    'min_data_in_leaf': 15,\n",
    "    'cat_smooth': 10,\n",
    "    'min_data_per_group': 40,\n",
    "    'max_depth':4,\n",
    "    'num_leaves' : 25,\n",
    "    'n_trees':140,\n",
    "}\n",
    "n_rounds = 10000"
   ]
  },
  {
   "cell_type": "code",
   "execution_count": 1260,
   "metadata": {
    "collapsed": true
   },
   "outputs": [],
   "source": [
    "lgb_train = lgb.Dataset(X, label=y, free_raw_data=False)"
   ]
  },
  {
   "cell_type": "code",
   "execution_count": 1199,
   "metadata": {},
   "outputs": [
    {
     "name": "stdout",
     "output_type": "stream",
     "text": [
      "[1]\tcv_agg's auc: 0.665225 + 0.00211299\n",
      "[2]\tcv_agg's auc: 0.68213 + 0.00602095\n",
      "[3]\tcv_agg's auc: 0.690216 + 0.00601505\n",
      "[4]\tcv_agg's auc: 0.69333 + 0.00459103\n",
      "[5]\tcv_agg's auc: 0.696374 + 0.00588247\n",
      "[6]\tcv_agg's auc: 0.69787 + 0.00578632\n",
      "[7]\tcv_agg's auc: 0.700498 + 0.00541619\n",
      "[8]\tcv_agg's auc: 0.701822 + 0.00496066\n",
      "[9]\tcv_agg's auc: 0.703757 + 0.00497327\n",
      "[10]\tcv_agg's auc: 0.70573 + 0.00527157\n",
      "[11]\tcv_agg's auc: 0.707065 + 0.00602357\n",
      "[12]\tcv_agg's auc: 0.708264 + 0.00578034\n",
      "[13]\tcv_agg's auc: 0.709593 + 0.00513989\n",
      "[14]\tcv_agg's auc: 0.710494 + 0.00606343\n",
      "[15]\tcv_agg's auc: 0.710683 + 0.00624467\n",
      "[16]\tcv_agg's auc: 0.712006 + 0.00648105\n",
      "[17]\tcv_agg's auc: 0.712995 + 0.00649271\n",
      "[18]\tcv_agg's auc: 0.713757 + 0.00648126\n",
      "[19]\tcv_agg's auc: 0.714066 + 0.00661968\n",
      "[20]\tcv_agg's auc: 0.71469 + 0.00666435\n",
      "[21]\tcv_agg's auc: 0.715831 + 0.00611832\n",
      "[22]\tcv_agg's auc: 0.716946 + 0.00589303\n",
      "[23]\tcv_agg's auc: 0.718012 + 0.00567794\n",
      "[24]\tcv_agg's auc: 0.719256 + 0.00599265\n",
      "[25]\tcv_agg's auc: 0.719763 + 0.00574429\n",
      "[26]\tcv_agg's auc: 0.720576 + 0.00573939\n",
      "[27]\tcv_agg's auc: 0.721393 + 0.00563585\n",
      "[28]\tcv_agg's auc: 0.722303 + 0.0054931\n",
      "[29]\tcv_agg's auc: 0.723144 + 0.00560995\n",
      "[30]\tcv_agg's auc: 0.723726 + 0.00585815\n",
      "[31]\tcv_agg's auc: 0.72448 + 0.00579862\n",
      "[32]\tcv_agg's auc: 0.725018 + 0.00523331\n",
      "[33]\tcv_agg's auc: 0.725722 + 0.00517286\n",
      "[34]\tcv_agg's auc: 0.726282 + 0.00499995\n",
      "[35]\tcv_agg's auc: 0.72678 + 0.00469471\n",
      "[36]\tcv_agg's auc: 0.727254 + 0.00459728\n",
      "[37]\tcv_agg's auc: 0.728073 + 0.0044381\n",
      "[38]\tcv_agg's auc: 0.728325 + 0.00437806\n",
      "[39]\tcv_agg's auc: 0.728873 + 0.00439466\n",
      "[40]\tcv_agg's auc: 0.729273 + 0.00446023\n",
      "[41]\tcv_agg's auc: 0.729584 + 0.00465501\n",
      "[42]\tcv_agg's auc: 0.729608 + 0.00493273\n",
      "[43]\tcv_agg's auc: 0.730082 + 0.00484363\n",
      "[44]\tcv_agg's auc: 0.730469 + 0.00482562\n",
      "[45]\tcv_agg's auc: 0.730711 + 0.00461879\n",
      "[46]\tcv_agg's auc: 0.731266 + 0.00452324\n",
      "[47]\tcv_agg's auc: 0.731216 + 0.00471795\n",
      "[48]\tcv_agg's auc: 0.731713 + 0.00493545\n",
      "[49]\tcv_agg's auc: 0.731884 + 0.0050632\n",
      "[50]\tcv_agg's auc: 0.732031 + 0.00488906\n",
      "[51]\tcv_agg's auc: 0.73215 + 0.00488526\n",
      "[52]\tcv_agg's auc: 0.732185 + 0.00499933\n",
      "[53]\tcv_agg's auc: 0.732744 + 0.00465679\n",
      "[54]\tcv_agg's auc: 0.73285 + 0.00466904\n",
      "[55]\tcv_agg's auc: 0.733338 + 0.00460559\n",
      "[56]\tcv_agg's auc: 0.733783 + 0.00454144\n",
      "[57]\tcv_agg's auc: 0.733965 + 0.00440769\n",
      "[58]\tcv_agg's auc: 0.734294 + 0.00459792\n",
      "[59]\tcv_agg's auc: 0.734573 + 0.00483056\n",
      "[60]\tcv_agg's auc: 0.734632 + 0.00499327\n",
      "[61]\tcv_agg's auc: 0.734891 + 0.0050409\n",
      "[62]\tcv_agg's auc: 0.73513 + 0.00505281\n",
      "[63]\tcv_agg's auc: 0.735383 + 0.00508816\n",
      "[64]\tcv_agg's auc: 0.735327 + 0.00486953\n",
      "[65]\tcv_agg's auc: 0.735421 + 0.00518999\n",
      "[66]\tcv_agg's auc: 0.735495 + 0.00511611\n",
      "[67]\tcv_agg's auc: 0.735514 + 0.00515684\n",
      "[68]\tcv_agg's auc: 0.735838 + 0.00523662\n",
      "[69]\tcv_agg's auc: 0.736113 + 0.00569833\n",
      "[70]\tcv_agg's auc: 0.736369 + 0.00576675\n",
      "[71]\tcv_agg's auc: 0.736554 + 0.00555497\n",
      "[72]\tcv_agg's auc: 0.736792 + 0.00548811\n",
      "[73]\tcv_agg's auc: 0.736878 + 0.00554721\n",
      "[74]\tcv_agg's auc: 0.737114 + 0.00552549\n",
      "[75]\tcv_agg's auc: 0.737081 + 0.00544766\n",
      "[76]\tcv_agg's auc: 0.737204 + 0.00537965\n",
      "[77]\tcv_agg's auc: 0.737348 + 0.00520577\n",
      "[78]\tcv_agg's auc: 0.737294 + 0.00510882\n",
      "[79]\tcv_agg's auc: 0.737404 + 0.00501091\n",
      "[80]\tcv_agg's auc: 0.737494 + 0.00497137\n",
      "[81]\tcv_agg's auc: 0.737568 + 0.0050536\n",
      "[82]\tcv_agg's auc: 0.7376 + 0.00514757\n",
      "[83]\tcv_agg's auc: 0.737894 + 0.00546964\n",
      "[84]\tcv_agg's auc: 0.73812 + 0.00555181\n",
      "[85]\tcv_agg's auc: 0.738015 + 0.00569633\n",
      "[86]\tcv_agg's auc: 0.738128 + 0.00557187\n",
      "[87]\tcv_agg's auc: 0.738135 + 0.00586946\n",
      "[88]\tcv_agg's auc: 0.738043 + 0.005958\n",
      "[89]\tcv_agg's auc: 0.738194 + 0.00596884\n",
      "[90]\tcv_agg's auc: 0.73808 + 0.00603216\n",
      "[91]\tcv_agg's auc: 0.738155 + 0.00609437\n",
      "[92]\tcv_agg's auc: 0.738381 + 0.00596698\n",
      "[93]\tcv_agg's auc: 0.738488 + 0.00599559\n",
      "[94]\tcv_agg's auc: 0.738488 + 0.00596933\n",
      "[95]\tcv_agg's auc: 0.738523 + 0.00593577\n",
      "[96]\tcv_agg's auc: 0.738891 + 0.0060566\n",
      "[97]\tcv_agg's auc: 0.738919 + 0.00617455\n",
      "[98]\tcv_agg's auc: 0.739074 + 0.0059077\n",
      "[99]\tcv_agg's auc: 0.739161 + 0.00607166\n",
      "[100]\tcv_agg's auc: 0.739237 + 0.00607626\n",
      "[101]\tcv_agg's auc: 0.73949 + 0.00605421\n",
      "[102]\tcv_agg's auc: 0.739582 + 0.00598713\n",
      "[103]\tcv_agg's auc: 0.739487 + 0.00593627\n",
      "[104]\tcv_agg's auc: 0.739485 + 0.00594382\n",
      "[105]\tcv_agg's auc: 0.73956 + 0.00594168\n",
      "[106]\tcv_agg's auc: 0.739957 + 0.00577196\n",
      "[107]\tcv_agg's auc: 0.739961 + 0.00595256\n",
      "[108]\tcv_agg's auc: 0.740014 + 0.00589622\n",
      "[109]\tcv_agg's auc: 0.739996 + 0.00594737\n",
      "[110]\tcv_agg's auc: 0.739958 + 0.00607202\n",
      "[111]\tcv_agg's auc: 0.739948 + 0.00596145\n",
      "[112]\tcv_agg's auc: 0.739969 + 0.00595033\n",
      "[113]\tcv_agg's auc: 0.739786 + 0.00599543\n",
      "[114]\tcv_agg's auc: 0.739943 + 0.00606305\n",
      "[115]\tcv_agg's auc: 0.740099 + 0.00619057\n",
      "[116]\tcv_agg's auc: 0.740214 + 0.00621772\n",
      "[117]\tcv_agg's auc: 0.740399 + 0.00617488\n",
      "[118]\tcv_agg's auc: 0.74061 + 0.00601439\n",
      "[119]\tcv_agg's auc: 0.740666 + 0.00609131\n",
      "[120]\tcv_agg's auc: 0.740593 + 0.00604549\n",
      "[121]\tcv_agg's auc: 0.740702 + 0.00596146\n",
      "[122]\tcv_agg's auc: 0.740749 + 0.00610325\n",
      "[123]\tcv_agg's auc: 0.740858 + 0.00590439\n",
      "[124]\tcv_agg's auc: 0.740964 + 0.00587995\n",
      "[125]\tcv_agg's auc: 0.741162 + 0.00609886\n",
      "[126]\tcv_agg's auc: 0.741214 + 0.00619938\n",
      "[127]\tcv_agg's auc: 0.741146 + 0.00613229\n",
      "[128]\tcv_agg's auc: 0.741262 + 0.00611821\n",
      "[129]\tcv_agg's auc: 0.741282 + 0.00616601\n",
      "[130]\tcv_agg's auc: 0.741244 + 0.0061175\n",
      "[131]\tcv_agg's auc: 0.74114 + 0.00622398\n",
      "[132]\tcv_agg's auc: 0.741263 + 0.0063371\n",
      "[133]\tcv_agg's auc: 0.741392 + 0.00636697\n",
      "[134]\tcv_agg's auc: 0.741363 + 0.00629401\n",
      "[135]\tcv_agg's auc: 0.741525 + 0.00628805\n",
      "[136]\tcv_agg's auc: 0.741591 + 0.00621022\n",
      "[137]\tcv_agg's auc: 0.74174 + 0.00614485\n",
      "[138]\tcv_agg's auc: 0.741601 + 0.00610539\n",
      "[139]\tcv_agg's auc: 0.741672 + 0.00614027\n",
      "[140]\tcv_agg's auc: 0.741766 + 0.0061238\n",
      "[141]\tcv_agg's auc: 0.741651 + 0.00623684\n",
      "[142]\tcv_agg's auc: 0.741608 + 0.00633637\n",
      "[143]\tcv_agg's auc: 0.741751 + 0.00617161\n",
      "[144]\tcv_agg's auc: 0.741677 + 0.00604867\n",
      "[145]\tcv_agg's auc: 0.741646 + 0.00610616\n",
      "[146]\tcv_agg's auc: 0.741689 + 0.00619123\n",
      "[147]\tcv_agg's auc: 0.741601 + 0.00619268\n",
      "[148]\tcv_agg's auc: 0.741627 + 0.00615452\n",
      "[149]\tcv_agg's auc: 0.741586 + 0.00596599\n",
      "[150]\tcv_agg's auc: 0.741482 + 0.00608469\n"
     ]
    }
   ],
   "source": [
    "result = lgb.cv(parameters, lgb_train, n_rounds, folds=skf.split(X, y), early_stopping_rounds=10, verbose_eval=1, )"
   ]
  },
  {
   "cell_type": "code",
   "execution_count": 1200,
   "metadata": {},
   "outputs": [
    {
     "data": {
      "text/plain": [
       "(0.7417662406887991, 140)"
      ]
     },
     "execution_count": 1200,
     "metadata": {},
     "output_type": "execute_result"
    }
   ],
   "source": [
    "max(result['auc-mean']), len(result['auc-mean'])"
   ]
  },
  {
   "cell_type": "code",
   "execution_count": 1201,
   "metadata": {},
   "outputs": [
    {
     "data": {
      "text/plain": [
       "0.7417662406887991"
      ]
     },
     "execution_count": 1201,
     "metadata": {},
     "output_type": "execute_result"
    }
   ],
   "source": [
    "0.7417662406887991"
   ]
  },
  {
   "cell_type": "code",
   "execution_count": 1202,
   "metadata": {},
   "outputs": [],
   "source": []
  },
  {
   "cell_type": "code",
   "execution_count": 1261,
   "metadata": {
    "collapsed": true
   },
   "outputs": [],
   "source": [
    "X_train, X_val, y_train, y_val = train_test_split(X, y, test_size=0.12, random_state=42)"
   ]
  },
  {
   "cell_type": "code",
   "execution_count": 1262,
   "metadata": {},
   "outputs": [],
   "source": [
    "train_data = lgb.Dataset(X_train, y_train)"
   ]
  },
  {
   "cell_type": "code",
   "execution_count": 1263,
   "metadata": {
    "collapsed": true
   },
   "outputs": [],
   "source": [
    "#X_train,y_train"
   ]
  },
  {
   "cell_type": "code",
   "execution_count": 1264,
   "metadata": {
    "collapsed": true
   },
   "outputs": [],
   "source": [
    "n_rounds = 140"
   ]
  },
  {
   "cell_type": "code",
   "execution_count": 1265,
   "metadata": {},
   "outputs": [],
   "source": [
    "bst = lgb.train(parameters, train_data, n_rounds)"
   ]
  },
  {
   "cell_type": "code",
   "execution_count": 1244,
   "metadata": {},
   "outputs": [],
   "source": [
    "val_pred = bst.predict(X_val,num_iteration=bst.best_iteration)"
   ]
  },
  {
   "cell_type": "code",
   "execution_count": 1245,
   "metadata": {},
   "outputs": [
    {
     "data": {
      "text/plain": [
       "array([0.18435973, 0.12721367, 0.10777017, ..., 0.06167979, 0.12118198,\n",
       "       0.5146969 ])"
      ]
     },
     "execution_count": 1245,
     "metadata": {},
     "output_type": "execute_result"
    }
   ],
   "source": [
    "val_pred"
   ]
  },
  {
   "cell_type": "code",
   "execution_count": 1246,
   "metadata": {},
   "outputs": [
    {
     "data": {
      "text/plain": [
       "0.7445762744841302"
      ]
     },
     "execution_count": 1246,
     "metadata": {},
     "output_type": "execute_result"
    }
   ],
   "source": [
    "roc_auc_score(y_val,val_pred)# 0.7470185745213075 0.7470180486735226 0.7470169969779527 0.7452065030543868 0.7467943004410285 0.7466775622327708 0.7467943004410285"
   ]
  },
  {
   "cell_type": "code",
   "execution_count": 1122,
   "metadata": {},
   "outputs": [
    {
     "data": {
      "text/plain": [
       "7467785250074802"
      ]
     },
     "execution_count": 1122,
     "metadata": {},
     "output_type": "execute_result"
    }
   ],
   "source": [
    "7467785250074802"
   ]
  },
  {
   "cell_type": "code",
   "execution_count": 1163,
   "metadata": {
    "collapsed": true
   },
   "outputs": [],
   "source": [
    "X_test = test.drop(['0'], axis=1)\n",
    "y_test = test['0']"
   ]
  },
  {
   "cell_type": "code",
   "execution_count": null,
   "metadata": {
    "collapsed": true
   },
   "outputs": [],
   "source": []
  },
  {
   "cell_type": "code",
   "execution_count": 1164,
   "metadata": {
    "collapsed": true
   },
   "outputs": [],
   "source": [
    "predict_lgb = bst.predict(X_test,num_iteration=bst.best_iteration)"
   ]
  },
  {
   "cell_type": "code",
   "execution_count": 1165,
   "metadata": {
    "collapsed": true
   },
   "outputs": [],
   "source": [
    "test_index = pd.read_csv('test.csv', sep='\\t')\n",
    "test_index = test_index['Unnamed: 0']"
   ]
  },
  {
   "cell_type": "code",
   "execution_count": 1166,
   "metadata": {},
   "outputs": [],
   "source": [
    "submition = pd.DataFrame({'_ID_': test_index, '_VAL_': np.zeros_like(test_index)})\n",
    "submition['_VAL_'] = predict_lgb\n",
    "submition.to_csv('submission_lgb_2.csv', index=False)"
   ]
  },
  {
   "cell_type": "markdown",
   "metadata": {},
   "source": [
    "# cv 7445762744841302\n",
    "# lb 0.74997541"
   ]
  },
  {
   "cell_type": "markdown",
   "metadata": {},
   "source": [
    "# CatBoost"
   ]
  },
  {
   "cell_type": "code",
   "execution_count": 1211,
   "metadata": {
    "collapsed": true
   },
   "outputs": [],
   "source": [
    "import catboost as ctb"
   ]
  },
  {
   "cell_type": "code",
   "execution_count": 1212,
   "metadata": {
    "collapsed": true
   },
   "outputs": [],
   "source": [
    "ctb_data = ctb.Pool(X,y)"
   ]
  },
  {
   "cell_type": "code",
   "execution_count": 1213,
   "metadata": {
    "collapsed": true
   },
   "outputs": [],
   "source": [
    "parameters = {\n",
    "   'eval_metric': 'AUC',\n",
    "}"
   ]
  },
  {
   "cell_type": "code",
   "execution_count": 1214,
   "metadata": {},
   "outputs": [
    {
     "name": "stdout",
     "output_type": "stream",
     "text": [
      "0:\tlearn: 0.6326269\ttest: 0.6279181\tbest: 0.6279181 (0)\ttotal: 587ms\tremaining: 9m 46s\n",
      "1:\tlearn: 0.6699014\ttest: 0.6662706\tbest: 0.6662706 (1)\ttotal: 952ms\tremaining: 7m 54s\n",
      "2:\tlearn: 0.6778677\ttest: 0.6721965\tbest: 0.6721965 (2)\ttotal: 1.32s\tremaining: 7m 18s\n",
      "3:\tlearn: 0.6797696\ttest: 0.6742282\tbest: 0.6742282 (3)\ttotal: 1.68s\tremaining: 6m 59s\n",
      "4:\tlearn: 0.6851759\ttest: 0.6777598\tbest: 0.6777598 (4)\ttotal: 2.04s\tremaining: 6m 46s\n",
      "5:\tlearn: 0.6867105\ttest: 0.6787802\tbest: 0.6787802 (5)\ttotal: 2.44s\tremaining: 6m 44s\n",
      "6:\tlearn: 0.6887171\ttest: 0.6799080\tbest: 0.6799080 (6)\ttotal: 2.83s\tremaining: 6m 41s\n",
      "7:\tlearn: 0.6898727\ttest: 0.6804936\tbest: 0.6804936 (7)\ttotal: 3.2s\tremaining: 6m 36s\n",
      "8:\tlearn: 0.6902141\ttest: 0.6808548\tbest: 0.6808548 (8)\ttotal: 3.57s\tremaining: 6m 32s\n",
      "9:\tlearn: 0.6909350\ttest: 0.6808837\tbest: 0.6808837 (9)\ttotal: 3.93s\tremaining: 6m 29s\n",
      "10:\tlearn: 0.6908245\ttest: 0.6804729\tbest: 0.6808837 (9)\ttotal: 4.32s\tremaining: 6m 28s\n",
      "11:\tlearn: 0.6902957\ttest: 0.6803632\tbest: 0.6808837 (9)\ttotal: 4.66s\tremaining: 6m 24s\n",
      "12:\tlearn: 0.6911757\ttest: 0.6813971\tbest: 0.6813971 (12)\ttotal: 5.03s\tremaining: 6m 21s\n",
      "13:\tlearn: 0.6911935\ttest: 0.6816130\tbest: 0.6816130 (13)\ttotal: 5.38s\tremaining: 6m 18s\n",
      "14:\tlearn: 0.6922556\ttest: 0.6823623\tbest: 0.6823623 (14)\ttotal: 5.73s\tremaining: 6m 16s\n",
      "15:\tlearn: 0.6922884\ttest: 0.6825221\tbest: 0.6825221 (15)\ttotal: 6.09s\tremaining: 6m 14s\n",
      "16:\tlearn: 0.6920321\ttest: 0.6823445\tbest: 0.6825221 (15)\ttotal: 6.46s\tremaining: 6m 13s\n",
      "17:\tlearn: 0.6928580\ttest: 0.6830956\tbest: 0.6830956 (17)\ttotal: 6.81s\tremaining: 6m 11s\n",
      "18:\tlearn: 0.6934290\ttest: 0.6841458\tbest: 0.6841458 (18)\ttotal: 7.17s\tremaining: 6m 10s\n",
      "19:\tlearn: 0.6938916\ttest: 0.6845654\tbest: 0.6845654 (19)\ttotal: 7.55s\tremaining: 6m 9s\n",
      "20:\tlearn: 0.6941106\ttest: 0.6848290\tbest: 0.6848290 (20)\ttotal: 7.94s\tremaining: 6m 10s\n",
      "21:\tlearn: 0.6944651\ttest: 0.6853901\tbest: 0.6853901 (21)\ttotal: 8.31s\tremaining: 6m 9s\n",
      "22:\tlearn: 0.6957730\ttest: 0.6863828\tbest: 0.6863828 (22)\ttotal: 8.68s\tremaining: 6m 8s\n",
      "23:\tlearn: 0.6968280\ttest: 0.6870379\tbest: 0.6870379 (23)\ttotal: 9.06s\tremaining: 6m 8s\n",
      "24:\tlearn: 0.6971750\ttest: 0.6875996\tbest: 0.6875996 (24)\ttotal: 9.46s\tremaining: 6m 8s\n",
      "25:\tlearn: 0.6974856\ttest: 0.6881253\tbest: 0.6881253 (25)\ttotal: 9.82s\tremaining: 6m 7s\n",
      "26:\tlearn: 0.6979829\ttest: 0.6885137\tbest: 0.6885137 (26)\ttotal: 10.2s\tremaining: 6m 7s\n",
      "27:\tlearn: 0.6990663\ttest: 0.6894763\tbest: 0.6894763 (27)\ttotal: 10.6s\tremaining: 6m 6s\n",
      "28:\tlearn: 0.6998916\ttest: 0.6902595\tbest: 0.6902595 (28)\ttotal: 10.9s\tremaining: 6m 6s\n",
      "29:\tlearn: 0.7009315\ttest: 0.6910666\tbest: 0.6910666 (29)\ttotal: 11.3s\tremaining: 6m 6s\n",
      "30:\tlearn: 0.7012550\ttest: 0.6916787\tbest: 0.6916787 (30)\ttotal: 11.7s\tremaining: 6m 5s\n",
      "31:\tlearn: 0.7013765\ttest: 0.6914880\tbest: 0.6916787 (30)\ttotal: 12.1s\tremaining: 6m 5s\n",
      "32:\tlearn: 0.7021527\ttest: 0.6921323\tbest: 0.6921323 (32)\ttotal: 12.4s\tremaining: 6m 4s\n",
      "33:\tlearn: 0.7023966\ttest: 0.6919675\tbest: 0.6921323 (32)\ttotal: 12.8s\tremaining: 6m 3s\n",
      "34:\tlearn: 0.7026773\ttest: 0.6923226\tbest: 0.6923226 (34)\ttotal: 13.2s\tremaining: 6m 3s\n",
      "35:\tlearn: 0.7032483\ttest: 0.6927772\tbest: 0.6927772 (35)\ttotal: 13.6s\tremaining: 6m 3s\n",
      "36:\tlearn: 0.7035506\ttest: 0.6928877\tbest: 0.6928877 (36)\ttotal: 13.9s\tremaining: 6m 2s\n",
      "37:\tlearn: 0.7041443\ttest: 0.6933891\tbest: 0.6933891 (37)\ttotal: 14.3s\tremaining: 6m 1s\n",
      "38:\tlearn: 0.7046380\ttest: 0.6937317\tbest: 0.6937317 (38)\ttotal: 14.7s\tremaining: 6m 1s\n",
      "39:\tlearn: 0.7048741\ttest: 0.6940695\tbest: 0.6940695 (39)\ttotal: 15s\tremaining: 6m\n",
      "40:\tlearn: 0.7056759\ttest: 0.6947483\tbest: 0.6947483 (40)\ttotal: 15.4s\tremaining: 6m\n",
      "41:\tlearn: 0.7061893\ttest: 0.6952161\tbest: 0.6952161 (41)\ttotal: 15.8s\tremaining: 5m 59s\n",
      "42:\tlearn: 0.7069529\ttest: 0.6957574\tbest: 0.6957574 (42)\ttotal: 16.1s\tremaining: 5m 58s\n",
      "43:\tlearn: 0.7076319\ttest: 0.6963049\tbest: 0.6963049 (43)\ttotal: 16.5s\tremaining: 5m 58s\n",
      "44:\tlearn: 0.7083386\ttest: 0.6968034\tbest: 0.6968034 (44)\ttotal: 16.9s\tremaining: 5m 58s\n",
      "45:\tlearn: 0.7086321\ttest: 0.6970469\tbest: 0.6970469 (45)\ttotal: 17.2s\tremaining: 5m 57s\n",
      "46:\tlearn: 0.7090710\ttest: 0.6974339\tbest: 0.6974339 (46)\ttotal: 17.6s\tremaining: 5m 56s\n",
      "47:\tlearn: 0.7096311\ttest: 0.6981760\tbest: 0.6981760 (47)\ttotal: 18s\tremaining: 5m 56s\n",
      "48:\tlearn: 0.7100939\ttest: 0.6985366\tbest: 0.6985366 (48)\ttotal: 18.3s\tremaining: 5m 56s\n",
      "49:\tlearn: 0.7105340\ttest: 0.6988776\tbest: 0.6988776 (49)\ttotal: 18.7s\tremaining: 5m 55s\n",
      "50:\tlearn: 0.7110607\ttest: 0.6995246\tbest: 0.6995246 (50)\ttotal: 19.1s\tremaining: 5m 55s\n",
      "51:\tlearn: 0.7115666\ttest: 0.6999074\tbest: 0.6999074 (51)\ttotal: 19.5s\tremaining: 5m 54s\n",
      "52:\tlearn: 0.7119004\ttest: 0.7000756\tbest: 0.7000756 (52)\ttotal: 19.8s\tremaining: 5m 54s\n",
      "53:\tlearn: 0.7125546\ttest: 0.7004702\tbest: 0.7004702 (53)\ttotal: 20.2s\tremaining: 5m 53s\n",
      "54:\tlearn: 0.7130273\ttest: 0.7007683\tbest: 0.7007683 (54)\ttotal: 20.6s\tremaining: 5m 53s\n",
      "55:\tlearn: 0.7134339\ttest: 0.7011794\tbest: 0.7011794 (55)\ttotal: 20.9s\tremaining: 5m 52s\n",
      "56:\tlearn: 0.7137854\ttest: 0.7014501\tbest: 0.7014501 (56)\ttotal: 21.3s\tremaining: 5m 52s\n",
      "57:\tlearn: 0.7145409\ttest: 0.7019479\tbest: 0.7019479 (57)\ttotal: 21.7s\tremaining: 5m 52s\n",
      "58:\tlearn: 0.7150914\ttest: 0.7024478\tbest: 0.7024478 (58)\ttotal: 22.1s\tremaining: 5m 51s\n",
      "59:\tlearn: 0.7155102\ttest: 0.7027317\tbest: 0.7027317 (59)\ttotal: 22.4s\tremaining: 5m 51s\n",
      "60:\tlearn: 0.7157727\ttest: 0.7029499\tbest: 0.7029499 (60)\ttotal: 22.8s\tremaining: 5m 50s\n",
      "61:\tlearn: 0.7162938\ttest: 0.7033249\tbest: 0.7033249 (61)\ttotal: 23.2s\tremaining: 5m 50s\n",
      "62:\tlearn: 0.7167459\ttest: 0.7037283\tbest: 0.7037283 (62)\ttotal: 23.5s\tremaining: 5m 50s\n",
      "63:\tlearn: 0.7170968\ttest: 0.7040582\tbest: 0.7040582 (63)\ttotal: 23.9s\tremaining: 5m 49s\n",
      "64:\tlearn: 0.7177035\ttest: 0.7044629\tbest: 0.7044629 (64)\ttotal: 24.3s\tremaining: 5m 49s\n",
      "65:\tlearn: 0.7180201\ttest: 0.7047957\tbest: 0.7047957 (65)\ttotal: 24.6s\tremaining: 5m 48s\n",
      "66:\tlearn: 0.7183848\ttest: 0.7052586\tbest: 0.7052586 (66)\ttotal: 25s\tremaining: 5m 48s\n",
      "67:\tlearn: 0.7189330\ttest: 0.7055804\tbest: 0.7055804 (67)\ttotal: 25.4s\tremaining: 5m 47s\n",
      "68:\tlearn: 0.7193967\ttest: 0.7059217\tbest: 0.7059217 (68)\ttotal: 25.7s\tremaining: 5m 47s\n",
      "69:\tlearn: 0.7197615\ttest: 0.7061564\tbest: 0.7061564 (69)\ttotal: 26.1s\tremaining: 5m 46s\n",
      "70:\tlearn: 0.7204080\ttest: 0.7065727\tbest: 0.7065727 (70)\ttotal: 26.5s\tremaining: 5m 46s\n",
      "71:\tlearn: 0.7207998\ttest: 0.7068170\tbest: 0.7068170 (71)\ttotal: 26.8s\tremaining: 5m 45s\n",
      "72:\tlearn: 0.7211937\ttest: 0.7071099\tbest: 0.7071099 (72)\ttotal: 27.2s\tremaining: 5m 45s\n",
      "73:\tlearn: 0.7214940\ttest: 0.7074326\tbest: 0.7074326 (73)\ttotal: 27.5s\tremaining: 5m 44s\n",
      "74:\tlearn: 0.7218153\ttest: 0.7075837\tbest: 0.7075837 (74)\ttotal: 28s\tremaining: 5m 44s\n",
      "75:\tlearn: 0.7221972\ttest: 0.7078799\tbest: 0.7078799 (75)\ttotal: 28.4s\tremaining: 5m 45s\n",
      "76:\tlearn: 0.7226917\ttest: 0.7082109\tbest: 0.7082109 (76)\ttotal: 28.8s\tremaining: 5m 44s\n",
      "77:\tlearn: 0.7230867\ttest: 0.7084632\tbest: 0.7084632 (77)\ttotal: 29.2s\tremaining: 5m 44s\n",
      "78:\tlearn: 0.7235763\ttest: 0.7087953\tbest: 0.7087953 (78)\ttotal: 29.5s\tremaining: 5m 44s\n",
      "79:\tlearn: 0.7240083\ttest: 0.7092630\tbest: 0.7092630 (79)\ttotal: 29.9s\tremaining: 5m 43s\n",
      "80:\tlearn: 0.7243336\ttest: 0.7094356\tbest: 0.7094356 (80)\ttotal: 30.3s\tremaining: 5m 43s\n",
      "81:\tlearn: 0.7246135\ttest: 0.7095857\tbest: 0.7095857 (81)\ttotal: 30.7s\tremaining: 5m 43s\n",
      "82:\tlearn: 0.7249538\ttest: 0.7098176\tbest: 0.7098176 (82)\ttotal: 31.1s\tremaining: 5m 43s\n",
      "83:\tlearn: 0.7252362\ttest: 0.7099536\tbest: 0.7099536 (83)\ttotal: 31.5s\tremaining: 5m 43s\n",
      "84:\tlearn: 0.7256668\ttest: 0.7101153\tbest: 0.7101153 (84)\ttotal: 31.9s\tremaining: 5m 42s\n",
      "85:\tlearn: 0.7259664\ttest: 0.7103516\tbest: 0.7103516 (85)\ttotal: 32.3s\tremaining: 5m 43s\n",
      "86:\tlearn: 0.7264051\ttest: 0.7105911\tbest: 0.7105911 (86)\ttotal: 32.7s\tremaining: 5m 42s\n",
      "87:\tlearn: 0.7267431\ttest: 0.7108895\tbest: 0.7108895 (87)\ttotal: 33s\tremaining: 5m 42s\n",
      "88:\tlearn: 0.7269876\ttest: 0.7110363\tbest: 0.7110363 (88)\ttotal: 33.4s\tremaining: 5m 41s\n",
      "89:\tlearn: 0.7272958\ttest: 0.7113098\tbest: 0.7113098 (89)\ttotal: 33.8s\tremaining: 5m 41s\n",
      "90:\tlearn: 0.7276312\ttest: 0.7115613\tbest: 0.7115613 (90)\ttotal: 34.2s\tremaining: 5m 41s\n",
      "91:\tlearn: 0.7279803\ttest: 0.7117836\tbest: 0.7117836 (91)\ttotal: 34.6s\tremaining: 5m 41s\n",
      "92:\tlearn: 0.7283203\ttest: 0.7121209\tbest: 0.7121209 (92)\ttotal: 35s\tremaining: 5m 41s\n"
     ]
    },
    {
     "name": "stdout",
     "output_type": "stream",
     "text": [
      "93:\tlearn: 0.7287047\ttest: 0.7122444\tbest: 0.7122444 (93)\ttotal: 35.4s\tremaining: 5m 41s\n",
      "94:\tlearn: 0.7291051\ttest: 0.7124937\tbest: 0.7124937 (94)\ttotal: 35.8s\tremaining: 5m 40s\n",
      "95:\tlearn: 0.7293953\ttest: 0.7127500\tbest: 0.7127500 (95)\ttotal: 36.2s\tremaining: 5m 40s\n",
      "96:\tlearn: 0.7296015\ttest: 0.7127894\tbest: 0.7127894 (96)\ttotal: 36.6s\tremaining: 5m 40s\n",
      "97:\tlearn: 0.7298367\ttest: 0.7129687\tbest: 0.7129687 (97)\ttotal: 36.9s\tremaining: 5m 39s\n",
      "98:\tlearn: 0.7300954\ttest: 0.7131587\tbest: 0.7131587 (98)\ttotal: 37.3s\tremaining: 5m 39s\n",
      "99:\tlearn: 0.7303666\ttest: 0.7134380\tbest: 0.7134380 (99)\ttotal: 37.7s\tremaining: 5m 39s\n",
      "100:\tlearn: 0.7306050\ttest: 0.7136013\tbest: 0.7136013 (100)\ttotal: 38.1s\tremaining: 5m 38s\n",
      "101:\tlearn: 0.7308729\ttest: 0.7136989\tbest: 0.7136989 (101)\ttotal: 38.4s\tremaining: 5m 38s\n",
      "102:\tlearn: 0.7311173\ttest: 0.7139252\tbest: 0.7139252 (102)\ttotal: 38.8s\tremaining: 5m 38s\n",
      "103:\tlearn: 0.7313909\ttest: 0.7140051\tbest: 0.7140051 (103)\ttotal: 39.2s\tremaining: 5m 37s\n",
      "104:\tlearn: 0.7316837\ttest: 0.7142885\tbest: 0.7142885 (104)\ttotal: 39.6s\tremaining: 5m 37s\n",
      "105:\tlearn: 0.7319939\ttest: 0.7144660\tbest: 0.7144660 (105)\ttotal: 40s\tremaining: 5m 37s\n",
      "106:\tlearn: 0.7323334\ttest: 0.7146614\tbest: 0.7146614 (106)\ttotal: 40.3s\tremaining: 5m 36s\n",
      "107:\tlearn: 0.7327647\ttest: 0.7149078\tbest: 0.7149078 (107)\ttotal: 40.7s\tremaining: 5m 36s\n",
      "108:\tlearn: 0.7330087\ttest: 0.7149870\tbest: 0.7149870 (108)\ttotal: 41.1s\tremaining: 5m 35s\n",
      "109:\tlearn: 0.7332217\ttest: 0.7151356\tbest: 0.7151356 (109)\ttotal: 41.4s\tremaining: 5m 34s\n",
      "110:\tlearn: 0.7334101\ttest: 0.7152455\tbest: 0.7152455 (110)\ttotal: 41.7s\tremaining: 5m 34s\n",
      "111:\tlearn: 0.7337719\ttest: 0.7155160\tbest: 0.7155160 (111)\ttotal: 42.1s\tremaining: 5m 33s\n",
      "112:\tlearn: 0.7341061\ttest: 0.7157308\tbest: 0.7157308 (112)\ttotal: 42.5s\tremaining: 5m 33s\n",
      "113:\tlearn: 0.7343234\ttest: 0.7157893\tbest: 0.7157893 (113)\ttotal: 42.8s\tremaining: 5m 33s\n",
      "114:\tlearn: 0.7346368\ttest: 0.7159897\tbest: 0.7159897 (114)\ttotal: 43.2s\tremaining: 5m 32s\n",
      "115:\tlearn: 0.7348260\ttest: 0.7160681\tbest: 0.7160681 (115)\ttotal: 43.6s\tremaining: 5m 32s\n",
      "116:\tlearn: 0.7351405\ttest: 0.7162829\tbest: 0.7162829 (116)\ttotal: 43.9s\tremaining: 5m 31s\n",
      "117:\tlearn: 0.7354661\ttest: 0.7163987\tbest: 0.7163987 (117)\ttotal: 44.3s\tremaining: 5m 31s\n",
      "118:\tlearn: 0.7357232\ttest: 0.7165604\tbest: 0.7165604 (118)\ttotal: 44.7s\tremaining: 5m 30s\n",
      "119:\tlearn: 0.7359140\ttest: 0.7167585\tbest: 0.7167585 (119)\ttotal: 45s\tremaining: 5m 30s\n",
      "120:\tlearn: 0.7361417\ttest: 0.7169310\tbest: 0.7169310 (120)\ttotal: 45.4s\tremaining: 5m 29s\n",
      "121:\tlearn: 0.7364178\ttest: 0.7170205\tbest: 0.7170205 (121)\ttotal: 45.8s\tremaining: 5m 29s\n",
      "122:\tlearn: 0.7365916\ttest: 0.7170963\tbest: 0.7170963 (122)\ttotal: 46.2s\tremaining: 5m 29s\n",
      "123:\tlearn: 0.7368675\ttest: 0.7172371\tbest: 0.7172371 (123)\ttotal: 46.6s\tremaining: 5m 28s\n",
      "124:\tlearn: 0.7370733\ttest: 0.7173556\tbest: 0.7173556 (124)\ttotal: 46.9s\tremaining: 5m 28s\n",
      "125:\tlearn: 0.7374246\ttest: 0.7175599\tbest: 0.7175599 (125)\ttotal: 47.3s\tremaining: 5m 28s\n",
      "126:\tlearn: 0.7377203\ttest: 0.7176732\tbest: 0.7176732 (126)\ttotal: 47.7s\tremaining: 5m 27s\n",
      "127:\tlearn: 0.7379884\ttest: 0.7178394\tbest: 0.7178394 (127)\ttotal: 48.1s\tremaining: 5m 27s\n",
      "128:\tlearn: 0.7381976\ttest: 0.7179496\tbest: 0.7179496 (128)\ttotal: 48.5s\tremaining: 5m 27s\n",
      "129:\tlearn: 0.7385209\ttest: 0.7180318\tbest: 0.7180318 (129)\ttotal: 48.9s\tremaining: 5m 27s\n",
      "130:\tlearn: 0.7387883\ttest: 0.7182129\tbest: 0.7182129 (130)\ttotal: 49.3s\tremaining: 5m 27s\n",
      "131:\tlearn: 0.7389810\ttest: 0.7183225\tbest: 0.7183225 (131)\ttotal: 49.7s\tremaining: 5m 26s\n",
      "132:\tlearn: 0.7391916\ttest: 0.7183676\tbest: 0.7183676 (132)\ttotal: 50.1s\tremaining: 5m 26s\n",
      "133:\tlearn: 0.7393691\ttest: 0.7184904\tbest: 0.7184904 (133)\ttotal: 50.5s\tremaining: 5m 26s\n",
      "134:\tlearn: 0.7396931\ttest: 0.7186598\tbest: 0.7186598 (134)\ttotal: 51s\tremaining: 5m 26s\n",
      "135:\tlearn: 0.7398237\ttest: 0.7187054\tbest: 0.7187054 (135)\ttotal: 51.3s\tremaining: 5m 26s\n",
      "136:\tlearn: 0.7401081\ttest: 0.7189342\tbest: 0.7189342 (136)\ttotal: 51.7s\tremaining: 5m 25s\n",
      "137:\tlearn: 0.7404447\ttest: 0.7191797\tbest: 0.7191797 (137)\ttotal: 52.1s\tremaining: 5m 25s\n",
      "138:\tlearn: 0.7407246\ttest: 0.7193682\tbest: 0.7193682 (138)\ttotal: 52.5s\tremaining: 5m 25s\n",
      "139:\tlearn: 0.7408871\ttest: 0.7194922\tbest: 0.7194922 (139)\ttotal: 52.9s\tremaining: 5m 24s\n",
      "140:\tlearn: 0.7411095\ttest: 0.7196552\tbest: 0.7196552 (140)\ttotal: 53.2s\tremaining: 5m 24s\n",
      "141:\tlearn: 0.7413412\ttest: 0.7197010\tbest: 0.7197010 (141)\ttotal: 53.6s\tremaining: 5m 24s\n",
      "142:\tlearn: 0.7416014\ttest: 0.7197553\tbest: 0.7197553 (142)\ttotal: 54s\tremaining: 5m 23s\n",
      "143:\tlearn: 0.7417807\ttest: 0.7199045\tbest: 0.7199045 (143)\ttotal: 54.4s\tremaining: 5m 23s\n",
      "144:\tlearn: 0.7420466\ttest: 0.7199700\tbest: 0.7199700 (144)\ttotal: 54.8s\tremaining: 5m 22s\n",
      "145:\tlearn: 0.7423162\ttest: 0.7201148\tbest: 0.7201148 (145)\ttotal: 55.1s\tremaining: 5m 22s\n",
      "146:\tlearn: 0.7425597\ttest: 0.7202194\tbest: 0.7202194 (146)\ttotal: 55.5s\tremaining: 5m 22s\n",
      "147:\tlearn: 0.7428538\ttest: 0.7203384\tbest: 0.7203384 (147)\ttotal: 55.9s\tremaining: 5m 21s\n",
      "148:\tlearn: 0.7430485\ttest: 0.7204586\tbest: 0.7204586 (148)\ttotal: 56.3s\tremaining: 5m 21s\n",
      "149:\tlearn: 0.7432414\ttest: 0.7205166\tbest: 0.7205166 (149)\ttotal: 56.7s\tremaining: 5m 21s\n",
      "150:\tlearn: 0.7434575\ttest: 0.7205291\tbest: 0.7205291 (150)\ttotal: 57.1s\tremaining: 5m 20s\n",
      "151:\tlearn: 0.7435965\ttest: 0.7206103\tbest: 0.7206103 (151)\ttotal: 57.5s\tremaining: 5m 20s\n",
      "152:\tlearn: 0.7438728\ttest: 0.7207783\tbest: 0.7207783 (152)\ttotal: 57.8s\tremaining: 5m 20s\n",
      "153:\tlearn: 0.7441150\ttest: 0.7209196\tbest: 0.7209196 (153)\ttotal: 58.2s\tremaining: 5m 19s\n",
      "154:\tlearn: 0.7443086\ttest: 0.7210615\tbest: 0.7210615 (154)\ttotal: 58.6s\tremaining: 5m 19s\n",
      "155:\tlearn: 0.7446625\ttest: 0.7213487\tbest: 0.7213487 (155)\ttotal: 59s\tremaining: 5m 19s\n",
      "156:\tlearn: 0.7448991\ttest: 0.7215034\tbest: 0.7215034 (156)\ttotal: 59.4s\tremaining: 5m 18s\n",
      "157:\tlearn: 0.7451461\ttest: 0.7215664\tbest: 0.7215664 (157)\ttotal: 59.7s\tremaining: 5m 18s\n",
      "158:\tlearn: 0.7454205\ttest: 0.7217677\tbest: 0.7217677 (158)\ttotal: 1m\tremaining: 5m 18s\n",
      "159:\tlearn: 0.7455888\ttest: 0.7218490\tbest: 0.7218490 (159)\ttotal: 1m\tremaining: 5m 17s\n",
      "160:\tlearn: 0.7457651\ttest: 0.7219497\tbest: 0.7219497 (160)\ttotal: 1m\tremaining: 5m 17s\n",
      "161:\tlearn: 0.7460419\ttest: 0.7220513\tbest: 0.7220513 (161)\ttotal: 1m 1s\tremaining: 5m 17s\n",
      "162:\tlearn: 0.7462397\ttest: 0.7221710\tbest: 0.7221710 (162)\ttotal: 1m 1s\tremaining: 5m 17s\n",
      "163:\tlearn: 0.7464158\ttest: 0.7222344\tbest: 0.7222344 (163)\ttotal: 1m 2s\tremaining: 5m 16s\n",
      "164:\tlearn: 0.7466254\ttest: 0.7222682\tbest: 0.7222682 (164)\ttotal: 1m 2s\tremaining: 5m 16s\n",
      "165:\tlearn: 0.7468080\ttest: 0.7222365\tbest: 0.7222682 (164)\ttotal: 1m 2s\tremaining: 5m 16s\n",
      "166:\tlearn: 0.7470442\ttest: 0.7223362\tbest: 0.7223362 (166)\ttotal: 1m 3s\tremaining: 5m 15s\n",
      "167:\tlearn: 0.7473014\ttest: 0.7225282\tbest: 0.7225282 (167)\ttotal: 1m 3s\tremaining: 5m 15s\n",
      "168:\tlearn: 0.7474779\ttest: 0.7225682\tbest: 0.7225682 (168)\ttotal: 1m 4s\tremaining: 5m 15s\n",
      "169:\tlearn: 0.7476523\ttest: 0.7227008\tbest: 0.7227008 (169)\ttotal: 1m 4s\tremaining: 5m 14s\n",
      "170:\tlearn: 0.7477697\ttest: 0.7227291\tbest: 0.7227291 (170)\ttotal: 1m 4s\tremaining: 5m 14s\n",
      "171:\tlearn: 0.7479701\ttest: 0.7228066\tbest: 0.7228066 (171)\ttotal: 1m 5s\tremaining: 5m 14s\n",
      "172:\tlearn: 0.7481890\ttest: 0.7229365\tbest: 0.7229365 (172)\ttotal: 1m 5s\tremaining: 5m 13s\n",
      "173:\tlearn: 0.7484074\ttest: 0.7230032\tbest: 0.7230032 (173)\ttotal: 1m 6s\tremaining: 5m 13s\n",
      "174:\tlearn: 0.7486137\ttest: 0.7230937\tbest: 0.7230937 (174)\ttotal: 1m 6s\tremaining: 5m 13s\n",
      "175:\tlearn: 0.7488538\ttest: 0.7231696\tbest: 0.7231696 (175)\ttotal: 1m 6s\tremaining: 5m 12s\n",
      "176:\tlearn: 0.7490474\ttest: 0.7232277\tbest: 0.7232277 (176)\ttotal: 1m 7s\tremaining: 5m 12s\n",
      "177:\tlearn: 0.7493808\ttest: 0.7233263\tbest: 0.7233263 (177)\ttotal: 1m 7s\tremaining: 5m 11s\n",
      "178:\tlearn: 0.7495503\ttest: 0.7233668\tbest: 0.7233668 (178)\ttotal: 1m 7s\tremaining: 5m 11s\n",
      "179:\tlearn: 0.7497507\ttest: 0.7235011\tbest: 0.7235011 (179)\ttotal: 1m 8s\tremaining: 5m 11s\n",
      "180:\tlearn: 0.7499636\ttest: 0.7235619\tbest: 0.7235619 (180)\ttotal: 1m 8s\tremaining: 5m 10s\n",
      "181:\tlearn: 0.7501668\ttest: 0.7235759\tbest: 0.7235759 (181)\ttotal: 1m 9s\tremaining: 5m 10s\n",
      "182:\tlearn: 0.7503582\ttest: 0.7237292\tbest: 0.7237292 (182)\ttotal: 1m 9s\tremaining: 5m 9s\n",
      "183:\tlearn: 0.7505486\ttest: 0.7237605\tbest: 0.7237605 (183)\ttotal: 1m 9s\tremaining: 5m 9s\n"
     ]
    },
    {
     "name": "stdout",
     "output_type": "stream",
     "text": [
      "184:\tlearn: 0.7507890\ttest: 0.7238753\tbest: 0.7238753 (184)\ttotal: 1m 10s\tremaining: 5m 9s\n",
      "185:\tlearn: 0.7510123\ttest: 0.7239782\tbest: 0.7239782 (185)\ttotal: 1m 10s\tremaining: 5m 8s\n",
      "186:\tlearn: 0.7512438\ttest: 0.7239567\tbest: 0.7239782 (185)\ttotal: 1m 10s\tremaining: 5m 8s\n",
      "187:\tlearn: 0.7515118\ttest: 0.7240301\tbest: 0.7240301 (187)\ttotal: 1m 11s\tremaining: 5m 8s\n",
      "188:\tlearn: 0.7516262\ttest: 0.7240542\tbest: 0.7240542 (188)\ttotal: 1m 11s\tremaining: 5m 7s\n",
      "189:\tlearn: 0.7518215\ttest: 0.7241163\tbest: 0.7241163 (189)\ttotal: 1m 12s\tremaining: 5m 7s\n",
      "190:\tlearn: 0.7520046\ttest: 0.7241707\tbest: 0.7241707 (190)\ttotal: 1m 12s\tremaining: 5m 7s\n",
      "191:\tlearn: 0.7522058\ttest: 0.7242094\tbest: 0.7242094 (191)\ttotal: 1m 12s\tremaining: 5m 7s\n",
      "192:\tlearn: 0.7524126\ttest: 0.7242515\tbest: 0.7242515 (192)\ttotal: 1m 13s\tremaining: 5m 6s\n",
      "193:\tlearn: 0.7525168\ttest: 0.7242985\tbest: 0.7242985 (193)\ttotal: 1m 13s\tremaining: 5m 6s\n",
      "194:\tlearn: 0.7526709\ttest: 0.7243774\tbest: 0.7243774 (194)\ttotal: 1m 14s\tremaining: 5m 5s\n",
      "195:\tlearn: 0.7528539\ttest: 0.7244830\tbest: 0.7244830 (195)\ttotal: 1m 14s\tremaining: 5m 5s\n",
      "196:\tlearn: 0.7530327\ttest: 0.7245172\tbest: 0.7245172 (196)\ttotal: 1m 14s\tremaining: 5m 5s\n",
      "197:\tlearn: 0.7532069\ttest: 0.7245883\tbest: 0.7245883 (197)\ttotal: 1m 15s\tremaining: 5m 4s\n",
      "198:\tlearn: 0.7534187\ttest: 0.7247083\tbest: 0.7247083 (198)\ttotal: 1m 15s\tremaining: 5m 4s\n",
      "199:\tlearn: 0.7536162\ttest: 0.7247855\tbest: 0.7247855 (199)\ttotal: 1m 15s\tremaining: 5m 3s\n",
      "200:\tlearn: 0.7537684\ttest: 0.7248382\tbest: 0.7248382 (200)\ttotal: 1m 16s\tremaining: 5m 3s\n",
      "201:\tlearn: 0.7538962\ttest: 0.7248626\tbest: 0.7248626 (201)\ttotal: 1m 16s\tremaining: 5m 2s\n",
      "202:\tlearn: 0.7540163\ttest: 0.7249174\tbest: 0.7249174 (202)\ttotal: 1m 17s\tremaining: 5m 2s\n",
      "203:\tlearn: 0.7542148\ttest: 0.7249773\tbest: 0.7249773 (203)\ttotal: 1m 17s\tremaining: 5m 2s\n",
      "204:\tlearn: 0.7544697\ttest: 0.7251479\tbest: 0.7251479 (204)\ttotal: 1m 17s\tremaining: 5m 1s\n",
      "205:\tlearn: 0.7546923\ttest: 0.7252375\tbest: 0.7252375 (205)\ttotal: 1m 18s\tremaining: 5m 1s\n",
      "206:\tlearn: 0.7548154\ttest: 0.7252864\tbest: 0.7252864 (206)\ttotal: 1m 18s\tremaining: 5m\n",
      "207:\tlearn: 0.7549699\ttest: 0.7253230\tbest: 0.7253230 (207)\ttotal: 1m 18s\tremaining: 5m\n",
      "208:\tlearn: 0.7552065\ttest: 0.7254195\tbest: 0.7254195 (208)\ttotal: 1m 19s\tremaining: 5m\n",
      "209:\tlearn: 0.7553872\ttest: 0.7254894\tbest: 0.7254894 (209)\ttotal: 1m 19s\tremaining: 4m 59s\n",
      "210:\tlearn: 0.7555369\ttest: 0.7255130\tbest: 0.7255130 (210)\ttotal: 1m 20s\tremaining: 4m 59s\n",
      "211:\tlearn: 0.7557197\ttest: 0.7256129\tbest: 0.7256129 (211)\ttotal: 1m 20s\tremaining: 4m 58s\n",
      "212:\tlearn: 0.7560373\ttest: 0.7257492\tbest: 0.7257492 (212)\ttotal: 1m 20s\tremaining: 4m 58s\n",
      "213:\tlearn: 0.7562284\ttest: 0.7257924\tbest: 0.7257924 (213)\ttotal: 1m 21s\tremaining: 4m 58s\n",
      "214:\tlearn: 0.7563819\ttest: 0.7258957\tbest: 0.7258957 (214)\ttotal: 1m 21s\tremaining: 4m 58s\n",
      "215:\tlearn: 0.7564965\ttest: 0.7260073\tbest: 0.7260073 (215)\ttotal: 1m 22s\tremaining: 4m 58s\n",
      "216:\tlearn: 0.7566825\ttest: 0.7260733\tbest: 0.7260733 (216)\ttotal: 1m 22s\tremaining: 4m 58s\n",
      "217:\tlearn: 0.7568410\ttest: 0.7260924\tbest: 0.7260924 (217)\ttotal: 1m 23s\tremaining: 4m 57s\n",
      "218:\tlearn: 0.7569698\ttest: 0.7261511\tbest: 0.7261511 (218)\ttotal: 1m 23s\tremaining: 4m 57s\n",
      "219:\tlearn: 0.7571760\ttest: 0.7262287\tbest: 0.7262287 (219)\ttotal: 1m 23s\tremaining: 4m 57s\n",
      "220:\tlearn: 0.7573200\ttest: 0.7262718\tbest: 0.7262718 (220)\ttotal: 1m 24s\tremaining: 4m 56s\n",
      "221:\tlearn: 0.7575611\ttest: 0.7264174\tbest: 0.7264174 (221)\ttotal: 1m 24s\tremaining: 4m 56s\n",
      "222:\tlearn: 0.7577737\ttest: 0.7265973\tbest: 0.7265973 (222)\ttotal: 1m 24s\tremaining: 4m 55s\n",
      "223:\tlearn: 0.7579149\ttest: 0.7266463\tbest: 0.7266463 (223)\ttotal: 1m 25s\tremaining: 4m 55s\n",
      "224:\tlearn: 0.7580508\ttest: 0.7266583\tbest: 0.7266583 (224)\ttotal: 1m 25s\tremaining: 4m 55s\n",
      "225:\tlearn: 0.7582072\ttest: 0.7267010\tbest: 0.7267010 (225)\ttotal: 1m 26s\tremaining: 4m 54s\n",
      "226:\tlearn: 0.7583858\ttest: 0.7267726\tbest: 0.7267726 (226)\ttotal: 1m 26s\tremaining: 4m 54s\n",
      "227:\tlearn: 0.7585395\ttest: 0.7268150\tbest: 0.7268150 (227)\ttotal: 1m 26s\tremaining: 4m 53s\n",
      "228:\tlearn: 0.7586489\ttest: 0.7268605\tbest: 0.7268605 (228)\ttotal: 1m 27s\tremaining: 4m 53s\n",
      "229:\tlearn: 0.7588300\ttest: 0.7269147\tbest: 0.7269147 (229)\ttotal: 1m 27s\tremaining: 4m 53s\n",
      "230:\tlearn: 0.7590006\ttest: 0.7269563\tbest: 0.7269563 (230)\ttotal: 1m 27s\tremaining: 4m 52s\n",
      "231:\tlearn: 0.7591734\ttest: 0.7270408\tbest: 0.7270408 (231)\ttotal: 1m 28s\tremaining: 4m 52s\n",
      "232:\tlearn: 0.7593317\ttest: 0.7270809\tbest: 0.7270809 (232)\ttotal: 1m 28s\tremaining: 4m 52s\n",
      "233:\tlearn: 0.7595451\ttest: 0.7272142\tbest: 0.7272142 (233)\ttotal: 1m 29s\tremaining: 4m 51s\n",
      "234:\tlearn: 0.7596914\ttest: 0.7272990\tbest: 0.7272990 (234)\ttotal: 1m 29s\tremaining: 4m 51s\n",
      "235:\tlearn: 0.7598493\ttest: 0.7273315\tbest: 0.7273315 (235)\ttotal: 1m 29s\tremaining: 4m 51s\n",
      "236:\tlearn: 0.7599896\ttest: 0.7273910\tbest: 0.7273910 (236)\ttotal: 1m 30s\tremaining: 4m 50s\n",
      "237:\tlearn: 0.7601499\ttest: 0.7274285\tbest: 0.7274285 (237)\ttotal: 1m 30s\tremaining: 4m 50s\n",
      "238:\tlearn: 0.7603218\ttest: 0.7274947\tbest: 0.7274947 (238)\ttotal: 1m 31s\tremaining: 4m 50s\n",
      "239:\tlearn: 0.7604529\ttest: 0.7275862\tbest: 0.7275862 (239)\ttotal: 1m 31s\tremaining: 4m 49s\n",
      "240:\tlearn: 0.7606459\ttest: 0.7275873\tbest: 0.7275873 (240)\ttotal: 1m 31s\tremaining: 4m 49s\n",
      "241:\tlearn: 0.7608501\ttest: 0.7276170\tbest: 0.7276170 (241)\ttotal: 1m 32s\tremaining: 4m 48s\n",
      "242:\tlearn: 0.7610200\ttest: 0.7276899\tbest: 0.7276899 (242)\ttotal: 1m 32s\tremaining: 4m 48s\n",
      "243:\tlearn: 0.7611841\ttest: 0.7277531\tbest: 0.7277531 (243)\ttotal: 1m 32s\tremaining: 4m 48s\n",
      "244:\tlearn: 0.7613179\ttest: 0.7278142\tbest: 0.7278142 (244)\ttotal: 1m 33s\tremaining: 4m 47s\n",
      "245:\tlearn: 0.7614299\ttest: 0.7278589\tbest: 0.7278589 (245)\ttotal: 1m 33s\tremaining: 4m 47s\n",
      "246:\tlearn: 0.7615979\ttest: 0.7278882\tbest: 0.7278882 (246)\ttotal: 1m 34s\tremaining: 4m 46s\n",
      "247:\tlearn: 0.7618208\ttest: 0.7279454\tbest: 0.7279454 (247)\ttotal: 1m 34s\tremaining: 4m 46s\n",
      "248:\tlearn: 0.7619600\ttest: 0.7279775\tbest: 0.7279775 (248)\ttotal: 1m 34s\tremaining: 4m 46s\n",
      "249:\tlearn: 0.7621351\ttest: 0.7280356\tbest: 0.7280356 (249)\ttotal: 1m 35s\tremaining: 4m 45s\n",
      "250:\tlearn: 0.7622653\ttest: 0.7281227\tbest: 0.7281227 (250)\ttotal: 1m 35s\tremaining: 4m 45s\n",
      "251:\tlearn: 0.7624072\ttest: 0.7282058\tbest: 0.7282058 (251)\ttotal: 1m 36s\tremaining: 4m 45s\n",
      "252:\tlearn: 0.7625612\ttest: 0.7282038\tbest: 0.7282058 (251)\ttotal: 1m 36s\tremaining: 4m 44s\n",
      "253:\tlearn: 0.7627241\ttest: 0.7282250\tbest: 0.7282250 (253)\ttotal: 1m 36s\tremaining: 4m 44s\n",
      "254:\tlearn: 0.7628903\ttest: 0.7283162\tbest: 0.7283162 (254)\ttotal: 1m 37s\tremaining: 4m 44s\n",
      "255:\tlearn: 0.7630213\ttest: 0.7283515\tbest: 0.7283515 (255)\ttotal: 1m 37s\tremaining: 4m 43s\n",
      "256:\tlearn: 0.7632363\ttest: 0.7284447\tbest: 0.7284447 (256)\ttotal: 1m 38s\tremaining: 4m 43s\n",
      "257:\tlearn: 0.7634319\ttest: 0.7286076\tbest: 0.7286076 (257)\ttotal: 1m 38s\tremaining: 4m 43s\n",
      "258:\tlearn: 0.7635921\ttest: 0.7286506\tbest: 0.7286506 (258)\ttotal: 1m 38s\tremaining: 4m 42s\n",
      "259:\tlearn: 0.7637275\ttest: 0.7286885\tbest: 0.7286885 (259)\ttotal: 1m 39s\tremaining: 4m 42s\n",
      "260:\tlearn: 0.7639061\ttest: 0.7287020\tbest: 0.7287020 (260)\ttotal: 1m 39s\tremaining: 4m 42s\n",
      "261:\tlearn: 0.7640457\ttest: 0.7287333\tbest: 0.7287333 (261)\ttotal: 1m 39s\tremaining: 4m 41s\n",
      "262:\tlearn: 0.7642341\ttest: 0.7287850\tbest: 0.7287850 (262)\ttotal: 1m 40s\tremaining: 4m 41s\n",
      "263:\tlearn: 0.7644133\ttest: 0.7288432\tbest: 0.7288432 (263)\ttotal: 1m 40s\tremaining: 4m 40s\n",
      "264:\tlearn: 0.7645153\ttest: 0.7288689\tbest: 0.7288689 (264)\ttotal: 1m 41s\tremaining: 4m 40s\n",
      "265:\tlearn: 0.7646188\ttest: 0.7288859\tbest: 0.7288859 (265)\ttotal: 1m 41s\tremaining: 4m 39s\n",
      "266:\tlearn: 0.7647315\ttest: 0.7289299\tbest: 0.7289299 (266)\ttotal: 1m 41s\tremaining: 4m 39s\n",
      "267:\tlearn: 0.7649586\ttest: 0.7289961\tbest: 0.7289961 (267)\ttotal: 1m 42s\tremaining: 4m 39s\n",
      "268:\tlearn: 0.7651247\ttest: 0.7290658\tbest: 0.7290658 (268)\ttotal: 1m 42s\tremaining: 4m 38s\n",
      "269:\tlearn: 0.7653033\ttest: 0.7290000\tbest: 0.7290658 (268)\ttotal: 1m 43s\tremaining: 4m 38s\n",
      "270:\tlearn: 0.7655426\ttest: 0.7290356\tbest: 0.7290658 (268)\ttotal: 1m 43s\tremaining: 4m 38s\n",
      "271:\tlearn: 0.7656684\ttest: 0.7290565\tbest: 0.7290658 (268)\ttotal: 1m 43s\tremaining: 4m 38s\n",
      "272:\tlearn: 0.7658055\ttest: 0.7290648\tbest: 0.7290658 (268)\ttotal: 1m 44s\tremaining: 4m 37s\n",
      "273:\tlearn: 0.7659686\ttest: 0.7290631\tbest: 0.7290658 (268)\ttotal: 1m 44s\tremaining: 4m 37s\n"
     ]
    },
    {
     "name": "stdout",
     "output_type": "stream",
     "text": [
      "274:\tlearn: 0.7661691\ttest: 0.7291263\tbest: 0.7291263 (274)\ttotal: 1m 45s\tremaining: 4m 37s\n",
      "275:\tlearn: 0.7663419\ttest: 0.7291587\tbest: 0.7291587 (275)\ttotal: 1m 45s\tremaining: 4m 36s\n",
      "276:\tlearn: 0.7664584\ttest: 0.7291992\tbest: 0.7291992 (276)\ttotal: 1m 45s\tremaining: 4m 36s\n",
      "277:\tlearn: 0.7666134\ttest: 0.7292503\tbest: 0.7292503 (277)\ttotal: 1m 46s\tremaining: 4m 36s\n",
      "278:\tlearn: 0.7667211\ttest: 0.7292695\tbest: 0.7292695 (278)\ttotal: 1m 46s\tremaining: 4m 36s\n",
      "279:\tlearn: 0.7668769\ttest: 0.7293081\tbest: 0.7293081 (279)\ttotal: 1m 47s\tremaining: 4m 35s\n",
      "280:\tlearn: 0.7670522\ttest: 0.7293569\tbest: 0.7293569 (280)\ttotal: 1m 47s\tremaining: 4m 35s\n",
      "281:\tlearn: 0.7671758\ttest: 0.7293968\tbest: 0.7293968 (281)\ttotal: 1m 48s\tremaining: 4m 35s\n",
      "282:\tlearn: 0.7674313\ttest: 0.7294172\tbest: 0.7294172 (282)\ttotal: 1m 48s\tremaining: 4m 34s\n",
      "283:\tlearn: 0.7676636\ttest: 0.7294669\tbest: 0.7294669 (283)\ttotal: 1m 48s\tremaining: 4m 34s\n",
      "284:\tlearn: 0.7678643\ttest: 0.7295351\tbest: 0.7295351 (284)\ttotal: 1m 49s\tremaining: 4m 34s\n",
      "285:\tlearn: 0.7679843\ttest: 0.7295228\tbest: 0.7295351 (284)\ttotal: 1m 49s\tremaining: 4m 33s\n",
      "286:\tlearn: 0.7682142\ttest: 0.7296048\tbest: 0.7296048 (286)\ttotal: 1m 50s\tremaining: 4m 33s\n",
      "287:\tlearn: 0.7684118\ttest: 0.7297453\tbest: 0.7297453 (287)\ttotal: 1m 50s\tremaining: 4m 33s\n",
      "288:\tlearn: 0.7685797\ttest: 0.7297762\tbest: 0.7297762 (288)\ttotal: 1m 50s\tremaining: 4m 32s\n",
      "289:\tlearn: 0.7687299\ttest: 0.7298625\tbest: 0.7298625 (289)\ttotal: 1m 51s\tremaining: 4m 32s\n",
      "290:\tlearn: 0.7689306\ttest: 0.7298901\tbest: 0.7298901 (290)\ttotal: 1m 51s\tremaining: 4m 32s\n",
      "291:\tlearn: 0.7690516\ttest: 0.7299446\tbest: 0.7299446 (291)\ttotal: 1m 52s\tremaining: 4m 32s\n",
      "292:\tlearn: 0.7692181\ttest: 0.7299953\tbest: 0.7299953 (292)\ttotal: 1m 52s\tremaining: 4m 31s\n",
      "293:\tlearn: 0.7693411\ttest: 0.7300399\tbest: 0.7300399 (293)\ttotal: 1m 53s\tremaining: 4m 31s\n",
      "294:\tlearn: 0.7694916\ttest: 0.7300239\tbest: 0.7300399 (293)\ttotal: 1m 53s\tremaining: 4m 31s\n",
      "295:\tlearn: 0.7696219\ttest: 0.7300580\tbest: 0.7300580 (295)\ttotal: 1m 53s\tremaining: 4m 31s\n",
      "296:\tlearn: 0.7697865\ttest: 0.7301587\tbest: 0.7301587 (296)\ttotal: 1m 54s\tremaining: 4m 30s\n",
      "297:\tlearn: 0.7699194\ttest: 0.7301369\tbest: 0.7301587 (296)\ttotal: 1m 54s\tremaining: 4m 30s\n",
      "298:\tlearn: 0.7701654\ttest: 0.7301510\tbest: 0.7301587 (296)\ttotal: 1m 55s\tremaining: 4m 30s\n",
      "299:\tlearn: 0.7703098\ttest: 0.7302106\tbest: 0.7302106 (299)\ttotal: 1m 55s\tremaining: 4m 30s\n",
      "300:\tlearn: 0.7704472\ttest: 0.7302462\tbest: 0.7302462 (300)\ttotal: 1m 56s\tremaining: 4m 30s\n",
      "301:\tlearn: 0.7706796\ttest: 0.7302807\tbest: 0.7302807 (301)\ttotal: 1m 56s\tremaining: 4m 30s\n",
      "302:\tlearn: 0.7708228\ttest: 0.7302860\tbest: 0.7302860 (302)\ttotal: 1m 57s\tremaining: 4m 29s\n",
      "303:\tlearn: 0.7709812\ttest: 0.7303101\tbest: 0.7303101 (303)\ttotal: 1m 57s\tremaining: 4m 29s\n",
      "304:\tlearn: 0.7711579\ttest: 0.7303607\tbest: 0.7303607 (304)\ttotal: 1m 58s\tremaining: 4m 29s\n",
      "305:\tlearn: 0.7713326\ttest: 0.7304766\tbest: 0.7304766 (305)\ttotal: 1m 58s\tremaining: 4m 29s\n",
      "306:\tlearn: 0.7715230\ttest: 0.7304968\tbest: 0.7304968 (306)\ttotal: 1m 59s\tremaining: 4m 29s\n",
      "307:\tlearn: 0.7716826\ttest: 0.7305423\tbest: 0.7305423 (307)\ttotal: 1m 59s\tremaining: 4m 29s\n",
      "308:\tlearn: 0.7718436\ttest: 0.7306552\tbest: 0.7306552 (308)\ttotal: 2m\tremaining: 4m 28s\n",
      "309:\tlearn: 0.7719929\ttest: 0.7306929\tbest: 0.7306929 (309)\ttotal: 2m\tremaining: 4m 28s\n",
      "310:\tlearn: 0.7721624\ttest: 0.7308197\tbest: 0.7308197 (310)\ttotal: 2m 1s\tremaining: 4m 28s\n",
      "311:\tlearn: 0.7723648\ttest: 0.7308114\tbest: 0.7308197 (310)\ttotal: 2m 1s\tremaining: 4m 27s\n",
      "312:\tlearn: 0.7725389\ttest: 0.7308470\tbest: 0.7308470 (312)\ttotal: 2m 1s\tremaining: 4m 27s\n",
      "313:\tlearn: 0.7727382\ttest: 0.7308649\tbest: 0.7308649 (313)\ttotal: 2m 2s\tremaining: 4m 27s\n",
      "314:\tlearn: 0.7729534\ttest: 0.7308484\tbest: 0.7308649 (313)\ttotal: 2m 2s\tremaining: 4m 26s\n",
      "315:\tlearn: 0.7730935\ttest: 0.7308898\tbest: 0.7308898 (315)\ttotal: 2m 3s\tremaining: 4m 26s\n",
      "316:\tlearn: 0.7732320\ttest: 0.7309317\tbest: 0.7309317 (316)\ttotal: 2m 3s\tremaining: 4m 26s\n",
      "317:\tlearn: 0.7733668\ttest: 0.7309156\tbest: 0.7309317 (316)\ttotal: 2m 3s\tremaining: 4m 25s\n",
      "318:\tlearn: 0.7735266\ttest: 0.7308870\tbest: 0.7309317 (316)\ttotal: 2m 4s\tremaining: 4m 25s\n",
      "319:\tlearn: 0.7736908\ttest: 0.7309313\tbest: 0.7309317 (316)\ttotal: 2m 4s\tremaining: 4m 24s\n",
      "320:\tlearn: 0.7738330\ttest: 0.7309485\tbest: 0.7309485 (320)\ttotal: 2m 5s\tremaining: 4m 24s\n",
      "321:\tlearn: 0.7739772\ttest: 0.7309815\tbest: 0.7309815 (321)\ttotal: 2m 5s\tremaining: 4m 24s\n",
      "322:\tlearn: 0.7741347\ttest: 0.7310030\tbest: 0.7310030 (322)\ttotal: 2m 5s\tremaining: 4m 23s\n",
      "323:\tlearn: 0.7743284\ttest: 0.7310474\tbest: 0.7310474 (323)\ttotal: 2m 6s\tremaining: 4m 23s\n",
      "324:\tlearn: 0.7744351\ttest: 0.7310774\tbest: 0.7310774 (324)\ttotal: 2m 6s\tremaining: 4m 22s\n",
      "325:\tlearn: 0.7746591\ttest: 0.7310644\tbest: 0.7310774 (324)\ttotal: 2m 7s\tremaining: 4m 22s\n",
      "326:\tlearn: 0.7748237\ttest: 0.7310997\tbest: 0.7310997 (326)\ttotal: 2m 7s\tremaining: 4m 22s\n",
      "327:\tlearn: 0.7749882\ttest: 0.7310794\tbest: 0.7310997 (326)\ttotal: 2m 7s\tremaining: 4m 21s\n",
      "328:\tlearn: 0.7751438\ttest: 0.7311118\tbest: 0.7311118 (328)\ttotal: 2m 8s\tremaining: 4m 21s\n",
      "329:\tlearn: 0.7752705\ttest: 0.7311258\tbest: 0.7311258 (329)\ttotal: 2m 8s\tremaining: 4m 21s\n",
      "330:\tlearn: 0.7754030\ttest: 0.7311535\tbest: 0.7311535 (330)\ttotal: 2m 9s\tremaining: 4m 20s\n",
      "331:\tlearn: 0.7755112\ttest: 0.7311452\tbest: 0.7311535 (330)\ttotal: 2m 9s\tremaining: 4m 20s\n",
      "332:\tlearn: 0.7756583\ttest: 0.7311628\tbest: 0.7311628 (332)\ttotal: 2m 10s\tremaining: 4m 20s\n",
      "333:\tlearn: 0.7758583\ttest: 0.7312177\tbest: 0.7312177 (333)\ttotal: 2m 10s\tremaining: 4m 20s\n",
      "334:\tlearn: 0.7760162\ttest: 0.7312317\tbest: 0.7312317 (334)\ttotal: 2m 11s\tremaining: 4m 20s\n",
      "335:\tlearn: 0.7762097\ttest: 0.7312839\tbest: 0.7312839 (335)\ttotal: 2m 11s\tremaining: 4m 20s\n",
      "336:\tlearn: 0.7764259\ttest: 0.7313340\tbest: 0.7313340 (336)\ttotal: 2m 12s\tremaining: 4m 19s\n",
      "337:\tlearn: 0.7766048\ttest: 0.7313737\tbest: 0.7313737 (337)\ttotal: 2m 12s\tremaining: 4m 19s\n",
      "338:\tlearn: 0.7767843\ttest: 0.7313435\tbest: 0.7313737 (337)\ttotal: 2m 13s\tremaining: 4m 19s\n",
      "339:\tlearn: 0.7769813\ttest: 0.7313394\tbest: 0.7313737 (337)\ttotal: 2m 13s\tremaining: 4m 19s\n",
      "340:\tlearn: 0.7771006\ttest: 0.7313532\tbest: 0.7313737 (337)\ttotal: 2m 13s\tremaining: 4m 18s\n",
      "341:\tlearn: 0.7772282\ttest: 0.7313618\tbest: 0.7313737 (337)\ttotal: 2m 14s\tremaining: 4m 18s\n",
      "342:\tlearn: 0.7774025\ttest: 0.7314318\tbest: 0.7314318 (342)\ttotal: 2m 14s\tremaining: 4m 18s\n",
      "343:\tlearn: 0.7775876\ttest: 0.7314261\tbest: 0.7314318 (342)\ttotal: 2m 15s\tremaining: 4m 17s\n",
      "344:\tlearn: 0.7778086\ttest: 0.7315349\tbest: 0.7315349 (344)\ttotal: 2m 15s\tremaining: 4m 17s\n",
      "345:\tlearn: 0.7779889\ttest: 0.7315366\tbest: 0.7315366 (345)\ttotal: 2m 16s\tremaining: 4m 17s\n",
      "346:\tlearn: 0.7781916\ttest: 0.7315577\tbest: 0.7315577 (346)\ttotal: 2m 16s\tremaining: 4m 17s\n",
      "347:\tlearn: 0.7783616\ttest: 0.7315844\tbest: 0.7315844 (347)\ttotal: 2m 17s\tremaining: 4m 16s\n",
      "348:\tlearn: 0.7784884\ttest: 0.7315913\tbest: 0.7315913 (348)\ttotal: 2m 17s\tremaining: 4m 16s\n",
      "349:\tlearn: 0.7786284\ttest: 0.7316027\tbest: 0.7316027 (349)\ttotal: 2m 18s\tremaining: 4m 16s\n",
      "350:\tlearn: 0.7787790\ttest: 0.7317268\tbest: 0.7317268 (350)\ttotal: 2m 18s\tremaining: 4m 16s\n",
      "351:\tlearn: 0.7789510\ttest: 0.7318232\tbest: 0.7318232 (351)\ttotal: 2m 18s\tremaining: 4m 15s\n",
      "352:\tlearn: 0.7790715\ttest: 0.7318439\tbest: 0.7318439 (352)\ttotal: 2m 19s\tremaining: 4m 15s\n",
      "353:\tlearn: 0.7792384\ttest: 0.7318838\tbest: 0.7318838 (353)\ttotal: 2m 19s\tremaining: 4m 15s\n",
      "354:\tlearn: 0.7794623\ttest: 0.7319259\tbest: 0.7319259 (354)\ttotal: 2m 20s\tremaining: 4m 14s\n",
      "355:\tlearn: 0.7796156\ttest: 0.7319193\tbest: 0.7319259 (354)\ttotal: 2m 20s\tremaining: 4m 14s\n",
      "356:\tlearn: 0.7798129\ttest: 0.7319209\tbest: 0.7319259 (354)\ttotal: 2m 21s\tremaining: 4m 13s\n",
      "357:\tlearn: 0.7799735\ttest: 0.7318952\tbest: 0.7319259 (354)\ttotal: 2m 21s\tremaining: 4m 13s\n",
      "358:\tlearn: 0.7801748\ttest: 0.7320136\tbest: 0.7320136 (358)\ttotal: 2m 21s\tremaining: 4m 13s\n",
      "359:\tlearn: 0.7803490\ttest: 0.7320418\tbest: 0.7320418 (359)\ttotal: 2m 22s\tremaining: 4m 12s\n",
      "360:\tlearn: 0.7805564\ttest: 0.7320936\tbest: 0.7320936 (360)\ttotal: 2m 22s\tremaining: 4m 12s\n",
      "361:\tlearn: 0.7807399\ttest: 0.7321427\tbest: 0.7321427 (361)\ttotal: 2m 23s\tremaining: 4m 12s\n",
      "362:\tlearn: 0.7809391\ttest: 0.7321681\tbest: 0.7321681 (362)\ttotal: 2m 23s\tremaining: 4m 12s\n",
      "363:\tlearn: 0.7810769\ttest: 0.7321947\tbest: 0.7321947 (363)\ttotal: 2m 24s\tremaining: 4m 11s\n"
     ]
    },
    {
     "name": "stdout",
     "output_type": "stream",
     "text": [
      "364:\tlearn: 0.7812495\ttest: 0.7322038\tbest: 0.7322038 (364)\ttotal: 2m 24s\tremaining: 4m 11s\n",
      "365:\tlearn: 0.7813421\ttest: 0.7322318\tbest: 0.7322318 (365)\ttotal: 2m 25s\tremaining: 4m 11s\n",
      "366:\tlearn: 0.7814979\ttest: 0.7322376\tbest: 0.7322376 (366)\ttotal: 2m 25s\tremaining: 4m 10s\n",
      "367:\tlearn: 0.7817030\ttest: 0.7321914\tbest: 0.7322376 (366)\ttotal: 2m 25s\tremaining: 4m 10s\n",
      "368:\tlearn: 0.7818662\ttest: 0.7321832\tbest: 0.7322376 (366)\ttotal: 2m 26s\tremaining: 4m 10s\n",
      "369:\tlearn: 0.7820506\ttest: 0.7322148\tbest: 0.7322376 (366)\ttotal: 2m 26s\tremaining: 4m 9s\n",
      "370:\tlearn: 0.7822033\ttest: 0.7322833\tbest: 0.7322833 (370)\ttotal: 2m 27s\tremaining: 4m 9s\n",
      "371:\tlearn: 0.7823702\ttest: 0.7323349\tbest: 0.7323349 (371)\ttotal: 2m 27s\tremaining: 4m 8s\n",
      "372:\tlearn: 0.7825519\ttest: 0.7323373\tbest: 0.7323373 (372)\ttotal: 2m 27s\tremaining: 4m 8s\n",
      "373:\tlearn: 0.7827432\ttest: 0.7324171\tbest: 0.7324171 (373)\ttotal: 2m 28s\tremaining: 4m 8s\n",
      "374:\tlearn: 0.7829107\ttest: 0.7324706\tbest: 0.7324706 (374)\ttotal: 2m 28s\tremaining: 4m 7s\n",
      "375:\tlearn: 0.7830271\ttest: 0.7325022\tbest: 0.7325022 (375)\ttotal: 2m 29s\tremaining: 4m 7s\n",
      "376:\tlearn: 0.7831514\ttest: 0.7325036\tbest: 0.7325036 (376)\ttotal: 2m 29s\tremaining: 4m 7s\n",
      "377:\tlearn: 0.7833045\ttest: 0.7325161\tbest: 0.7325161 (377)\ttotal: 2m 29s\tremaining: 4m 6s\n",
      "378:\tlearn: 0.7834808\ttest: 0.7325170\tbest: 0.7325170 (378)\ttotal: 2m 30s\tremaining: 4m 6s\n",
      "379:\tlearn: 0.7836466\ttest: 0.7325306\tbest: 0.7325306 (379)\ttotal: 2m 30s\tremaining: 4m 5s\n",
      "380:\tlearn: 0.7838128\ttest: 0.7325747\tbest: 0.7325747 (380)\ttotal: 2m 31s\tremaining: 4m 5s\n",
      "381:\tlearn: 0.7839520\ttest: 0.7326170\tbest: 0.7326170 (381)\ttotal: 2m 31s\tremaining: 4m 5s\n",
      "382:\tlearn: 0.7841652\ttest: 0.7326367\tbest: 0.7326367 (382)\ttotal: 2m 31s\tremaining: 4m 4s\n",
      "383:\tlearn: 0.7843650\ttest: 0.7327430\tbest: 0.7327430 (383)\ttotal: 2m 32s\tremaining: 4m 4s\n",
      "384:\tlearn: 0.7844750\ttest: 0.7327381\tbest: 0.7327430 (383)\ttotal: 2m 32s\tremaining: 4m 4s\n",
      "385:\tlearn: 0.7846224\ttest: 0.7327386\tbest: 0.7327430 (383)\ttotal: 2m 33s\tremaining: 4m 3s\n",
      "386:\tlearn: 0.7847992\ttest: 0.7327703\tbest: 0.7327703 (386)\ttotal: 2m 33s\tremaining: 4m 3s\n",
      "387:\tlearn: 0.7849369\ttest: 0.7327598\tbest: 0.7327703 (386)\ttotal: 2m 34s\tremaining: 4m 2s\n",
      "388:\tlearn: 0.7851341\ttest: 0.7328026\tbest: 0.7328026 (388)\ttotal: 2m 34s\tremaining: 4m 2s\n",
      "389:\tlearn: 0.7853062\ttest: 0.7328352\tbest: 0.7328352 (389)\ttotal: 2m 34s\tremaining: 4m 2s\n",
      "390:\tlearn: 0.7854695\ttest: 0.7328401\tbest: 0.7328401 (390)\ttotal: 2m 35s\tremaining: 4m 1s\n",
      "391:\tlearn: 0.7856368\ttest: 0.7328910\tbest: 0.7328910 (391)\ttotal: 2m 35s\tremaining: 4m 1s\n",
      "392:\tlearn: 0.7858142\ttest: 0.7329470\tbest: 0.7329470 (392)\ttotal: 2m 36s\tremaining: 4m 1s\n",
      "393:\tlearn: 0.7860116\ttest: 0.7329228\tbest: 0.7329470 (392)\ttotal: 2m 36s\tremaining: 4m\n",
      "394:\tlearn: 0.7861933\ttest: 0.7329402\tbest: 0.7329470 (392)\ttotal: 2m 36s\tremaining: 4m\n",
      "395:\tlearn: 0.7863872\ttest: 0.7329447\tbest: 0.7329470 (392)\ttotal: 2m 37s\tremaining: 3m 59s\n",
      "396:\tlearn: 0.7865079\ttest: 0.7329595\tbest: 0.7329595 (396)\ttotal: 2m 37s\tremaining: 3m 59s\n",
      "397:\tlearn: 0.7866769\ttest: 0.7329460\tbest: 0.7329595 (396)\ttotal: 2m 38s\tremaining: 3m 59s\n",
      "398:\tlearn: 0.7868700\ttest: 0.7329869\tbest: 0.7329869 (398)\ttotal: 2m 38s\tremaining: 3m 58s\n",
      "399:\tlearn: 0.7870596\ttest: 0.7329332\tbest: 0.7329869 (398)\ttotal: 2m 38s\tremaining: 3m 58s\n",
      "400:\tlearn: 0.7871999\ttest: 0.7329957\tbest: 0.7329957 (400)\ttotal: 2m 39s\tremaining: 3m 57s\n",
      "401:\tlearn: 0.7873997\ttest: 0.7330651\tbest: 0.7330651 (401)\ttotal: 2m 39s\tremaining: 3m 57s\n",
      "402:\tlearn: 0.7875771\ttest: 0.7330615\tbest: 0.7330651 (401)\ttotal: 2m 40s\tremaining: 3m 57s\n",
      "403:\tlearn: 0.7876996\ttest: 0.7330668\tbest: 0.7330668 (403)\ttotal: 2m 40s\tremaining: 3m 56s\n",
      "404:\tlearn: 0.7879033\ttest: 0.7330724\tbest: 0.7330724 (404)\ttotal: 2m 40s\tremaining: 3m 56s\n",
      "405:\tlearn: 0.7880246\ttest: 0.7330681\tbest: 0.7330724 (404)\ttotal: 2m 41s\tremaining: 3m 56s\n",
      "406:\tlearn: 0.7881511\ttest: 0.7330636\tbest: 0.7330724 (404)\ttotal: 2m 41s\tremaining: 3m 55s\n",
      "407:\tlearn: 0.7882868\ttest: 0.7330881\tbest: 0.7330881 (407)\ttotal: 2m 42s\tremaining: 3m 55s\n",
      "408:\tlearn: 0.7884820\ttest: 0.7330656\tbest: 0.7330881 (407)\ttotal: 2m 42s\tremaining: 3m 54s\n",
      "409:\tlearn: 0.7886482\ttest: 0.7330684\tbest: 0.7330881 (407)\ttotal: 2m 43s\tremaining: 3m 54s\n",
      "410:\tlearn: 0.7888024\ttest: 0.7330950\tbest: 0.7330950 (410)\ttotal: 2m 43s\tremaining: 3m 54s\n",
      "411:\tlearn: 0.7889506\ttest: 0.7331007\tbest: 0.7331007 (411)\ttotal: 2m 43s\tremaining: 3m 53s\n",
      "412:\tlearn: 0.7891106\ttest: 0.7330902\tbest: 0.7331007 (411)\ttotal: 2m 44s\tremaining: 3m 53s\n",
      "413:\tlearn: 0.7892840\ttest: 0.7330543\tbest: 0.7331007 (411)\ttotal: 2m 44s\tremaining: 3m 53s\n",
      "414:\tlearn: 0.7894227\ttest: 0.7331200\tbest: 0.7331200 (414)\ttotal: 2m 45s\tremaining: 3m 52s\n",
      "415:\tlearn: 0.7895177\ttest: 0.7331593\tbest: 0.7331593 (415)\ttotal: 2m 45s\tremaining: 3m 52s\n",
      "416:\tlearn: 0.7896784\ttest: 0.7331586\tbest: 0.7331593 (415)\ttotal: 2m 45s\tremaining: 3m 51s\n",
      "417:\tlearn: 0.7898916\ttest: 0.7332009\tbest: 0.7332009 (417)\ttotal: 2m 46s\tremaining: 3m 51s\n",
      "418:\tlearn: 0.7900843\ttest: 0.7331635\tbest: 0.7332009 (417)\ttotal: 2m 46s\tremaining: 3m 51s\n",
      "419:\tlearn: 0.7902152\ttest: 0.7331574\tbest: 0.7332009 (417)\ttotal: 2m 47s\tremaining: 3m 50s\n",
      "420:\tlearn: 0.7904032\ttest: 0.7331595\tbest: 0.7332009 (417)\ttotal: 2m 47s\tremaining: 3m 50s\n",
      "421:\tlearn: 0.7905198\ttest: 0.7331628\tbest: 0.7332009 (417)\ttotal: 2m 48s\tremaining: 3m 50s\n",
      "422:\tlearn: 0.7907157\ttest: 0.7331444\tbest: 0.7332009 (417)\ttotal: 2m 48s\tremaining: 3m 49s\n",
      "423:\tlearn: 0.7909002\ttest: 0.7331083\tbest: 0.7332009 (417)\ttotal: 2m 48s\tremaining: 3m 49s\n",
      "424:\tlearn: 0.7910844\ttest: 0.7331159\tbest: 0.7332009 (417)\ttotal: 2m 49s\tremaining: 3m 49s\n",
      "425:\tlearn: 0.7912178\ttest: 0.7331228\tbest: 0.7332009 (417)\ttotal: 2m 49s\tremaining: 3m 48s\n",
      "426:\tlearn: 0.7914557\ttest: 0.7331733\tbest: 0.7332009 (417)\ttotal: 2m 50s\tremaining: 3m 48s\n",
      "427:\tlearn: 0.7916523\ttest: 0.7331961\tbest: 0.7332009 (417)\ttotal: 2m 50s\tremaining: 3m 47s\n",
      "428:\tlearn: 0.7917948\ttest: 0.7332019\tbest: 0.7332019 (428)\ttotal: 2m 51s\tremaining: 3m 47s\n",
      "429:\tlearn: 0.7919396\ttest: 0.7332255\tbest: 0.7332255 (429)\ttotal: 2m 51s\tremaining: 3m 47s\n",
      "430:\tlearn: 0.7921014\ttest: 0.7332462\tbest: 0.7332462 (430)\ttotal: 2m 51s\tremaining: 3m 47s\n",
      "431:\tlearn: 0.7922331\ttest: 0.7332089\tbest: 0.7332462 (430)\ttotal: 2m 52s\tremaining: 3m 46s\n",
      "432:\tlearn: 0.7923959\ttest: 0.7331765\tbest: 0.7332462 (430)\ttotal: 2m 52s\tremaining: 3m 46s\n",
      "433:\tlearn: 0.7925062\ttest: 0.7331993\tbest: 0.7332462 (430)\ttotal: 2m 53s\tremaining: 3m 45s\n",
      "434:\tlearn: 0.7926287\ttest: 0.7332361\tbest: 0.7332462 (430)\ttotal: 2m 53s\tremaining: 3m 45s\n",
      "435:\tlearn: 0.7927693\ttest: 0.7332579\tbest: 0.7332579 (435)\ttotal: 2m 54s\tremaining: 3m 45s\n",
      "436:\tlearn: 0.7928841\ttest: 0.7332842\tbest: 0.7332842 (436)\ttotal: 2m 54s\tremaining: 3m 44s\n",
      "437:\tlearn: 0.7930577\ttest: 0.7333216\tbest: 0.7333216 (437)\ttotal: 2m 54s\tremaining: 3m 44s\n",
      "438:\tlearn: 0.7932344\ttest: 0.7333781\tbest: 0.7333781 (438)\ttotal: 2m 55s\tremaining: 3m 44s\n",
      "439:\tlearn: 0.7934687\ttest: 0.7334265\tbest: 0.7334265 (439)\ttotal: 2m 55s\tremaining: 3m 43s\n",
      "440:\tlearn: 0.7936102\ttest: 0.7333957\tbest: 0.7334265 (439)\ttotal: 2m 56s\tremaining: 3m 43s\n",
      "441:\tlearn: 0.7937149\ttest: 0.7334119\tbest: 0.7334265 (439)\ttotal: 2m 56s\tremaining: 3m 43s\n",
      "442:\tlearn: 0.7938596\ttest: 0.7334062\tbest: 0.7334265 (439)\ttotal: 2m 57s\tremaining: 3m 42s\n",
      "443:\tlearn: 0.7939536\ttest: 0.7334553\tbest: 0.7334553 (443)\ttotal: 2m 57s\tremaining: 3m 42s\n",
      "444:\tlearn: 0.7941002\ttest: 0.7334607\tbest: 0.7334607 (444)\ttotal: 2m 58s\tremaining: 3m 42s\n",
      "445:\tlearn: 0.7942677\ttest: 0.7334509\tbest: 0.7334607 (444)\ttotal: 2m 58s\tremaining: 3m 41s\n",
      "446:\tlearn: 0.7944236\ttest: 0.7334584\tbest: 0.7334607 (444)\ttotal: 2m 58s\tremaining: 3m 41s\n",
      "447:\tlearn: 0.7945421\ttest: 0.7334404\tbest: 0.7334607 (444)\ttotal: 2m 59s\tremaining: 3m 41s\n",
      "448:\tlearn: 0.7947132\ttest: 0.7334092\tbest: 0.7334607 (444)\ttotal: 2m 59s\tremaining: 3m 40s\n",
      "449:\tlearn: 0.7949010\ttest: 0.7334198\tbest: 0.7334607 (444)\ttotal: 3m\tremaining: 3m 40s\n",
      "450:\tlearn: 0.7950528\ttest: 0.7334316\tbest: 0.7334607 (444)\ttotal: 3m\tremaining: 3m 40s\n",
      "451:\tlearn: 0.7951400\ttest: 0.7334375\tbest: 0.7334607 (444)\ttotal: 3m 1s\tremaining: 3m 39s\n",
      "452:\tlearn: 0.7952932\ttest: 0.7334861\tbest: 0.7334861 (452)\ttotal: 3m 1s\tremaining: 3m 39s\n",
      "453:\tlearn: 0.7954969\ttest: 0.7335322\tbest: 0.7335322 (453)\ttotal: 3m 2s\tremaining: 3m 39s\n"
     ]
    },
    {
     "name": "stdout",
     "output_type": "stream",
     "text": [
      "454:\tlearn: 0.7956712\ttest: 0.7335817\tbest: 0.7335817 (454)\ttotal: 3m 2s\tremaining: 3m 38s\n",
      "455:\tlearn: 0.7958614\ttest: 0.7336190\tbest: 0.7336190 (455)\ttotal: 3m 3s\tremaining: 3m 38s\n",
      "456:\tlearn: 0.7960126\ttest: 0.7336559\tbest: 0.7336559 (456)\ttotal: 3m 3s\tremaining: 3m 38s\n",
      "457:\tlearn: 0.7961622\ttest: 0.7336946\tbest: 0.7336946 (457)\ttotal: 3m 4s\tremaining: 3m 37s\n",
      "458:\tlearn: 0.7963601\ttest: 0.7337061\tbest: 0.7337061 (458)\ttotal: 3m 4s\tremaining: 3m 37s\n",
      "459:\tlearn: 0.7964946\ttest: 0.7337365\tbest: 0.7337365 (459)\ttotal: 3m 5s\tremaining: 3m 37s\n",
      "460:\tlearn: 0.7966127\ttest: 0.7337003\tbest: 0.7337365 (459)\ttotal: 3m 5s\tremaining: 3m 37s\n",
      "461:\tlearn: 0.7967787\ttest: 0.7336475\tbest: 0.7337365 (459)\ttotal: 3m 6s\tremaining: 3m 36s\n",
      "462:\tlearn: 0.7969259\ttest: 0.7336572\tbest: 0.7337365 (459)\ttotal: 3m 6s\tremaining: 3m 36s\n",
      "463:\tlearn: 0.7970409\ttest: 0.7337197\tbest: 0.7337365 (459)\ttotal: 3m 7s\tremaining: 3m 36s\n",
      "464:\tlearn: 0.7971690\ttest: 0.7337838\tbest: 0.7337838 (464)\ttotal: 3m 7s\tremaining: 3m 35s\n",
      "465:\tlearn: 0.7973378\ttest: 0.7338160\tbest: 0.7338160 (465)\ttotal: 3m 7s\tremaining: 3m 35s\n",
      "466:\tlearn: 0.7974606\ttest: 0.7339055\tbest: 0.7339055 (466)\ttotal: 3m 8s\tremaining: 3m 34s\n",
      "467:\tlearn: 0.7976260\ttest: 0.7339344\tbest: 0.7339344 (467)\ttotal: 3m 8s\tremaining: 3m 34s\n",
      "468:\tlearn: 0.7977755\ttest: 0.7339421\tbest: 0.7339421 (468)\ttotal: 3m 9s\tremaining: 3m 34s\n",
      "469:\tlearn: 0.7979249\ttest: 0.7339638\tbest: 0.7339638 (469)\ttotal: 3m 9s\tremaining: 3m 33s\n",
      "470:\tlearn: 0.7980947\ttest: 0.7340203\tbest: 0.7340203 (470)\ttotal: 3m 10s\tremaining: 3m 33s\n",
      "471:\tlearn: 0.7982258\ttest: 0.7340393\tbest: 0.7340393 (471)\ttotal: 3m 10s\tremaining: 3m 33s\n",
      "472:\tlearn: 0.7983204\ttest: 0.7340447\tbest: 0.7340447 (472)\ttotal: 3m 10s\tremaining: 3m 32s\n",
      "473:\tlearn: 0.7984401\ttest: 0.7340423\tbest: 0.7340447 (472)\ttotal: 3m 11s\tremaining: 3m 32s\n",
      "474:\tlearn: 0.7986447\ttest: 0.7340612\tbest: 0.7340612 (474)\ttotal: 3m 11s\tremaining: 3m 31s\n",
      "475:\tlearn: 0.7988037\ttest: 0.7340692\tbest: 0.7340692 (475)\ttotal: 3m 12s\tremaining: 3m 31s\n",
      "476:\tlearn: 0.7989252\ttest: 0.7340944\tbest: 0.7340944 (476)\ttotal: 3m 12s\tremaining: 3m 31s\n",
      "477:\tlearn: 0.7990902\ttest: 0.7340582\tbest: 0.7340944 (476)\ttotal: 3m 13s\tremaining: 3m 30s\n",
      "478:\tlearn: 0.7992365\ttest: 0.7340456\tbest: 0.7340944 (476)\ttotal: 3m 13s\tremaining: 3m 30s\n",
      "479:\tlearn: 0.7994025\ttest: 0.7340790\tbest: 0.7340944 (476)\ttotal: 3m 14s\tremaining: 3m 30s\n",
      "480:\tlearn: 0.7995519\ttest: 0.7340817\tbest: 0.7340944 (476)\ttotal: 3m 14s\tremaining: 3m 29s\n",
      "481:\tlearn: 0.7996920\ttest: 0.7341156\tbest: 0.7341156 (481)\ttotal: 3m 14s\tremaining: 3m 29s\n",
      "482:\tlearn: 0.7997828\ttest: 0.7341245\tbest: 0.7341245 (482)\ttotal: 3m 15s\tremaining: 3m 29s\n",
      "483:\tlearn: 0.7999425\ttest: 0.7341422\tbest: 0.7341422 (483)\ttotal: 3m 15s\tremaining: 3m 28s\n",
      "484:\tlearn: 0.8000710\ttest: 0.7341771\tbest: 0.7341771 (484)\ttotal: 3m 16s\tremaining: 3m 28s\n",
      "485:\tlearn: 0.8002036\ttest: 0.7341900\tbest: 0.7341900 (485)\ttotal: 3m 16s\tremaining: 3m 28s\n",
      "486:\tlearn: 0.8003039\ttest: 0.7342472\tbest: 0.7342472 (486)\ttotal: 3m 17s\tremaining: 3m 27s\n",
      "487:\tlearn: 0.8004299\ttest: 0.7342352\tbest: 0.7342472 (486)\ttotal: 3m 17s\tremaining: 3m 27s\n",
      "488:\tlearn: 0.8005490\ttest: 0.7342530\tbest: 0.7342530 (488)\ttotal: 3m 18s\tremaining: 3m 27s\n",
      "489:\tlearn: 0.8007107\ttest: 0.7342914\tbest: 0.7342914 (489)\ttotal: 3m 18s\tremaining: 3m 27s\n",
      "490:\tlearn: 0.8008021\ttest: 0.7343129\tbest: 0.7343129 (490)\ttotal: 3m 19s\tremaining: 3m 26s\n",
      "491:\tlearn: 0.8009467\ttest: 0.7343206\tbest: 0.7343206 (491)\ttotal: 3m 19s\tremaining: 3m 26s\n",
      "492:\tlearn: 0.8010924\ttest: 0.7343553\tbest: 0.7343553 (492)\ttotal: 3m 20s\tremaining: 3m 26s\n",
      "493:\tlearn: 0.8011871\ttest: 0.7343758\tbest: 0.7343758 (493)\ttotal: 3m 20s\tremaining: 3m 25s\n",
      "494:\tlearn: 0.8013639\ttest: 0.7344078\tbest: 0.7344078 (494)\ttotal: 3m 21s\tremaining: 3m 25s\n",
      "495:\tlearn: 0.8014802\ttest: 0.7344002\tbest: 0.7344078 (494)\ttotal: 3m 21s\tremaining: 3m 25s\n",
      "496:\tlearn: 0.8016200\ttest: 0.7344663\tbest: 0.7344663 (496)\ttotal: 3m 22s\tremaining: 3m 24s\n",
      "497:\tlearn: 0.8017426\ttest: 0.7344348\tbest: 0.7344663 (496)\ttotal: 3m 22s\tremaining: 3m 24s\n",
      "498:\tlearn: 0.8018758\ttest: 0.7344792\tbest: 0.7344792 (498)\ttotal: 3m 23s\tremaining: 3m 24s\n",
      "499:\tlearn: 0.8020050\ttest: 0.7344661\tbest: 0.7344792 (498)\ttotal: 3m 23s\tremaining: 3m 23s\n",
      "500:\tlearn: 0.8021603\ttest: 0.7345250\tbest: 0.7345250 (500)\ttotal: 3m 24s\tremaining: 3m 23s\n",
      "501:\tlearn: 0.8023072\ttest: 0.7345204\tbest: 0.7345250 (500)\ttotal: 3m 24s\tremaining: 3m 23s\n",
      "502:\tlearn: 0.8024792\ttest: 0.7345454\tbest: 0.7345454 (502)\ttotal: 3m 25s\tremaining: 3m 22s\n",
      "503:\tlearn: 0.8026473\ttest: 0.7345598\tbest: 0.7345598 (503)\ttotal: 3m 25s\tremaining: 3m 22s\n",
      "504:\tlearn: 0.8027967\ttest: 0.7345437\tbest: 0.7345598 (503)\ttotal: 3m 26s\tremaining: 3m 22s\n",
      "505:\tlearn: 0.8029206\ttest: 0.7345622\tbest: 0.7345622 (505)\ttotal: 3m 26s\tremaining: 3m 21s\n",
      "506:\tlearn: 0.8030806\ttest: 0.7345632\tbest: 0.7345632 (506)\ttotal: 3m 27s\tremaining: 3m 21s\n",
      "507:\tlearn: 0.8031930\ttest: 0.7346025\tbest: 0.7346025 (507)\ttotal: 3m 27s\tremaining: 3m 21s\n",
      "508:\tlearn: 0.8033155\ttest: 0.7345963\tbest: 0.7346025 (507)\ttotal: 3m 28s\tremaining: 3m 20s\n",
      "509:\tlearn: 0.8035117\ttest: 0.7345669\tbest: 0.7346025 (507)\ttotal: 3m 28s\tremaining: 3m 20s\n",
      "510:\tlearn: 0.8036442\ttest: 0.7345674\tbest: 0.7346025 (507)\ttotal: 3m 29s\tremaining: 3m 20s\n",
      "511:\tlearn: 0.8037412\ttest: 0.7345747\tbest: 0.7346025 (507)\ttotal: 3m 29s\tremaining: 3m 19s\n",
      "512:\tlearn: 0.8038661\ttest: 0.7345492\tbest: 0.7346025 (507)\ttotal: 3m 29s\tremaining: 3m 19s\n",
      "513:\tlearn: 0.8040287\ttest: 0.7345886\tbest: 0.7346025 (507)\ttotal: 3m 30s\tremaining: 3m 18s\n",
      "514:\tlearn: 0.8041452\ttest: 0.7346207\tbest: 0.7346207 (514)\ttotal: 3m 30s\tremaining: 3m 18s\n",
      "515:\tlearn: 0.8043396\ttest: 0.7346439\tbest: 0.7346439 (515)\ttotal: 3m 31s\tremaining: 3m 18s\n",
      "516:\tlearn: 0.8044946\ttest: 0.7346692\tbest: 0.7346692 (516)\ttotal: 3m 31s\tremaining: 3m 17s\n",
      "517:\tlearn: 0.8046363\ttest: 0.7346843\tbest: 0.7346843 (517)\ttotal: 3m 32s\tremaining: 3m 17s\n",
      "518:\tlearn: 0.8047999\ttest: 0.7347063\tbest: 0.7347063 (518)\ttotal: 3m 32s\tremaining: 3m 17s\n",
      "519:\tlearn: 0.8049534\ttest: 0.7347176\tbest: 0.7347176 (519)\ttotal: 3m 33s\tremaining: 3m 16s\n",
      "520:\tlearn: 0.8050817\ttest: 0.7347077\tbest: 0.7347176 (519)\ttotal: 3m 33s\tremaining: 3m 16s\n",
      "521:\tlearn: 0.8052180\ttest: 0.7346953\tbest: 0.7347176 (519)\ttotal: 3m 33s\tremaining: 3m 15s\n",
      "522:\tlearn: 0.8053448\ttest: 0.7347255\tbest: 0.7347255 (522)\ttotal: 3m 34s\tremaining: 3m 15s\n",
      "523:\tlearn: 0.8054592\ttest: 0.7347270\tbest: 0.7347270 (523)\ttotal: 3m 34s\tremaining: 3m 15s\n",
      "524:\tlearn: 0.8055929\ttest: 0.7347009\tbest: 0.7347270 (523)\ttotal: 3m 35s\tremaining: 3m 14s\n",
      "525:\tlearn: 0.8057200\ttest: 0.7346731\tbest: 0.7347270 (523)\ttotal: 3m 35s\tremaining: 3m 14s\n",
      "526:\tlearn: 0.8058467\ttest: 0.7347001\tbest: 0.7347270 (523)\ttotal: 3m 36s\tremaining: 3m 14s\n",
      "527:\tlearn: 0.8059559\ttest: 0.7347161\tbest: 0.7347270 (523)\ttotal: 3m 36s\tremaining: 3m 13s\n",
      "528:\tlearn: 0.8060988\ttest: 0.7347028\tbest: 0.7347270 (523)\ttotal: 3m 37s\tremaining: 3m 13s\n",
      "529:\tlearn: 0.8062208\ttest: 0.7346755\tbest: 0.7347270 (523)\ttotal: 3m 37s\tremaining: 3m 12s\n",
      "530:\tlearn: 0.8063761\ttest: 0.7347310\tbest: 0.7347310 (530)\ttotal: 3m 37s\tremaining: 3m 12s\n",
      "531:\tlearn: 0.8065765\ttest: 0.7347348\tbest: 0.7347348 (531)\ttotal: 3m 38s\tremaining: 3m 12s\n",
      "532:\tlearn: 0.8067489\ttest: 0.7348004\tbest: 0.7348004 (532)\ttotal: 3m 38s\tremaining: 3m 11s\n",
      "533:\tlearn: 0.8069052\ttest: 0.7347757\tbest: 0.7348004 (532)\ttotal: 3m 39s\tremaining: 3m 11s\n",
      "534:\tlearn: 0.8070601\ttest: 0.7347765\tbest: 0.7348004 (532)\ttotal: 3m 39s\tremaining: 3m 10s\n",
      "535:\tlearn: 0.8072100\ttest: 0.7348064\tbest: 0.7348064 (535)\ttotal: 3m 40s\tremaining: 3m 10s\n",
      "536:\tlearn: 0.8073151\ttest: 0.7348306\tbest: 0.7348306 (536)\ttotal: 3m 40s\tremaining: 3m 10s\n",
      "537:\tlearn: 0.8074530\ttest: 0.7348654\tbest: 0.7348654 (537)\ttotal: 3m 41s\tremaining: 3m 9s\n",
      "538:\tlearn: 0.8075682\ttest: 0.7348959\tbest: 0.7348959 (538)\ttotal: 3m 41s\tremaining: 3m 9s\n",
      "539:\tlearn: 0.8076784\ttest: 0.7348710\tbest: 0.7348959 (538)\ttotal: 3m 41s\tremaining: 3m 9s\n",
      "540:\tlearn: 0.8077745\ttest: 0.7348436\tbest: 0.7348959 (538)\ttotal: 3m 42s\tremaining: 3m 8s\n",
      "541:\tlearn: 0.8079112\ttest: 0.7348595\tbest: 0.7348959 (538)\ttotal: 3m 42s\tremaining: 3m 8s\n",
      "542:\tlearn: 0.8080677\ttest: 0.7348530\tbest: 0.7348959 (538)\ttotal: 3m 43s\tremaining: 3m 8s\n",
      "543:\tlearn: 0.8081625\ttest: 0.7348510\tbest: 0.7348959 (538)\ttotal: 3m 43s\tremaining: 3m 7s\n"
     ]
    },
    {
     "name": "stdout",
     "output_type": "stream",
     "text": [
      "544:\tlearn: 0.8083110\ttest: 0.7348669\tbest: 0.7348959 (538)\ttotal: 3m 44s\tremaining: 3m 7s\n",
      "545:\tlearn: 0.8084443\ttest: 0.7348949\tbest: 0.7348959 (538)\ttotal: 3m 44s\tremaining: 3m 6s\n",
      "546:\tlearn: 0.8085906\ttest: 0.7348921\tbest: 0.7348959 (538)\ttotal: 3m 45s\tremaining: 3m 6s\n",
      "547:\tlearn: 0.8087253\ttest: 0.7349244\tbest: 0.7349244 (547)\ttotal: 3m 45s\tremaining: 3m 6s\n",
      "548:\tlearn: 0.8088130\ttest: 0.7349010\tbest: 0.7349244 (547)\ttotal: 3m 46s\tremaining: 3m 5s\n",
      "549:\tlearn: 0.8089573\ttest: 0.7349018\tbest: 0.7349244 (547)\ttotal: 3m 46s\tremaining: 3m 5s\n",
      "550:\tlearn: 0.8090896\ttest: 0.7349245\tbest: 0.7349245 (550)\ttotal: 3m 46s\tremaining: 3m 4s\n",
      "551:\tlearn: 0.8091979\ttest: 0.7349416\tbest: 0.7349416 (551)\ttotal: 3m 47s\tremaining: 3m 4s\n",
      "552:\tlearn: 0.8093642\ttest: 0.7349430\tbest: 0.7349430 (552)\ttotal: 3m 47s\tremaining: 3m 4s\n",
      "553:\tlearn: 0.8095309\ttest: 0.7349098\tbest: 0.7349430 (552)\ttotal: 3m 48s\tremaining: 3m 3s\n",
      "554:\tlearn: 0.8096596\ttest: 0.7349152\tbest: 0.7349430 (552)\ttotal: 3m 48s\tremaining: 3m 3s\n",
      "555:\tlearn: 0.8097778\ttest: 0.7349213\tbest: 0.7349430 (552)\ttotal: 3m 49s\tremaining: 3m 2s\n",
      "556:\tlearn: 0.8098989\ttest: 0.7349403\tbest: 0.7349430 (552)\ttotal: 3m 49s\tremaining: 3m 2s\n",
      "557:\tlearn: 0.8100522\ttest: 0.7349627\tbest: 0.7349627 (557)\ttotal: 3m 49s\tremaining: 3m 2s\n",
      "558:\tlearn: 0.8102018\ttest: 0.7349802\tbest: 0.7349802 (558)\ttotal: 3m 50s\tremaining: 3m 1s\n",
      "559:\tlearn: 0.8102964\ttest: 0.7350328\tbest: 0.7350328 (559)\ttotal: 3m 50s\tremaining: 3m 1s\n",
      "560:\tlearn: 0.8104285\ttest: 0.7350808\tbest: 0.7350808 (560)\ttotal: 3m 51s\tremaining: 3m\n",
      "561:\tlearn: 0.8105348\ttest: 0.7350908\tbest: 0.7350908 (561)\ttotal: 3m 51s\tremaining: 3m\n",
      "562:\tlearn: 0.8106435\ttest: 0.7351480\tbest: 0.7351480 (562)\ttotal: 3m 52s\tremaining: 3m\n",
      "563:\tlearn: 0.8107743\ttest: 0.7352125\tbest: 0.7352125 (563)\ttotal: 3m 52s\tremaining: 2m 59s\n",
      "564:\tlearn: 0.8109301\ttest: 0.7352026\tbest: 0.7352125 (563)\ttotal: 3m 52s\tremaining: 2m 59s\n",
      "565:\tlearn: 0.8110568\ttest: 0.7352388\tbest: 0.7352388 (565)\ttotal: 3m 53s\tremaining: 2m 58s\n",
      "566:\tlearn: 0.8111641\ttest: 0.7351924\tbest: 0.7352388 (565)\ttotal: 3m 53s\tremaining: 2m 58s\n",
      "567:\tlearn: 0.8112394\ttest: 0.7351776\tbest: 0.7352388 (565)\ttotal: 3m 54s\tremaining: 2m 58s\n",
      "568:\tlearn: 0.8113526\ttest: 0.7351762\tbest: 0.7352388 (565)\ttotal: 3m 54s\tremaining: 2m 57s\n",
      "569:\tlearn: 0.8114752\ttest: 0.7351921\tbest: 0.7352388 (565)\ttotal: 3m 55s\tremaining: 2m 57s\n",
      "570:\tlearn: 0.8115441\ttest: 0.7352010\tbest: 0.7352388 (565)\ttotal: 3m 55s\tremaining: 2m 57s\n",
      "571:\tlearn: 0.8117103\ttest: 0.7352397\tbest: 0.7352397 (571)\ttotal: 3m 56s\tremaining: 2m 56s\n",
      "572:\tlearn: 0.8118340\ttest: 0.7352656\tbest: 0.7352656 (572)\ttotal: 3m 56s\tremaining: 2m 56s\n",
      "573:\tlearn: 0.8119343\ttest: 0.7352868\tbest: 0.7352868 (573)\ttotal: 3m 57s\tremaining: 2m 55s\n",
      "574:\tlearn: 0.8120356\ttest: 0.7352614\tbest: 0.7352868 (573)\ttotal: 3m 57s\tremaining: 2m 55s\n",
      "575:\tlearn: 0.8121809\ttest: 0.7352817\tbest: 0.7352868 (573)\ttotal: 3m 57s\tremaining: 2m 55s\n",
      "576:\tlearn: 0.8123530\ttest: 0.7352930\tbest: 0.7352930 (576)\ttotal: 3m 58s\tremaining: 2m 54s\n",
      "577:\tlearn: 0.8124640\ttest: 0.7353399\tbest: 0.7353399 (577)\ttotal: 3m 58s\tremaining: 2m 54s\n",
      "578:\tlearn: 0.8125945\ttest: 0.7353875\tbest: 0.7353875 (578)\ttotal: 3m 59s\tremaining: 2m 53s\n",
      "579:\tlearn: 0.8126747\ttest: 0.7353890\tbest: 0.7353890 (579)\ttotal: 3m 59s\tremaining: 2m 53s\n",
      "580:\tlearn: 0.8128158\ttest: 0.7353934\tbest: 0.7353934 (580)\ttotal: 4m\tremaining: 2m 53s\n",
      "581:\tlearn: 0.8129390\ttest: 0.7354179\tbest: 0.7354179 (581)\ttotal: 4m\tremaining: 2m 52s\n",
      "582:\tlearn: 0.8130684\ttest: 0.7354114\tbest: 0.7354179 (581)\ttotal: 4m\tremaining: 2m 52s\n",
      "583:\tlearn: 0.8132235\ttest: 0.7354248\tbest: 0.7354248 (583)\ttotal: 4m 1s\tremaining: 2m 51s\n",
      "584:\tlearn: 0.8133683\ttest: 0.7354911\tbest: 0.7354911 (584)\ttotal: 4m 1s\tremaining: 2m 51s\n",
      "585:\tlearn: 0.8134648\ttest: 0.7354790\tbest: 0.7354911 (584)\ttotal: 4m 2s\tremaining: 2m 51s\n",
      "586:\tlearn: 0.8135930\ttest: 0.7354871\tbest: 0.7354911 (584)\ttotal: 4m 2s\tremaining: 2m 50s\n",
      "587:\tlearn: 0.8136641\ttest: 0.7354935\tbest: 0.7354935 (587)\ttotal: 4m 3s\tremaining: 2m 50s\n",
      "588:\tlearn: 0.8137671\ttest: 0.7355214\tbest: 0.7355214 (588)\ttotal: 4m 3s\tremaining: 2m 49s\n",
      "589:\tlearn: 0.8138633\ttest: 0.7355248\tbest: 0.7355248 (589)\ttotal: 4m 3s\tremaining: 2m 49s\n",
      "590:\tlearn: 0.8139482\ttest: 0.7355001\tbest: 0.7355248 (589)\ttotal: 4m 4s\tremaining: 2m 49s\n",
      "591:\tlearn: 0.8140748\ttest: 0.7355407\tbest: 0.7355407 (591)\ttotal: 4m 4s\tremaining: 2m 48s\n",
      "592:\tlearn: 0.8141766\ttest: 0.7355672\tbest: 0.7355672 (592)\ttotal: 4m 5s\tremaining: 2m 48s\n",
      "593:\tlearn: 0.8142942\ttest: 0.7355688\tbest: 0.7355688 (593)\ttotal: 4m 5s\tremaining: 2m 47s\n",
      "594:\tlearn: 0.8144462\ttest: 0.7356262\tbest: 0.7356262 (594)\ttotal: 4m 6s\tremaining: 2m 47s\n",
      "595:\tlearn: 0.8145684\ttest: 0.7356251\tbest: 0.7356262 (594)\ttotal: 4m 6s\tremaining: 2m 47s\n",
      "596:\tlearn: 0.8147034\ttest: 0.7355975\tbest: 0.7356262 (594)\ttotal: 4m 6s\tremaining: 2m 46s\n",
      "597:\tlearn: 0.8148208\ttest: 0.7356366\tbest: 0.7356366 (597)\ttotal: 4m 7s\tremaining: 2m 46s\n",
      "598:\tlearn: 0.8149471\ttest: 0.7356263\tbest: 0.7356366 (597)\ttotal: 4m 7s\tremaining: 2m 45s\n",
      "599:\tlearn: 0.8150872\ttest: 0.7356569\tbest: 0.7356569 (599)\ttotal: 4m 8s\tremaining: 2m 45s\n",
      "600:\tlearn: 0.8152228\ttest: 0.7356609\tbest: 0.7356609 (600)\ttotal: 4m 8s\tremaining: 2m 45s\n",
      "601:\tlearn: 0.8153466\ttest: 0.7356649\tbest: 0.7356649 (601)\ttotal: 4m 9s\tremaining: 2m 44s\n",
      "602:\tlearn: 0.8154674\ttest: 0.7357000\tbest: 0.7357000 (602)\ttotal: 4m 9s\tremaining: 2m 44s\n",
      "603:\tlearn: 0.8156072\ttest: 0.7357153\tbest: 0.7357153 (603)\ttotal: 4m 10s\tremaining: 2m 43s\n",
      "604:\tlearn: 0.8157225\ttest: 0.7357499\tbest: 0.7357499 (604)\ttotal: 4m 10s\tremaining: 2m 43s\n",
      "605:\tlearn: 0.8158300\ttest: 0.7357574\tbest: 0.7357574 (605)\ttotal: 4m 11s\tremaining: 2m 43s\n",
      "606:\tlearn: 0.8159140\ttest: 0.7357957\tbest: 0.7357957 (606)\ttotal: 4m 11s\tremaining: 2m 42s\n",
      "607:\tlearn: 0.8160428\ttest: 0.7357809\tbest: 0.7357957 (606)\ttotal: 4m 12s\tremaining: 2m 42s\n",
      "608:\tlearn: 0.8161248\ttest: 0.7357818\tbest: 0.7357957 (606)\ttotal: 4m 12s\tremaining: 2m 42s\n",
      "609:\tlearn: 0.8162920\ttest: 0.7357594\tbest: 0.7357957 (606)\ttotal: 4m 12s\tremaining: 2m 41s\n",
      "610:\tlearn: 0.8164542\ttest: 0.7357663\tbest: 0.7357957 (606)\ttotal: 4m 13s\tremaining: 2m 41s\n",
      "611:\tlearn: 0.8166516\ttest: 0.7357978\tbest: 0.7357978 (611)\ttotal: 4m 13s\tremaining: 2m 40s\n",
      "612:\tlearn: 0.8167912\ttest: 0.7358399\tbest: 0.7358399 (612)\ttotal: 4m 14s\tremaining: 2m 40s\n",
      "613:\tlearn: 0.8169240\ttest: 0.7358443\tbest: 0.7358443 (613)\ttotal: 4m 14s\tremaining: 2m 40s\n",
      "614:\tlearn: 0.8170509\ttest: 0.7358701\tbest: 0.7358701 (614)\ttotal: 4m 15s\tremaining: 2m 39s\n",
      "615:\tlearn: 0.8171389\ttest: 0.7359126\tbest: 0.7359126 (615)\ttotal: 4m 15s\tremaining: 2m 39s\n",
      "616:\tlearn: 0.8172702\ttest: 0.7359154\tbest: 0.7359154 (616)\ttotal: 4m 16s\tremaining: 2m 38s\n",
      "617:\tlearn: 0.8173425\ttest: 0.7359281\tbest: 0.7359281 (617)\ttotal: 4m 16s\tremaining: 2m 38s\n",
      "618:\tlearn: 0.8174427\ttest: 0.7359706\tbest: 0.7359706 (618)\ttotal: 4m 16s\tremaining: 2m 38s\n",
      "619:\tlearn: 0.8175577\ttest: 0.7359913\tbest: 0.7359913 (619)\ttotal: 4m 17s\tremaining: 2m 37s\n",
      "620:\tlearn: 0.8177201\ttest: 0.7359871\tbest: 0.7359913 (619)\ttotal: 4m 17s\tremaining: 2m 37s\n",
      "621:\tlearn: 0.8178544\ttest: 0.7360217\tbest: 0.7360217 (621)\ttotal: 4m 18s\tremaining: 2m 36s\n",
      "622:\tlearn: 0.8179950\ttest: 0.7360834\tbest: 0.7360834 (622)\ttotal: 4m 18s\tremaining: 2m 36s\n",
      "623:\tlearn: 0.8181381\ttest: 0.7360394\tbest: 0.7360834 (622)\ttotal: 4m 19s\tremaining: 2m 36s\n",
      "624:\tlearn: 0.8182790\ttest: 0.7360496\tbest: 0.7360834 (622)\ttotal: 4m 19s\tremaining: 2m 35s\n",
      "625:\tlearn: 0.8183841\ttest: 0.7360221\tbest: 0.7360834 (622)\ttotal: 4m 19s\tremaining: 2m 35s\n",
      "626:\tlearn: 0.8185066\ttest: 0.7360595\tbest: 0.7360834 (622)\ttotal: 4m 20s\tremaining: 2m 34s\n",
      "627:\tlearn: 0.8186595\ttest: 0.7360905\tbest: 0.7360905 (627)\ttotal: 4m 20s\tremaining: 2m 34s\n",
      "628:\tlearn: 0.8188197\ttest: 0.7361291\tbest: 0.7361291 (628)\ttotal: 4m 21s\tremaining: 2m 34s\n",
      "629:\tlearn: 0.8189564\ttest: 0.7361413\tbest: 0.7361413 (629)\ttotal: 4m 21s\tremaining: 2m 33s\n",
      "630:\tlearn: 0.8190606\ttest: 0.7361786\tbest: 0.7361786 (630)\ttotal: 4m 22s\tremaining: 2m 33s\n",
      "631:\tlearn: 0.8191770\ttest: 0.7361751\tbest: 0.7361786 (630)\ttotal: 4m 22s\tremaining: 2m 32s\n",
      "632:\tlearn: 0.8193065\ttest: 0.7362030\tbest: 0.7362030 (632)\ttotal: 4m 23s\tremaining: 2m 32s\n",
      "633:\tlearn: 0.8193981\ttest: 0.7362165\tbest: 0.7362165 (633)\ttotal: 4m 23s\tremaining: 2m 32s\n"
     ]
    },
    {
     "name": "stdout",
     "output_type": "stream",
     "text": [
      "634:\tlearn: 0.8195473\ttest: 0.7361962\tbest: 0.7362165 (633)\ttotal: 4m 24s\tremaining: 2m 31s\n",
      "635:\tlearn: 0.8196549\ttest: 0.7361858\tbest: 0.7362165 (633)\ttotal: 4m 24s\tremaining: 2m 31s\n",
      "636:\tlearn: 0.8197992\ttest: 0.7361796\tbest: 0.7362165 (633)\ttotal: 4m 24s\tremaining: 2m 30s\n",
      "637:\tlearn: 0.8199159\ttest: 0.7361423\tbest: 0.7362165 (633)\ttotal: 4m 25s\tremaining: 2m 30s\n",
      "638:\tlearn: 0.8200381\ttest: 0.7361465\tbest: 0.7362165 (633)\ttotal: 4m 25s\tremaining: 2m 30s\n",
      "639:\tlearn: 0.8201885\ttest: 0.7361259\tbest: 0.7362165 (633)\ttotal: 4m 26s\tremaining: 2m 29s\n",
      "640:\tlearn: 0.8203047\ttest: 0.7361501\tbest: 0.7362165 (633)\ttotal: 4m 26s\tremaining: 2m 29s\n",
      "641:\tlearn: 0.8204520\ttest: 0.7361464\tbest: 0.7362165 (633)\ttotal: 4m 27s\tremaining: 2m 29s\n",
      "642:\tlearn: 0.8205729\ttest: 0.7361803\tbest: 0.7362165 (633)\ttotal: 4m 27s\tremaining: 2m 28s\n",
      "643:\tlearn: 0.8206868\ttest: 0.7361889\tbest: 0.7362165 (633)\ttotal: 4m 28s\tremaining: 2m 28s\n",
      "644:\tlearn: 0.8208312\ttest: 0.7361837\tbest: 0.7362165 (633)\ttotal: 4m 28s\tremaining: 2m 27s\n",
      "645:\tlearn: 0.8209374\ttest: 0.7362063\tbest: 0.7362165 (633)\ttotal: 4m 29s\tremaining: 2m 27s\n",
      "646:\tlearn: 0.8210474\ttest: 0.7361888\tbest: 0.7362165 (633)\ttotal: 4m 29s\tremaining: 2m 27s\n",
      "647:\tlearn: 0.8211485\ttest: 0.7361889\tbest: 0.7362165 (633)\ttotal: 4m 30s\tremaining: 2m 26s\n",
      "648:\tlearn: 0.8212472\ttest: 0.7361832\tbest: 0.7362165 (633)\ttotal: 4m 30s\tremaining: 2m 26s\n",
      "649:\tlearn: 0.8213484\ttest: 0.7361493\tbest: 0.7362165 (633)\ttotal: 4m 31s\tremaining: 2m 26s\n",
      "650:\tlearn: 0.8215246\ttest: 0.7361310\tbest: 0.7362165 (633)\ttotal: 4m 31s\tremaining: 2m 25s\n",
      "651:\tlearn: 0.8215945\ttest: 0.7361455\tbest: 0.7362165 (633)\ttotal: 4m 32s\tremaining: 2m 25s\n",
      "652:\tlearn: 0.8216943\ttest: 0.7361291\tbest: 0.7362165 (633)\ttotal: 4m 32s\tremaining: 2m 25s\n",
      "653:\tlearn: 0.8218028\ttest: 0.7360892\tbest: 0.7362165 (633)\ttotal: 4m 33s\tremaining: 2m 24s\n",
      "654:\tlearn: 0.8219145\ttest: 0.7360465\tbest: 0.7362165 (633)\ttotal: 4m 33s\tremaining: 2m 24s\n",
      "655:\tlearn: 0.8220716\ttest: 0.7360851\tbest: 0.7362165 (633)\ttotal: 4m 34s\tremaining: 2m 23s\n"
     ]
    },
    {
     "ename": "KeyboardInterrupt",
     "evalue": "",
     "output_type": "error",
     "traceback": [
      "\u001b[1;31m---------------------------------------------------------------------------\u001b[0m",
      "\u001b[1;31mKeyboardInterrupt\u001b[0m                         Traceback (most recent call last)",
      "\u001b[1;32m<ipython-input-1214-7256af4acb16>\u001b[0m in \u001b[0;36m<module>\u001b[1;34m()\u001b[0m\n\u001b[1;32m----> 1\u001b[1;33m \u001b[0mctb\u001b[0m\u001b[1;33m.\u001b[0m\u001b[0mcv\u001b[0m\u001b[1;33m(\u001b[0m\u001b[0mctb_data\u001b[0m\u001b[1;33m,\u001b[0m \u001b[0mparameters\u001b[0m\u001b[1;33m,\u001b[0m \u001b[0mstratified\u001b[0m\u001b[1;33m=\u001b[0m\u001b[1;32mTrue\u001b[0m\u001b[1;33m,\u001b[0m \u001b[0mseed\u001b[0m\u001b[1;33m=\u001b[0m\u001b[1;36m42\u001b[0m\u001b[1;33m,\u001b[0m \u001b[0mlogging_level\u001b[0m\u001b[1;33m=\u001b[0m\u001b[1;34m'Verbose'\u001b[0m\u001b[1;33m)\u001b[0m\u001b[1;33m\u001b[0m\u001b[0m\n\u001b[0m",
      "\u001b[1;32mC:\\Program Files\\Anaconda3\\lib\\site-packages\\catboost\\core.py\u001b[0m in \u001b[0;36mcv\u001b[1;34m(pool, params, dtrain, iterations, num_boost_round, fold_count, nfold, inverted, partition_random_seed, seed, shuffle, logging_level, stratified, as_pandas, verbose, verbose_eval, plot)\u001b[0m\n\u001b[0;32m   2247\u001b[0m \u001b[1;33m\u001b[0m\u001b[0m\n\u001b[0;32m   2248\u001b[0m     \u001b[1;32mwith\u001b[0m \u001b[0mlog_fixup\u001b[0m\u001b[1;33m(\u001b[0m\u001b[1;33m)\u001b[0m\u001b[1;33m:\u001b[0m\u001b[1;33m\u001b[0m\u001b[0m\n\u001b[1;32m-> 2249\u001b[1;33m         \u001b[1;32mreturn\u001b[0m \u001b[0m_cv\u001b[0m\u001b[1;33m(\u001b[0m\u001b[0mparams\u001b[0m\u001b[1;33m,\u001b[0m \u001b[0mpool\u001b[0m\u001b[1;33m,\u001b[0m \u001b[0mfold_count\u001b[0m\u001b[1;33m,\u001b[0m \u001b[0minverted\u001b[0m\u001b[1;33m,\u001b[0m \u001b[0mpartition_random_seed\u001b[0m\u001b[1;33m,\u001b[0m \u001b[0mshuffle\u001b[0m\u001b[1;33m,\u001b[0m \u001b[0mstratified\u001b[0m\u001b[1;33m,\u001b[0m \u001b[0mas_pandas\u001b[0m\u001b[1;33m)\u001b[0m\u001b[1;33m\u001b[0m\u001b[0m\n\u001b[0m\u001b[0;32m   2250\u001b[0m \u001b[1;33m\u001b[0m\u001b[0m\n\u001b[0;32m   2251\u001b[0m \u001b[1;33m\u001b[0m\u001b[0m\n",
      "\u001b[1;32m_catboost.pyx\u001b[0m in \u001b[0;36m_catboost._cv\u001b[1;34m()\u001b[0m\n",
      "\u001b[1;32m_catboost.pyx\u001b[0m in \u001b[0;36m_catboost._cv\u001b[1;34m()\u001b[0m\n",
      "\u001b[1;31mKeyboardInterrupt\u001b[0m: "
     ]
    }
   ],
   "source": [
    "ctb.cv(ctb_data, parameters, stratified=True, seed=42, logging_level='Verbose')"
   ]
  },
  {
   "cell_type": "code",
   "execution_count": 1215,
   "metadata": {
    "collapsed": true
   },
   "outputs": [],
   "source": [
    "params = {\n",
    "    'iterations': 500,\n",
    "    'learning_rate': 0.1,\n",
    "    'eval_metric': 'AUC',\n",
    "    'random_seed': 42,\n",
    "    'logging_level': 'Silent',\n",
    "    'use_best_model': True\n",
    "}"
   ]
  },
  {
   "cell_type": "code",
   "execution_count": null,
   "metadata": {},
   "outputs": [],
   "source": [
    "#clf = CatBoostClassifier(learning_rate=0.1, eval_metric= 'AUC',depth = 10,iterations=500, random_seed=0, logging_level='Silent')"
   ]
  },
  {
   "cell_type": "code",
   "execution_count": null,
   "metadata": {
    "collapsed": true
   },
   "outputs": [],
   "source": [
    "clf = CatBoostClassifier(**params)"
   ]
  },
  {
   "cell_type": "code",
   "execution_count": 1216,
   "metadata": {
    "collapsed": true
   },
   "outputs": [],
   "source": [
    "X_train, X_val, y_train, y_val = train_test_split(X, y, test_size=0.12, random_state=42)"
   ]
  },
  {
   "cell_type": "code",
   "execution_count": 1217,
   "metadata": {
    "collapsed": true
   },
   "outputs": [],
   "source": [
    "train_pool = Pool(X_train, y_train)\n",
    "validate_pool = Pool(X_val, y_val)"
   ]
  },
  {
   "cell_type": "code",
   "execution_count": null,
   "metadata": {},
   "outputs": [],
   "source": [
    "clf.fit(train_pool, eval_set=validate_pool)"
   ]
  },
  {
   "cell_type": "code",
   "execution_count": 1218,
   "metadata": {
    "collapsed": true
   },
   "outputs": [],
   "source": [
    "best_model_params = params.copy()\n",
    "best_model_params.update({\n",
    "    'use_best_model': True\n",
    "})"
   ]
  },
  {
   "cell_type": "code",
   "execution_count": 1219,
   "metadata": {
    "collapsed": true
   },
   "outputs": [],
   "source": [
    "best_model = CatBoostClassifier(**best_model_params)"
   ]
  },
  {
   "cell_type": "code",
   "execution_count": 1220,
   "metadata": {},
   "outputs": [
    {
     "data": {
      "text/plain": [
       "{'eval_metric': 'AUC',\n",
       " 'iterations': 500,\n",
       " 'learning_rate': 0.1,\n",
       " 'logging_level': 'Silent',\n",
       " 'loss_function': 'Logloss',\n",
       " 'random_seed': 42,\n",
       " 'use_best_model': True}"
      ]
     },
     "execution_count": 1220,
     "metadata": {},
     "output_type": "execute_result"
    }
   ],
   "source": [
    "best_model.get_params()"
   ]
  },
  {
   "cell_type": "code",
   "execution_count": 1221,
   "metadata": {
    "collapsed": true
   },
   "outputs": [],
   "source": [
    "best_model.fit(train_pool, eval_set=validate_pool);"
   ]
  },
  {
   "cell_type": "code",
   "execution_count": 1222,
   "metadata": {},
   "outputs": [
    {
     "name": "stdout",
     "output_type": "stream",
     "text": [
      "Simple model validation accuracy: 0.734\n"
     ]
    }
   ],
   "source": [
    "print('Simple model validation accuracy: {:.4}'.format(\n",
    "    roc_auc_score(y_val, clf.predict_proba(X_val)[:,1])\n",
    "))"
   ]
  },
  {
   "cell_type": "code",
   "execution_count": 1223,
   "metadata": {},
   "outputs": [
    {
     "name": "stdout",
     "output_type": "stream",
     "text": [
      "\n",
      "Best model validation accuracy: 0.7448\n"
     ]
    }
   ],
   "source": [
    "print('')\n",
    "\n",
    "print('Best model validation accuracy: {:.4}'.format(\n",
    "    roc_auc_score(y_val, best_model.predict_proba(X_val)[:,1])\n",
    "))"
   ]
  },
  {
   "cell_type": "code",
   "execution_count": null,
   "metadata": {
    "collapsed": true
   },
   "outputs": [],
   "source": []
  },
  {
   "cell_type": "code",
   "execution_count": 1224,
   "metadata": {
    "collapsed": true
   },
   "outputs": [],
   "source": [
    "predict_cat = best_model.predict_proba(X_test)"
   ]
  },
  {
   "cell_type": "code",
   "execution_count": 1225,
   "metadata": {
    "collapsed": true
   },
   "outputs": [],
   "source": [
    "test_index = pd.read_csv('test.csv', sep='\\t')\n",
    "test_index = test_index['Unnamed: 0']"
   ]
  },
  {
   "cell_type": "code",
   "execution_count": 1226,
   "metadata": {
    "collapsed": true
   },
   "outputs": [],
   "source": [
    "submition = pd.DataFrame({'_ID_': test_index, '_VAL_': np.zeros_like(test_index)})\n",
    "submition['_VAL_'] = predict_cat[:,1]\n",
    "submition.to_csv('submission_cat.csv', index=False)"
   ]
  },
  {
   "cell_type": "markdown",
   "metadata": {},
   "source": [
    "# cv 0.7448\n",
    "lb 0.74842713"
   ]
  },
  {
   "cell_type": "markdown",
   "metadata": {},
   "source": [
    "# Ensamble"
   ]
  },
  {
   "cell_type": "code",
   "execution_count": 1266,
   "metadata": {},
   "outputs": [
    {
     "name": "stdout",
     "output_type": "stream",
     "text": [
      "Iteration: 1\n",
      "lgb_s\n"
     ]
    },
    {
     "ename": "AttributeError",
     "evalue": "'Booster' object has no attribute 'train'",
     "output_type": "error",
     "traceback": [
      "\u001b[1;31m---------------------------------------------------------------------------\u001b[0m",
      "\u001b[1;31mAttributeError\u001b[0m                            Traceback (most recent call last)",
      "\u001b[1;32m<ipython-input-1266-039022760f9b>\u001b[0m in \u001b[0;36m<module>\u001b[1;34m()\u001b[0m\n\u001b[0;32m      8\u001b[0m     \u001b[0mmodel\u001b[0m\u001b[1;33m.\u001b[0m\u001b[0mfit\u001b[0m\u001b[1;33m(\u001b[0m\u001b[0mX\u001b[0m\u001b[1;33m.\u001b[0m\u001b[0miloc\u001b[0m\u001b[1;33m[\u001b[0m\u001b[0mtrain\u001b[0m\u001b[1;33m]\u001b[0m\u001b[1;33m,\u001b[0m \u001b[0my\u001b[0m\u001b[1;33m[\u001b[0m\u001b[0mtrain\u001b[0m\u001b[1;33m]\u001b[0m\u001b[1;33m)\u001b[0m\u001b[1;33m\u001b[0m\u001b[0m\n\u001b[0;32m      9\u001b[0m     \u001b[0mprint\u001b[0m\u001b[1;33m(\u001b[0m\u001b[1;34m\"lgb_s\"\u001b[0m\u001b[1;33m)\u001b[0m\u001b[1;33m\u001b[0m\u001b[0m\n\u001b[1;32m---> 10\u001b[1;33m     \u001b[0mbst\u001b[0m\u001b[1;33m.\u001b[0m\u001b[0mtrain\u001b[0m\u001b[1;33m(\u001b[0m\u001b[0mmodel\u001b[0m\u001b[1;33m.\u001b[0m\u001b[0mDataset\u001b[0m\u001b[1;33m(\u001b[0m\u001b[0mX\u001b[0m\u001b[1;33m.\u001b[0m\u001b[0miloc\u001b[0m\u001b[1;33m[\u001b[0m\u001b[0mtrain\u001b[0m\u001b[1;33m]\u001b[0m\u001b[1;33m,\u001b[0m \u001b[0my\u001b[0m\u001b[1;33m[\u001b[0m\u001b[0mtrain\u001b[0m\u001b[1;33m]\u001b[0m\u001b[1;33m)\u001b[0m\u001b[1;33m)\u001b[0m\u001b[1;33m\u001b[0m\u001b[0m\n\u001b[0m\u001b[0;32m     11\u001b[0m     \u001b[0mbest_model\u001b[0m\u001b[1;33m.\u001b[0m\u001b[0mfit\u001b[0m\u001b[1;33m(\u001b[0m\u001b[0mPool\u001b[0m\u001b[1;33m(\u001b[0m\u001b[0mX\u001b[0m\u001b[1;33m.\u001b[0m\u001b[0miloc\u001b[0m\u001b[1;33m[\u001b[0m\u001b[0mtrain\u001b[0m\u001b[1;33m]\u001b[0m\u001b[1;33m,\u001b[0m \u001b[0my\u001b[0m\u001b[1;33m[\u001b[0m\u001b[0mtrain\u001b[0m\u001b[1;33m]\u001b[0m\u001b[1;33m)\u001b[0m\u001b[1;33m)\u001b[0m\u001b[1;33m\u001b[0m\u001b[0m\n\u001b[0;32m     12\u001b[0m     \u001b[0mrf_pred_cv\u001b[0m\u001b[1;33m.\u001b[0m\u001b[0mappend\u001b[0m\u001b[1;33m(\u001b[0m\u001b[1;33m[\u001b[0m\u001b[0my\u001b[0m\u001b[1;33m[\u001b[0m\u001b[0mval\u001b[0m\u001b[1;33m]\u001b[0m\u001b[1;33m,\u001b[0m \u001b[0mmodel\u001b[0m\u001b[1;33m.\u001b[0m\u001b[0mpredict_proba\u001b[0m\u001b[1;33m(\u001b[0m\u001b[0mX\u001b[0m\u001b[1;33m.\u001b[0m\u001b[0miloc\u001b[0m\u001b[1;33m[\u001b[0m\u001b[0mval\u001b[0m\u001b[1;33m]\u001b[0m\u001b[1;33m)\u001b[0m\u001b[1;33m[\u001b[0m\u001b[1;33m:\u001b[0m\u001b[1;33m,\u001b[0m\u001b[1;36m1\u001b[0m\u001b[1;33m]\u001b[0m\u001b[1;33m]\u001b[0m\u001b[1;33m)\u001b[0m\u001b[1;33m\u001b[0m\u001b[0m\n",
      "\u001b[1;31mAttributeError\u001b[0m: 'Booster' object has no attribute 'train'"
     ]
    }
   ],
   "source": [
    "lr_pred_cv = []\n",
    "rf_pred_cv = []\n",
    "bg_pred_cv = []\n",
    "k=0\n",
    "for train, val in skf.split(X, y):\n",
    "    k+=1\n",
    "    print(f\"Iteration: {k}\")\n",
    "    model.fit(X.iloc[train], y[train])\n",
    "    print(\"lgb_s\")\n",
    "    bst.train(model.Dataset(X.iloc[train], y[train]))\n",
    "    best_model.fit(Pool(X.iloc[train], y[train]))\n",
    "    rf_pred_cv.append([y[val], model.predict_proba(X.iloc[val])[:,1]])\n",
    "    lr_pred_cv.append([y[val], lgb.predict_proba(X.iloc[val])[:,1]])\n",
    "    best_model.append([y[val], best_bgc.predict_proba(X.iloc[val])[:,1]])"
   ]
  },
  {
   "cell_type": "code",
   "execution_count": null,
   "metadata": {
    "collapsed": true
   },
   "outputs": [],
   "source": []
  },
  {
   "cell_type": "code",
   "execution_count": null,
   "metadata": {
    "collapsed": true
   },
   "outputs": [],
   "source": []
  },
  {
   "cell_type": "code",
   "execution_count": null,
   "metadata": {
    "collapsed": true
   },
   "outputs": [],
   "source": []
  },
  {
   "cell_type": "code",
   "execution_count": null,
   "metadata": {
    "collapsed": true
   },
   "outputs": [],
   "source": []
  }
 ],
 "metadata": {
  "kernelspec": {
   "display_name": "Python [conda root]",
   "language": "python",
   "name": "conda-root-py"
  },
  "language_info": {
   "codemirror_mode": {
    "name": "ipython",
    "version": 3
   },
   "file_extension": ".py",
   "mimetype": "text/x-python",
   "name": "python",
   "nbconvert_exporter": "python",
   "pygments_lexer": "ipython3",
   "version": "3.6.1"
  }
 },
 "nbformat": 4,
 "nbformat_minor": 2
}
