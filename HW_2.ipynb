{
 "cells": [
  {
   "cell_type": "markdown",
   "metadata": {
    "_cell_guid": "ccdce366-81ae-45f8-b349-98c855625b12",
    "_uuid": "0974323ab6cda2cf3605c290f2fa5d0705246827"
   },
   "source": [
    "# Homework 2 - TF-IDF Classifier\n",
    "\n",
    "Ваша цель обучить классификатор который будет находить \"токсичные\" комментарии и опубликовать решения на Kaggle [Toxic Comment Classification Challenge](https://www.kaggle.com/c/jigsaw-toxic-comment-classification-challenge)\n",
    "\n",
    "В процессе обучения нужно ответить на ***[вопросы](https://docs.google.com/forms/d/e/1FAIpQLSd9mQx8EFpSH6FhCy1M_FmISzy3lhgyyqV3TN0pmtop7slmTA/viewform?usp=sf_link)***\n",
    "\n",
    "Данные можно скачать тут - https://www.kaggle.com/c/jigsaw-toxic-comment-classification-challenge/data\n",
    "\n"
   ]
  },
  {
   "cell_type": "code",
   "execution_count": null,
   "metadata": {
    "_cell_guid": "92c517b0-cfd9-4cde-9091-035dd80aeddd",
    "_uuid": "c2f9e9ad1e0cc8bce3308a973de3468fd651faa9"
   },
   "outputs": [],
   "source": []
  },
  {
   "cell_type": "code",
   "execution_count": 2,
   "metadata": {
    "_cell_guid": "6dc013f0-9a80-4fba-8682-a0b0e94fbf07",
    "_uuid": "b602088ab0723370086baf35aaaefd4a7f8258c7",
    "collapsed": true
   },
   "outputs": [],
   "source": [
    "import numpy as np\n",
    "import pandas as pd\n",
    "\n",
    "from sklearn.feature_extraction.text import TfidfVectorizer, CountVectorizer\n",
    "from sklearn.linear_model import LogisticRegression\n",
    "from sklearn.model_selection import cross_val_score"
   ]
  },
  {
   "cell_type": "code",
   "execution_count": 3,
   "metadata": {
    "_cell_guid": "793d6c08-0f00-4db3-b8dd-8b7dee8b4fa7",
    "_uuid": "6ee5d91f2bae995232256b7f0bf570c5bea374bf",
    "collapsed": true
   },
   "outputs": [],
   "source": [
    "class_names = ['toxic', 'severe_toxic', 'obscene', 'threat', 'insult', 'identity_hate']\n",
    "\n",
    "train = pd.read_csv('D:/STUDY/Data_Science_Study/University_course/HW_2/train.csv').fillna(' ')\n",
    "test = pd.read_csv('D:/STUDY/Data_Science_Study/University_course/HW_2/test.csv').fillna(' ')"
   ]
  },
  {
   "cell_type": "markdown",
   "metadata": {
    "_cell_guid": "0e59bc91-bafa-4734-b0e7-06dc094ae21f",
    "_uuid": "2817a23098e849272cbcc15c4307977766d4a3cb"
   },
   "source": [
    "Стадартными подходами для анализа текста являются [Bag of words](https://en.wikipedia.org/wiki/Bag-of-words_model) и его модификация [TF-IDF](https://en.wikipedia.org/wiki/Tf%E2%80%93idf).\n",
    "\n",
    "Они реалзованны в `sklearn` в виде [CountVectorizer](http://scikit-learn.org/stable/modules/generated/sklearn.feature_extraction.text.CountVectorizer.html) и [TfidfVectorizer](http://scikit-learn.org/stable/modules/generated/sklearn.feature_extraction.text.TfidfVectorizer.html).\n",
    "\n",
    "Более подробней про них можно посмотреть [тут](https://github.com/udsclub/workshop/blob/master/notebooks/UDS-workshop-feature-extraction-and-engineering.ipynb)"
   ]
  },
  {
   "cell_type": "code",
   "execution_count": 4,
   "metadata": {
    "_cell_guid": "8804d7a7-0fc7-4173-82ae-d00acd3bdad5",
    "_uuid": "a1c2e561892d27b19ca7942739a8dd3544f326b2",
    "collapsed": true
   },
   "outputs": [],
   "source": [
    "train_text = train['comment_text']\n",
    "test_text = test['comment_text']\n",
    "#all_text = pd.concat([train_text, test_text])"
   ]
  },
  {
   "cell_type": "markdown",
   "metadata": {
    "_cell_guid": "5474a125-f521-42f5-97e2-89716bfdad56",
    "_uuid": "a99b6a7bf24805e24ddb137d88e0d5f696643e71",
    "collapsed": true
   },
   "source": [
    "# Data Cleaning"
   ]
  },
  {
   "cell_type": "code",
   "execution_count": 5,
   "metadata": {
    "_cell_guid": "babb20c8-e041-4a81-8638-17138815bf45",
    "_uuid": "dd8b14ba751afb0bda7dce2d60a256cc26c99f72",
    "collapsed": true
   },
   "outputs": [],
   "source": [
    "import re"
   ]
  },
  {
   "cell_type": "code",
   "execution_count": 6,
   "metadata": {
    "_cell_guid": "f12b08a7-de36-4723-a67a-d737bcad825c",
    "_uuid": "49b764fdff87e045bbb32912a0fe0d6bd2670c7c",
    "collapsed": true
   },
   "outputs": [],
   "source": [
    "def cleaning_data(noizy_comment):\n",
    "    noizy_comment= re.sub(r'http\\S+', '', noizy_comment)\n",
    "    noizy_comment = noizy_comment.lower()\n",
    "    noizy_comment = re.sub(r\"what's\", \"what is \", noizy_comment)\n",
    "    noizy_comment = re.sub(r\"\\'s\", \" \", noizy_comment)\n",
    "    noizy_comment = re.sub(r\"\\'ve\", \" have \", noizy_comment)\n",
    "    noizy_comment = re.sub(r\"can't\", \"cannot \", noizy_comment)\n",
    "    noizy_comment = re.sub(r\"n't\", \" not \", noizy_comment)\n",
    "    noizy_comment = re.sub(r\"i'm\", \"i am \", noizy_comment)\n",
    "    noizy_comment = re.sub(r\"\\'re\", \" are \", noizy_comment)\n",
    "    noizy_comment = re.sub(r\"\\'d\", \" would \", noizy_comment)\n",
    "    noizy_comment = re.sub(r\"\\'ll\", \" will \", noizy_comment)\n",
    "    noizy_comment = re.sub(r\"\\'scuse\", \" excuse \", noizy_comment)\n",
    "    noizy_comment = re.sub(r'\\W', ' ', noizy_comment)\n",
    "    noizy_comment = re.sub(r'\\s+', ' ', noizy_comment)\n",
    "    noizy_comment = re.sub(' +',' ',noizy_comment)\n",
    "    noizy_comment = re.sub(r'\\n','',noizy_comment)\n",
    "    noizy_comment = noizy_comment.strip(' ')\n",
    "    clean_comment = noizy_comment\n",
    "    return clean_comment"
   ]
  },
  {
   "cell_type": "code",
   "execution_count": 7,
   "metadata": {
    "_cell_guid": "d5b2056c-8a00-42cd-8fd7-999d8fda7b2e",
    "_uuid": "d52fb6c5099abf2882f09dbffc313d117c52051b",
    "collapsed": true
   },
   "outputs": [],
   "source": [
    "def data_set_cleaning(noizy_data_set):\n",
    "    cleaned_text = []\n",
    "    for i in range(0,len(noizy_data_set)):\n",
    "        text_cleaning = cleaning_data(noizy_data_set[i])\n",
    "        cleaned_text.append(text_cleaning)\n",
    "    noizy_data_set = pd.Series(cleaned_text).astype(str)\n",
    "    return noizy_data_set"
   ]
  },
  {
   "cell_type": "code",
   "execution_count": 8,
   "metadata": {
    "_cell_guid": "4f4c2a59-8568-43b1-b4db-080a103f3537",
    "_uuid": "d73bae50b5267a7e1f034c48ad914c03cf3e1fdf",
    "collapsed": true
   },
   "outputs": [],
   "source": [
    "train_text = data_set_cleaning(train_text)"
   ]
  },
  {
   "cell_type": "code",
   "execution_count": 9,
   "metadata": {
    "_cell_guid": "ef5fd697-1933-4a2d-a54c-74a535c7532a",
    "_uuid": "d4ac7166b6e9303570d303fc80ffa6f7267537f5"
   },
   "outputs": [
    {
     "data": {
      "text/plain": [
       "0    explanation why the edits made under my userna...\n",
       "1    d aww he matches this background colour i am s...\n",
       "2    hey man i am really not trying to edit war it ...\n",
       "3    more i cannot make any real suggestions on imp...\n",
       "4    you sir are my hero any chance you remember wh...\n",
       "dtype: object"
      ]
     },
     "execution_count": 9,
     "metadata": {},
     "output_type": "execute_result"
    }
   ],
   "source": [
    "train_text.head()"
   ]
  },
  {
   "cell_type": "code",
   "execution_count": 10,
   "metadata": {
    "_cell_guid": "4217b7ed-29f1-4c88-92eb-3bab4ef77c71",
    "_uuid": "e4f58f3d70535cb9775657370327a0103f4af26e",
    "collapsed": true
   },
   "outputs": [],
   "source": [
    "test_text = data_set_cleaning(test_text)"
   ]
  },
  {
   "cell_type": "code",
   "execution_count": 11,
   "metadata": {
    "_cell_guid": "f70a8d17-c666-43dc-ac05-d1f19cee2136",
    "_uuid": "3fe45722927b4a5737b41e0a5ba901852bea6516",
    "collapsed": true
   },
   "outputs": [],
   "source": [
    "all_text = pd.concat([train_text, test_text])"
   ]
  },
  {
   "cell_type": "code",
   "execution_count": 12,
   "metadata": {
    "_cell_guid": "4af5e3df-1f84-4101-a964-b4e4ae5026d9",
    "_uuid": "550b21773ed48c58942097436d19ea743a7a2f8a"
   },
   "outputs": [
    {
     "data": {
      "text/plain": [
       "0    explanation why the edits made under my userna...\n",
       "1    d aww he matches this background colour i am s...\n",
       "2    hey man i am really not trying to edit war it ...\n",
       "3    more i cannot make any real suggestions on imp...\n",
       "4    you sir are my hero any chance you remember wh...\n",
       "dtype: object"
      ]
     },
     "execution_count": 12,
     "metadata": {},
     "output_type": "execute_result"
    }
   ],
   "source": [
    "all_text.head()"
   ]
  },
  {
   "cell_type": "code",
   "execution_count": 13,
   "metadata": {
    "_cell_guid": "c96f57d7-334a-44c4-aeee-e2e0d50fac8a",
    "_uuid": "166c7be8ef3890adf39fe1ee5a50900ac9bd2f65",
    "collapsed": true
   },
   "outputs": [],
   "source": [
    "# Попробуйте разные Vectorizer и разные размеры n-gramm, стоп-слова, обрезку редких слов, обрезку слишком частых слов\n",
    "word_vectorizer = TfidfVectorizer(analyzer='word',stop_words='english')\n",
    "char_vectorizer = TfidfVectorizer(analyzer='char',ngram_range=(1,4),stop_words='english')"
   ]
  },
  {
   "cell_type": "code",
   "execution_count": 14,
   "metadata": {
    "_cell_guid": "03bf6ce1-ad61-4cdd-b3c6-c405f4b17650",
    "_uuid": "8c600282565950f7dfab65e91a5a3fddf424616d",
    "collapsed": true
   },
   "outputs": [],
   "source": [
    "from scipy.sparse import hstack"
   ]
  },
  {
   "cell_type": "code",
   "execution_count": 15,
   "metadata": {
    "_cell_guid": "e4306b07-2e61-42c4-8cbd-0c2501e6231b",
    "_uuid": "b26ceb06a076a643fbc49e7f3c83b5f002e23e7d"
   },
   "outputs": [
    {
     "data": {
      "text/plain": [
       "TfidfVectorizer(analyzer='word', binary=False, decode_error='strict',\n",
       "        dtype=<class 'numpy.int64'>, encoding='utf-8', input='content',\n",
       "        lowercase=True, max_df=1.0, max_features=None, min_df=1,\n",
       "        ngram_range=(1, 1), norm='l2', preprocessor=None, smooth_idf=True,\n",
       "        stop_words='english', strip_accents=None, sublinear_tf=False,\n",
       "        token_pattern='(?u)\\\\b\\\\w\\\\w+\\\\b', tokenizer=None, use_idf=True,\n",
       "        vocabulary=None)"
      ]
     },
     "execution_count": 15,
     "metadata": {},
     "output_type": "execute_result"
    }
   ],
   "source": [
    "#train_vect_word = word_vectorizer.fit_transform(train_text)\n",
    "word_vectorizer.fit(all_text)"
   ]
  },
  {
   "cell_type": "code",
   "execution_count": 16,
   "metadata": {
    "_uuid": "37fdd604f05b4efce35455598356d1b9d1e519ad"
   },
   "outputs": [
    {
     "data": {
      "text/plain": [
       "TfidfVectorizer(analyzer='char', binary=False, decode_error='strict',\n",
       "        dtype=<class 'numpy.int64'>, encoding='utf-8', input='content',\n",
       "        lowercase=True, max_df=1.0, max_features=None, min_df=1,\n",
       "        ngram_range=(1, 4), norm='l2', preprocessor=None, smooth_idf=True,\n",
       "        stop_words='english', strip_accents=None, sublinear_tf=False,\n",
       "        token_pattern='(?u)\\\\b\\\\w\\\\w+\\\\b', tokenizer=None, use_idf=True,\n",
       "        vocabulary=None)"
      ]
     },
     "execution_count": 16,
     "metadata": {},
     "output_type": "execute_result"
    }
   ],
   "source": [
    "char_vectorizer.fit(all_text)"
   ]
  },
  {
   "cell_type": "code",
   "execution_count": 17,
   "metadata": {
    "_uuid": "abafbcd7688fe3b32423be4faa23b07a7e00c836",
    "collapsed": true
   },
   "outputs": [],
   "source": [
    "train_word_features = word_vectorizer.transform(train_text)"
   ]
  },
  {
   "cell_type": "code",
   "execution_count": 18,
   "metadata": {
    "_uuid": "34c4e6bb7422dc06ceb9d0a81bb1a502bfca2e27",
    "collapsed": true
   },
   "outputs": [],
   "source": [
    "train_char_features = char_vectorizer.transform(train_text)"
   ]
  },
  {
   "cell_type": "code",
   "execution_count": 19,
   "metadata": {
    "_uuid": "8b3ecbbc24695f39fecacea7b1273ae79ec7dcef",
    "collapsed": true
   },
   "outputs": [],
   "source": [
    "test_char_features = char_vectorizer.transform(test_text)"
   ]
  },
  {
   "cell_type": "code",
   "execution_count": 20,
   "metadata": {
    "_uuid": "790331270d030fada2201daa902ce3d6fd8e0b54",
    "collapsed": true
   },
   "outputs": [],
   "source": [
    "test_word_features = word_vectorizer.transform(test_text)"
   ]
  },
  {
   "cell_type": "code",
   "execution_count": 22,
   "metadata": {},
   "outputs": [],
   "source": [
    "del test_text "
   ]
  },
  {
   "cell_type": "code",
   "execution_count": 24,
   "metadata": {},
   "outputs": [],
   "source": [
    "del train_text"
   ]
  },
  {
   "cell_type": "code",
   "execution_count": 25,
   "metadata": {
    "collapsed": true
   },
   "outputs": [],
   "source": [
    "del all_text"
   ]
  },
  {
   "cell_type": "code",
   "execution_count": 26,
   "metadata": {
    "_uuid": "40ba0ee78545c33a7a803bed302d948be41a3001",
    "collapsed": true
   },
   "outputs": [],
   "source": [
    "train_features = hstack([train_word_features, train_char_features])"
   ]
  },
  {
   "cell_type": "code",
   "execution_count": 27,
   "metadata": {
    "collapsed": true
   },
   "outputs": [],
   "source": [
    "del train_word_features\n",
    "del train_char_features"
   ]
  },
  {
   "cell_type": "code",
   "execution_count": 28,
   "metadata": {
    "_uuid": "90dc9bb0a768376b4309e079a1bec3faefac659e",
    "collapsed": true
   },
   "outputs": [],
   "source": [
    "test_features = hstack([test_word_features, test_char_features])"
   ]
  },
  {
   "cell_type": "code",
   "execution_count": 29,
   "metadata": {
    "_cell_guid": "d02bbd6e-62f8-4a4e-928e-92f2ca93ebc1",
    "_uuid": "d694bdfce37c8d64a31e00fb0b290be002e43e84"
   },
   "outputs": [
    {
     "data": {
      "text/plain": [
       "<159571x947992 sparse matrix of type '<class 'numpy.float64'>'\n",
       "\twith 102831348 stored elements in COOrdinate format>"
      ]
     },
     "execution_count": 29,
     "metadata": {},
     "output_type": "execute_result"
    }
   ],
   "source": [
    "train_features"
   ]
  },
  {
   "cell_type": "code",
   "execution_count": 30,
   "metadata": {
    "_cell_guid": "2267113f-c4fa-413c-b05c-c7137e0dca08",
    "_uuid": "9e5d14b941cef3a872478a2fb17881a2ad9b7758"
   },
   "outputs": [
    {
     "data": {
      "text/plain": [
       "<153164x947992 sparse matrix of type '<class 'numpy.float64'>'\n",
       "\twith 88864365 stored elements in COOrdinate format>"
      ]
     },
     "execution_count": 30,
     "metadata": {},
     "output_type": "execute_result"
    }
   ],
   "source": [
    "test_features"
   ]
  },
  {
   "cell_type": "code",
   "execution_count": 31,
   "metadata": {
    "_cell_guid": "3198d0f2-f239-428c-9e7b-be3f9da03fb6",
    "_uuid": "7040074b5b96ff984f40477fd5166f8e0f57698b",
    "collapsed": true
   },
   "outputs": [],
   "source": [
    "#classifier = LogisticRegression(intercept_scaling=2.1,class_weight=\"balanced\",solver=\"lbfgs\")#ok lbfgs\n",
    "classifier = LogisticRegression(solver=\"lbfgs\")#ok lbfgs\n"
   ]
  },
  {
   "cell_type": "code",
   "execution_count": 32,
   "metadata": {},
   "outputs": [
    {
     "name": "stdout",
     "output_type": "stream",
     "text": [
      "CV score for class toxic is 0.9763835996794107\n",
      "CV score for class severe_toxic is 0.9863922140280357\n",
      "CV score for class obscene is 0.9888869666383201\n",
      "CV score for class threat is 0.9858681687290457\n",
      "CV score for class insult is 0.980764509561962\n",
      "CV score for class identity_hate is 0.9808866897603467\n",
      "Total score is 0.9831970247328535\n"
     ]
    }
   ],
   "source": [
    "scores= []\n",
    "\n",
    "for class_name in class_names:\n",
    "    train_target = train[class_name]\n",
    "\n",
    "    cv_score = np.mean(cross_val_score(classifier, train_features, train_target, scoring='roc_auc'))\n",
    "    \n",
    "    print('CV score for class {} is {}'.format(class_name, cv_score))\n",
    "    scores.append(cv_score)\n",
    "\n",
    "print('Total score is {}'.format(np.mean(scores)))"
   ]
  },
  {
   "cell_type": "code",
   "execution_count": 50,
   "metadata": {
    "_cell_guid": "dc18b53f-d35d-4380-888f-9c19b1298bbe",
    "_uuid": "13634471c6fa2b872ab399086f19d721e14d3267"
   },
   "outputs": [
    {
     "name": "stdout",
     "output_type": "stream",
     "text": [
      "CV score for class toxic is 0.9763836010389947\n",
      "CV score for class severe_toxic is 0.9863922140280357\n",
      "CV score for class obscene is 0.9888869666383201\n",
      "CV score for class threat is 0.9858681687290457\n",
      "CV score for class insult is 0.9807645145826589\n",
      "CV score for class identity_hate is 0.9808867032410958\n",
      "Total score is 0.983197028043025\n"
     ]
    }
   ],
   "source": [
    "scores= []\n",
    "\n",
    "for class_name in class_names:\n",
    "    train_target = train[class_name]\n",
    "\n",
    "    cv_score = np.mean(cross_val_score(classifier, train_features, train_target, scoring='roc_auc'))\n",
    "    \n",
    "    print('CV score for class {} is {}'.format(class_name, cv_score))\n",
    "    scores.append(cv_score)\n",
    "\n",
    "print('Total score is {}'.format(np.mean(scores)))"
   ]
  },
  {
   "cell_type": "code",
   "execution_count": 33,
   "metadata": {
    "_cell_guid": "524de470-1eb8-47ad-9bed-e4033bf1ced3",
    "_uuid": "384b605a74fc6304a6d8030e6c8c84b1dcb47e2c",
    "collapsed": true
   },
   "outputs": [],
   "source": [
    "submission = pd.DataFrame.from_dict({'id': test['id']})"
   ]
  },
  {
   "cell_type": "code",
   "execution_count": 34,
   "metadata": {
    "_cell_guid": "88ec1561-62b7-455d-be03-4d944a7e291e",
    "_uuid": "73e3241e0a3e39754746ea007fc7235421b945ff"
   },
   "outputs": [
    {
     "name": "stdout",
     "output_type": "stream",
     "text": [
      "classifier toxic\n",
      "submission toxic\n",
      "end toxic\n",
      "classifier severe_toxic\n",
      "submission severe_toxic\n",
      "end severe_toxic\n",
      "classifier obscene\n",
      "submission obscene\n",
      "end obscene\n",
      "classifier threat\n",
      "submission threat\n",
      "end threat\n",
      "classifier insult\n",
      "submission insult\n",
      "end insult\n",
      "classifier identity_hate\n",
      "submission identity_hate\n",
      "end identity_hate\n"
     ]
    }
   ],
   "source": [
    "for class_name in class_names:\n",
    "    train_target = train[class_name]\n",
    "    x_test = train_features\n",
    "    y_test = train_target[:]\n",
    "    print(\"classifier\",class_name)\n",
    "    classifier.fit(x_test, y_test)\n",
    "    print(\"submission\",class_name)\n",
    "    submission[class_name] = classifier.predict_proba(test_features)[:, 1] \n",
    "    print(\"end\",class_name)\n",
    "    #classifier.fit(...)\n",
    "    #...\n",
    "    #submission[class_name] = classifier.predict_proba(test_features)[:, 1]   "
   ]
  },
  {
   "cell_type": "markdown",
   "metadata": {
    "_uuid": "3700f64adc6cbf8efc9516e8f4ab035bddd25dc1",
    "collapsed": true
   },
   "source": [
    "for class_name in class_names:\n",
    "    train_target = train[class_name]\n",
    "    x_test = train_features\n",
    "    y_test = train_target[:]\n",
    "    cv_score = np.mean(cross_val_score(classifier, train_features, train_target, scoring='roc_auc'))\n",
    "    print(\"classifier\",class_name)\n",
    "    classifier.fit(x_test, y_test)\n",
    "    print(\"submission\",class_name)\n",
    "    submission[class_name] = classifier_toxic.predict_proba(test_features)[:, 1] \n",
    "    print(\"end\",class_name)\n",
    "    \n",
    "    print('CV score for class {} is {}'.format(class_name, cv_score))\n",
    "    scores.append(cv_score)\n",
    "\n",
    "print('Total score is {}'.format(np.mean(scores)))"
   ]
  },
  {
   "cell_type": "code",
   "execution_count": 35,
   "metadata": {
    "_cell_guid": "3ed3a6a7-2322-46ed-b2f7-3e8a634a9d69",
    "_uuid": "7a7813464dd1d3dc7e933719566a8f06cb48beb9",
    "collapsed": true
   },
   "outputs": [],
   "source": [
    "submission.to_csv('D:/STUDY/Data_Science_Study/University_course/HW_2/submission.csv', index=False)"
   ]
  },
  {
   "cell_type": "markdown",
   "metadata": {
    "_cell_guid": "3d896a61-bdee-4992-9644-e6843c6079d0",
    "_uuid": "b47d9847aa63027e4564accc6ddae3b2a38bdf51"
   },
   "source": [
    "print(os.listdir(\"../input\"))"
   ]
  },
  {
   "cell_type": "code",
   "execution_count": 71,
   "metadata": {
    "_uuid": "a90a9a9c1c4ff315fa6ef0013a8bc93a88874cae",
    "collapsed": true
   },
   "outputs": [],
   "source": [
    "#print(os.listdir(\"../Output\"))"
   ]
  },
  {
   "cell_type": "code",
   "execution_count": null,
   "metadata": {
    "_cell_guid": "e846c572-e74f-4b76-a102-72a2aae897ba",
    "_uuid": "6761908bff0d80fc9639e27f9ac117954dcdad85",
    "collapsed": true
   },
   "outputs": [],
   "source": [
    "# Попробуйте разные Vectorizer и рaaазные размеры n-gramm, стоп-слова, обрезку редких слов, обрезку слишком частых слов\n",
    "word_vectorizer = ... # TfidfVectorizer или CountVectorizer"
   ]
  },
  {
   "cell_type": "code",
   "execution_count": null,
   "metadata": {
    "_cell_guid": "b5e40771-f7f0-46f8-8d1f-a0881663ab1e",
    "_uuid": "f830abbdb4f836e0c41eb81b5b95dc9453134c84",
    "collapsed": true
   },
   "outputs": [],
   "source": [
    "word_vectorizer.fit(all_text)\n",
    "train_word_features = word_vectorizer.transform(train_text)\n",
    "test_word_features = word_vectorizer.transform(test_text)"
   ]
  },
  {
   "cell_type": "markdown",
   "metadata": {
    "_cell_guid": "0341f859-5078-4f79-a8a2-ba392dfb9cbf",
    "_uuid": "12e50515ec402300f10cfab71df798ac59473bf8"
   },
   "source": [
    "Для классификации будем использовать логистическую регрессию [LogisticRegression](http://scikit-learn.org/stable/modules/generated/sklearn.linear_model.LogisticRegression.html)."
   ]
  },
  {
   "cell_type": "code",
   "execution_count": null,
   "metadata": {
    "_cell_guid": "2b91386a-2e19-446a-9825-25aba5d49a2c",
    "_uuid": "33c8b9d5b2a541779c7a7595dc38a34092076037",
    "collapsed": true
   },
   "outputs": [],
   "source": [
    "classifier = LogisticRegression(...) # Попробуйте разные параметры, найтдите оттимальные на кросс-валидации"
   ]
  },
  {
   "cell_type": "markdown",
   "metadata": {
    "_cell_guid": "4754b109-62ea-4d8e-96c5-6e78fcf6dd7b",
    "_uuid": "5d042a8ac8691064309895eff56c669a6a30e63b"
   },
   "source": [
    "Будем тренировать по одному классификатору на каждый класс. \n",
    "\n",
    "Что бы провалидировать качество модели воспользуемся функцией [cross_val_score](http://scikit-learn.org/stable/modules/generated/sklearn.model_selection.cross_val_score.html)"
   ]
  },
  {
   "cell_type": "code",
   "execution_count": null,
   "metadata": {
    "_cell_guid": "6f3e494a-a964-40e1-9f61-7b713839ed1d",
    "_uuid": "debc62248693d38fc5158fc1e1d531a9e367d6ef",
    "collapsed": true
   },
   "outputs": [],
   "source": [
    "scores= []\n",
    "\n",
    "for class_name in class_names:\n",
    "    train_target = train[class_name]\n",
    "\n",
    "    cv_score = np.mean(cross_val_score(classifier, train_word_features, train_target, scoring='roc_auc'))\n",
    "    \n",
    "    print('CV score for class {} is {}'.format(class_name, cv_score))\n",
    "    scores.append(cv_score)\n",
    "\n",
    "print('Total score is {}'.format(np.mean(scores)))"
   ]
  },
  {
   "cell_type": "markdown",
   "metadata": {
    "_cell_guid": "61ab009f-5a0e-4673-83b2-201a7f12bb74",
    "_uuid": "e74fd9fd1fc4af20bbf072984337011e6a94298f"
   },
   "source": [
    "Попробуйте подобрать лучшие параметры для `word_vectorizer` и `classifier` оптимизируя метрику [ROC AUC](https://en.wikipedia.org/wiki/Receiver_operating_characteristic)\n"
   ]
  },
  {
   "cell_type": "markdown",
   "metadata": {
    "_cell_guid": "1450c455-09fd-49a3-9580-fde6784a993d",
    "_uuid": "d7269e88e2521f9fe161fcb8a913dcaba51fd2fb"
   },
   "source": [
    "---"
   ]
  },
  {
   "cell_type": "markdown",
   "metadata": {
    "_cell_guid": "9ecc58d6-e964-40f3-b26a-c628efe39d83",
    "_uuid": "3f394850cd7e31a15bca74fff685a4457b15d933"
   },
   "source": [
    "Опубликуйте лучшие решение на [Kaggle Toxic Comment Classification Challenge](https://www.kaggle.com/c/jigsaw-toxic-comment-classification-challenge/submit)"
   ]
  },
  {
   "cell_type": "code",
   "execution_count": null,
   "metadata": {
    "_cell_guid": "dfac0436-0376-4891-9b07-c4a4283173e3",
    "_uuid": "4a239662058fefac446dc21739091f301bd4636d",
    "collapsed": true
   },
   "outputs": [],
   "source": [
    "submission = pd.DataFrame.from_dict({'id': test['id']})"
   ]
  },
  {
   "cell_type": "code",
   "execution_count": null,
   "metadata": {
    "_cell_guid": "4218db93-fb0a-412b-8072-89cbf84ee299",
    "_uuid": "8ddb67a38eab249adff96089c05b293d8f261b40",
    "collapsed": true
   },
   "outputs": [],
   "source": [
    "for class_name in class_names:\n",
    "    .....\n",
    "    classifier.fit(...)\n",
    "    ...\n",
    "    submission[class_name] = classifier.predict_proba(test_features)[:, 1]    "
   ]
  },
  {
   "cell_type": "code",
   "execution_count": null,
   "metadata": {
    "_cell_guid": "05e20cfe-f650-46af-8bfd-c2df82052822",
    "_uuid": "771b2691ec2738ab1efa8f4ae06a12821671c733",
    "collapsed": true
   },
   "outputs": [],
   "source": [
    "submission.to_csv('submission.csv', index=False)"
   ]
  }
 ],
 "metadata": {
  "kernelspec": {
   "display_name": "Python 3",
   "language": "python",
   "name": "python3"
  },
  "language_info": {
   "codemirror_mode": {
    "name": "ipython",
    "version": 3
   },
   "file_extension": ".py",
   "mimetype": "text/x-python",
   "name": "python",
   "nbconvert_exporter": "python",
   "pygments_lexer": "ipython3",
   "version": "3.6.1"
  }
 },
 "nbformat": 4,
 "nbformat_minor": 1
}
