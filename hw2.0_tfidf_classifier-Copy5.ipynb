{
 "cells": [
  {
   "cell_type": "markdown",
   "metadata": {},
   "source": [
    "# Homework 2 - TF-IDF Classifier\n",
    "\n",
    "Ваша цель обучить классификатор который будет находить \"токсичные\" комментарии и опубликовать решения на Kaggle [Toxic Comment Classification Challenge](https://www.kaggle.com/c/jigsaw-toxic-comment-classification-challenge)\n",
    "\n",
    "В процессе обучения нужно ответить на ***[вопросы](https://docs.google.com/forms/d/e/1FAIpQLSd9mQx8EFpSH6FhCy1M_FmISzy3lhgyyqV3TN0pmtop7slmTA/viewform?usp=sf_link)***\n",
    "\n",
    "Данные можно скачать тут - https://www.kaggle.com/c/jigsaw-toxic-comment-classification-challenge/data\n",
    "\n"
   ]
  },
  {
   "cell_type": "code",
   "execution_count": 1,
   "metadata": {
    "collapsed": true
   },
   "outputs": [],
   "source": [
    "import numpy as np\n",
    "import pandas as pd\n",
    "\n",
    "from sklearn.feature_extraction.text import TfidfVectorizer, CountVectorizer\n",
    "from sklearn.linear_model import LogisticRegression\n",
    "from sklearn.model_selection import cross_val_score"
   ]
  },
  {
   "cell_type": "code",
   "execution_count": 2,
   "metadata": {
    "collapsed": true
   },
   "outputs": [],
   "source": [
    "class_names = ['toxic', 'severe_toxic', 'obscene', 'threat', 'insult', 'identity_hate']\n",
    "\n",
    "train = pd.read_csv('D:/STUDY/Data_Science_Study/University_course/HW_2/train.csv').fillna(' ')\n",
    "test = pd.read_csv('D:/STUDY/Data_Science_Study/University_course/HW_2/test.csv').fillna(' ')"
   ]
  },
  {
   "cell_type": "markdown",
   "metadata": {},
   "source": [
    "Стадартными подходами для анализа текста являются [Bag of words](https://en.wikipedia.org/wiki/Bag-of-words_model) и его модификация [TF-IDF](https://en.wikipedia.org/wiki/Tf%E2%80%93idf).\n",
    "\n",
    "Они реалзованны в `sklearn` в виде [CountVectorizer](http://scikit-learn.org/stable/modules/generated/sklearn.feature_extraction.text.CountVectorizer.html) и [TfidfVectorizer](http://scikit-learn.org/stable/modules/generated/sklearn.feature_extraction.text.TfidfVectorizer.html).\n",
    "\n",
    "Более подробней про них можно посмотреть [тут](https://github.com/udsclub/workshop/blob/master/notebooks/UDS-workshop-feature-extraction-and-engineering.ipynb)"
   ]
  },
  {
   "cell_type": "code",
   "execution_count": 118,
   "metadata": {
    "collapsed": true
   },
   "outputs": [],
   "source": [
    "train_text = train['comment_text']\n",
    "test_text = test['comment_text']\n",
    "#all_text = pd.concat([train_text, test_text])"
   ]
  },
  {
   "cell_type": "code",
   "execution_count": null,
   "metadata": {
    "collapsed": true
   },
   "outputs": [],
   "source": []
  },
  {
   "cell_type": "code",
   "execution_count": 131,
   "metadata": {
    "collapsed": true
   },
   "outputs": [],
   "source": [
    "# Попробуйте разные Vectorizer и разные размеры n-gramm, стоп-слова, обрезку редких слов, обрезку слишком частых слов\n",
    "#word_vectorizer = TfidfVectorizer() # TfidfVectorizer или CountVectorizer"
   ]
  },
  {
   "cell_type": "markdown",
   "metadata": {},
   "source": [
    "# Data Cleaning"
   ]
  },
  {
   "cell_type": "code",
   "execution_count": 4,
   "metadata": {
    "collapsed": true
   },
   "outputs": [],
   "source": [
    "import re"
   ]
  },
  {
   "cell_type": "code",
   "execution_count": 5,
   "metadata": {},
   "outputs": [
    {
     "data": {
      "text/plain": [
       "(159571,)"
      ]
     },
     "execution_count": 5,
     "metadata": {},
     "output_type": "execute_result"
    }
   ],
   "source": [
    "train_text.shape"
   ]
  },
  {
   "cell_type": "code",
   "execution_count": 6,
   "metadata": {},
   "outputs": [
    {
     "data": {
      "text/plain": [
       "159571"
      ]
     },
     "execution_count": 6,
     "metadata": {},
     "output_type": "execute_result"
    }
   ],
   "source": [
    "len(train_text)"
   ]
  },
  {
   "cell_type": "code",
   "execution_count": 7,
   "metadata": {},
   "outputs": [
    {
     "data": {
      "text/plain": [
       "(153164,)"
      ]
     },
     "execution_count": 7,
     "metadata": {},
     "output_type": "execute_result"
    }
   ],
   "source": [
    "test_text.shape"
   ]
  },
  {
   "cell_type": "code",
   "execution_count": 8,
   "metadata": {},
   "outputs": [
    {
     "data": {
      "text/plain": [
       "153164"
      ]
     },
     "execution_count": 8,
     "metadata": {},
     "output_type": "execute_result"
    }
   ],
   "source": [
    "len(test_text)"
   ]
  },
  {
   "cell_type": "code",
   "execution_count": 119,
   "metadata": {
    "collapsed": true
   },
   "outputs": [],
   "source": [
    "def cleaning_data(noizy_comment):\n",
    "    noizy_comment= re.sub(r'http\\S+', '', noizy_comment)\n",
    "    noizy_comment = noizy_comment.lower()\n",
    "    noizy_comment = re.sub(r\"what's\", \"what is \", noizy_comment)\n",
    "    noizy_comment = re.sub(r\"\\'s\", \" \", noizy_comment)\n",
    "    noizy_comment = re.sub(r\"\\'ve\", \" have \", noizy_comment)\n",
    "    noizy_comment = re.sub(r\"can't\", \"cannot \", noizy_comment)\n",
    "    noizy_comment = re.sub(r\"n't\", \" not \", noizy_comment)\n",
    "    noizy_comment = re.sub(r\"i'm\", \"i am \", noizy_comment)\n",
    "    noizy_comment = re.sub(r\"\\'re\", \" are \", noizy_comment)\n",
    "    noizy_comment = re.sub(r\"\\'d\", \" would \", noizy_comment)\n",
    "    noizy_comment = re.sub(r\"\\'ll\", \" will \", noizy_comment)\n",
    "    noizy_comment = re.sub(r\"\\'scuse\", \" excuse \", noizy_comment)\n",
    "    noizy_comment = re.sub(r'\\W', ' ', noizy_comment)\n",
    "    noizy_comment = re.sub(r'\\s+', ' ', noizy_comment)\n",
    "    noizy_comment = re.sub(' +',' ',noizy_comment)\n",
    "    noizy_comment = re.sub(r'\\n','',noizy_comment)\n",
    "    noizy_comment = noizy_comment.strip(' ')\n",
    "    return noizy_comment"
   ]
  },
  {
   "cell_type": "code",
   "execution_count": 120,
   "metadata": {},
   "outputs": [],
   "source": [
    "def data_set_cleaning(noizy_data_set):\n",
    "    cleaned_text = []\n",
    "    for i in range(0,len(noizy_data_set)):\n",
    "        text_cleaning = cleaning_data(noizy_data_set[i])\n",
    "        cleaned_text.append(text_cleaning)\n",
    "    noizy_data_set = pd.Series(cleaned_text).astype(str)\n",
    "    return noizy_data_set"
   ]
  },
  {
   "cell_type": "code",
   "execution_count": 121,
   "metadata": {},
   "outputs": [],
   "source": [
    "train_text = data_set_cleaning(train_text)"
   ]
  },
  {
   "cell_type": "code",
   "execution_count": 122,
   "metadata": {},
   "outputs": [
    {
     "data": {
      "text/plain": [
       "0    explanation why the edits made under my userna...\n",
       "1    d aww he matches this background colour i am s...\n",
       "2    hey man i am really not trying to edit war it ...\n",
       "3    more i cannot make any real suggestions on imp...\n",
       "4    you sir are my hero any chance you remember wh...\n",
       "dtype: object"
      ]
     },
     "execution_count": 122,
     "metadata": {},
     "output_type": "execute_result"
    }
   ],
   "source": [
    "train_text.head()"
   ]
  },
  {
   "cell_type": "code",
   "execution_count": 123,
   "metadata": {
    "collapsed": true
   },
   "outputs": [],
   "source": [
    "test_text = data_set_cleaning(test_text)"
   ]
  },
  {
   "cell_type": "code",
   "execution_count": 124,
   "metadata": {},
   "outputs": [
    {
     "data": {
      "text/plain": [
       "0    yo bitch ja rule is more succesful then you wi...\n",
       "1              from rfc the title is fine as it is imo\n",
       "2                       sources zawe ashton on lapland\n",
       "3    if you have a look back at the source the info...\n",
       "4            i do not anonymously edit articles at all\n",
       "dtype: object"
      ]
     },
     "execution_count": 124,
     "metadata": {},
     "output_type": "execute_result"
    }
   ],
   "source": [
    "test_text.head()"
   ]
  },
  {
   "cell_type": "code",
   "execution_count": 125,
   "metadata": {},
   "outputs": [
    {
     "data": {
      "text/plain": [
       "'from rfc the title is fine as it is imo'"
      ]
     },
     "execution_count": 125,
     "metadata": {},
     "output_type": "execute_result"
    }
   ],
   "source": [
    "test_text[1]"
   ]
  },
  {
   "cell_type": "code",
   "execution_count": 126,
   "metadata": {
    "collapsed": true
   },
   "outputs": [],
   "source": [
    "all_text = pd.concat([train_text, test_text])"
   ]
  },
  {
   "cell_type": "code",
   "execution_count": 127,
   "metadata": {},
   "outputs": [
    {
     "data": {
      "text/plain": [
       "0    explanation why the edits made under my userna...\n",
       "1    d aww he matches this background colour i am s...\n",
       "2    hey man i am really not trying to edit war it ...\n",
       "3    more i cannot make any real suggestions on imp...\n",
       "4    you sir are my hero any chance you remember wh...\n",
       "dtype: object"
      ]
     },
     "execution_count": 127,
     "metadata": {},
     "output_type": "execute_result"
    }
   ],
   "source": [
    "all_text.head()"
   ]
  },
  {
   "cell_type": "code",
   "execution_count": 28,
   "metadata": {
    "collapsed": true
   },
   "outputs": [],
   "source": [
    "#all_text_pop = all_text.apply(pd.Series)#after data clean"
   ]
  },
  {
   "cell_type": "code",
   "execution_count": null,
   "metadata": {},
   "outputs": [],
   "source": []
  },
  {
   "cell_type": "code",
   "execution_count": null,
   "metadata": {},
   "outputs": [],
   "source": []
  },
  {
   "cell_type": "code",
   "execution_count": 109,
   "metadata": {
    "collapsed": true
   },
   "outputs": [],
   "source": [
    "from sklearn.feature_extraction import stop_words"
   ]
  },
  {
   "cell_type": "code",
   "execution_count": 110,
   "metadata": {
    "collapsed": true
   },
   "outputs": [],
   "source": [
    "stopWords = stop_words.ENGLISH_STOP_WORDS"
   ]
  },
  {
   "cell_type": "markdown",
   "metadata": {},
   "source": [
    "# Best start"
   ]
  },
  {
   "cell_type": "code",
   "execution_count": 132,
   "metadata": {
    "collapsed": true
   },
   "outputs": [],
   "source": [
    "# Попробуйте разные Vectorizer и разные размеры n-gramm, стоп-слова, обрезку редких слов, обрезку слишком частых слов\n",
    "word_vectorizer_toxic = TfidfVectorizer(decode_error = 'ignore',min_df=10, max_df=0.5)\n",
    "word_vectorizer_severe_toxic = TfidfVectorizer(ngram_range=(1,2), stop_words='english')\n",
    "#word_vectorizer_obscene = TfidfVectorizer(stop_words=stopWords)\n",
    "#word_vectorizer_threat = TfidfVectorizer(ngram_range=(1,2))\n",
    "#word_vectorizer_insult = TfidfVectorizer(ngram_range=(1,2))\n",
    "word_vectorizer_threat_insult = TfidfVectorizer(ngram_range=(1,2))\n",
    "#word_vectorizer_identity_hate = TfidfVectorizer(stop_words=stopWords)\n",
    "word_vectorizer_obscene_identity_hate = TfidfVectorizer(stop_words='english')\n",
    "# TfidfVectorizer или CountVectorizer"
   ]
  },
  {
   "cell_type": "code",
   "execution_count": null,
   "metadata": {},
   "outputs": [],
   "source": []
  },
  {
   "cell_type": "code",
   "execution_count": 134,
   "metadata": {
    "collapsed": true
   },
   "outputs": [],
   "source": [
    "#classifier = LogisticRegression(...) # Попробуйте разные параметры, найтдите оттимальные на кросс-валидации\n",
    "classifier_toxic = LogisticRegression(C=4.1,intercept_scaling=2.1,solver=\"lbfgs\")#ok lbfgs\n",
    "#classifier_toxic = LogisticRegression(C=8,intercept_scaling=2.1,solver=\"lbfgs\")#ok lbfgs\n",
    "classifier_severe_toxic  = LogisticRegression(C=1.1,intercept_scaling=1.9,class_weight=\"balanced\",solver=\"lbfgs\")#ok solver=\"lbfgs\"\n",
    "#classifier_severe_toxic  = LogisticRegression(C=2,intercept_scaling=1.9,class_weight=\"balanced\",solver=\"lbfgs\")#ok solver=\"lbfgs\"\n",
    "classifier_obscene = LogisticRegression(C=2,intercept_scaling=1.9,class_weight=\"balanced\",solver=\"lbfgs\")#1.9 lbfgs\n",
    "classifier_threat = LogisticRegression(C=50,intercept_scaling=1.0,solver=\"lbfgs\")#1 solver=\"lbfgs\"\n",
    "#classifier_threat = LogisticRegression(C=25,intercept_scaling=1.0,solver=\"lbfgs\")#1 solver=\"lbfgs\"\n",
    "classifier_insult = LogisticRegression(C=16,intercept_scaling=1.5,class_weight=\"balanced\",solver=\"lbfgs\")#1.5 lbfgs\n",
    "#classifier_insult = LogisticRegression(C=32,intercept_scaling=1.5,class_weight=\"balanced\",solver=\"lbfgs\")#1.5 lbfgs\n",
    "classifier_identity_hate = LogisticRegression(C=1.6,intercept_scaling=1.0,solver=\"newton-cg\")#1 newton-cg"
   ]
  },
  {
   "cell_type": "code",
   "execution_count": 135,
   "metadata": {},
   "outputs": [
    {
     "name": "stdout",
     "output_type": "stream",
     "text": [
      "CV score for class toxic is 0.9724445428935368\n",
      "CV score for class severe_toxic is 0.9854993012951664\n",
      "CV score for class obscene is 0.9846522619638045\n",
      "CV score for class threat is 0.9886367955264644\n",
      "CV score for class insult is 0.976630682361082\n",
      "CV score for class identity_hate is 0.9739769604916245\n",
      "Total score is 0.9803067574219465\n"
     ]
    }
   ],
   "source": [
    "scores= []\n",
    "\n",
    "for class_name in class_names:\n",
    "    train_target = train[class_name]\n",
    "    if class_name == \"toxic\":\n",
    "        cv_score = np.mean(cross_val_score(classifier_toxic, train_word_features_toxic, train_target, scoring='roc_auc'))\n",
    "        print('CV score for class {} is {}'.format(class_name, cv_score))\n",
    "        scores.append(cv_score)\n",
    "    elif class_name == \"severe_toxic\":\n",
    "        cv_score = np.mean(cross_val_score(classifier_severe_toxic, train_word_features_severe_toxic, train_target, scoring='roc_auc'))\n",
    "        print('CV score for class {} is {}'.format(class_name, cv_score))\n",
    "        scores.append(cv_score)\n",
    "    elif class_name == \"obscene\":\n",
    "        cv_score = np.mean(cross_val_score(classifier_obscene, train_word_features_obscene_identity_hate, train_target, scoring='roc_auc'))\n",
    "        print('CV score for class {} is {}'.format(class_name, cv_score))\n",
    "        scores.append(cv_score)\n",
    "    elif class_name == \"threat\":\n",
    "        cv_score = np.mean(cross_val_score(classifier_threat, train_word_features_threat_insult, train_target, scoring='roc_auc'))\n",
    "        print('CV score for class {} is {}'.format(class_name, cv_score))\n",
    "        scores.append(cv_score)\n",
    "    elif class_name == \"insult\":\n",
    "        cv_score = np.mean(cross_val_score(classifier_insult, train_word_features_threat_insult, train_target, scoring='roc_auc'))\n",
    "        print('CV score for class {} is {}'.format(class_name, cv_score))\n",
    "        scores.append(cv_score)\n",
    "    elif class_name == \"identity_hate\":\n",
    "        cv_score = np.mean(cross_val_score(classifier_identity_hate, train_word_features_obscene_identity_hate, train_target, scoring='roc_auc'))\n",
    "        print('CV score for class {} is {}'.format(class_name, cv_score))\n",
    "        scores.append(cv_score)  \n",
    "\n",
    "print('Total score is {}'.format(np.mean(scores)))"
   ]
  },
  {
   "cell_type": "markdown",
   "metadata": {},
   "source": [
    "# Best End"
   ]
  },
  {
   "cell_type": "markdown",
   "metadata": {},
   "source": [
    "Для классификации будем использовать логистическую регрессию [LogisticRegression](http://scikit-learn.org/stable/modules/generated/sklearn.linear_model.LogisticRegression.html)."
   ]
  },
  {
   "cell_type": "code",
   "execution_count": 8,
   "metadata": {
    "collapsed": true
   },
   "outputs": [],
   "source": [
    "classifier = LogisticRegression() # Попробуйте разные параметры, найтдите оттимальные на кросс-валидации\n"
   ]
  },
  {
   "cell_type": "markdown",
   "metadata": {},
   "source": [
    "Будем тренировать по одному классификатору на каждый класс. \n",
    "\n",
    "Что бы провалидировать качество модели воспользуемся функцией [cross_val_score](http://scikit-learn.org/stable/modules/generated/sklearn.model_selection.cross_val_score.html)"
   ]
  },
  {
   "cell_type": "code",
   "execution_count": 7,
   "metadata": {},
   "outputs": [
    {
     "name": "stdout",
     "output_type": "stream",
     "text": [
      "CV score for class toxic is 0.9685394913528859\n",
      "CV score for class severe_toxic is 0.9831972615849033\n",
      "CV score for class obscene is 0.981616766505934\n",
      "CV score for class threat is 0.9822578771961118\n",
      "CV score for class insult is 0.9741355527269565\n",
      "CV score for class identity_hate is 0.9713648011395858\n",
      "Total score is 0.9768519584177295\n"
     ]
    }
   ],
   "source": [
    "#default\n",
    "scores= []\n",
    "\n",
    "for class_name in class_names:\n",
    "    train_target = train[class_name]\n",
    "\n",
    "    cv_score = np.mean(cross_val_score(classifier, train_word_features, train_target, scoring='roc_auc'))\n",
    "    \n",
    "    print('CV score for class {} is {}'.format(class_name, cv_score))\n",
    "    scores.append(cv_score)\n",
    "\n",
    "print('Total score is {}'.format(np.mean(scores)))"
   ]
  },
  {
   "cell_type": "markdown",
   "metadata": {},
   "source": [
    "Попробуйте подобрать лучшие параметры для `word_vectorizer` и `classifier` оптимизируя метрику [ROC AUC](https://en.wikipedia.org/wiki/Receiver_operating_characteristic)\n"
   ]
  },
  {
   "cell_type": "markdown",
   "metadata": {},
   "source": [
    "---"
   ]
  },
  {
   "cell_type": "markdown",
   "metadata": {},
   "source": [
    "Опубликуйте лучшие решение на [Kaggle Toxic Comment Classification Challenge](https://www.kaggle.com/c/jigsaw-toxic-comment-classification-challenge/submit)"
   ]
  },
  {
   "cell_type": "code",
   "execution_count": 115,
   "metadata": {
    "collapsed": true
   },
   "outputs": [],
   "source": [
    "submission = pd.DataFrame.from_dict({'id': test['id']})"
   ]
  },
  {
   "cell_type": "code",
   "execution_count": null,
   "metadata": {
    "collapsed": true
   },
   "outputs": [],
   "source": [
    "for class_name in class_names:\n",
    "    .....\n",
    "    classifier.fit(...)\n",
    "    ...\n",
    "    submission[class_name] = classifier.predict_proba(test_features)[:, 1]    "
   ]
  },
  {
   "cell_type": "code",
   "execution_count": 136,
   "metadata": {},
   "outputs": [
    {
     "name": "stdout",
     "output_type": "stream",
     "text": [
      "Ok_1 toxic\n",
      "Ok_2 toxic\n",
      "Ok_3 toxic\n",
      "Ok_1 severe_toxic\n",
      "Ok_1 severe_toxic\n",
      "Ok_1 severe_toxic\n",
      "Ok_1 obscene\n",
      "Ok_1 obscene\n",
      "Ok_1 obscene\n",
      "Ok_1 threat\n",
      "Ok_1 threat\n",
      "Ok_1 threat\n",
      "Ok_1 insult\n",
      "Ok_1 insult\n",
      "Ok_1 insult\n",
      "Ok_1 identity_hate\n",
      "Ok_1 identity_hate\n",
      "Ok_1 identity_hate\n"
     ]
    }
   ],
   "source": [
    "for class_name in class_names:\n",
    "    train_target = train[class_name]\n",
    "    if class_name == \"toxic\":\n",
    "        x_test = train_word_features_toxic[:]\n",
    "        y_test = train_target[:]\n",
    "        print(\"Ok_1\",class_name)\n",
    "        classifier_toxic.fit(x_test, y_test)\n",
    "        print(\"Ok_2\",class_name)\n",
    "        submission[class_name] = classifier_toxic.predict_proba(test_word_features_toxic)[:, 1] \n",
    "        print(\"Ok_3\",class_name)\n",
    "    elif class_name == \"severe_toxic\":\n",
    "        x_test = train_word_features_severe_toxic[:]\n",
    "        y_test = train_target[:]\n",
    "        print(\"Ok_1\",class_name)\n",
    "        classifier_severe_toxic.fit(x_test, y_test)\n",
    "        print(\"Ok_1\",class_name)\n",
    "        submission[class_name] = classifier_severe_toxic.predict_proba(test_word_features_severe_toxic)[:, 1] \n",
    "        print(\"Ok_1\",class_name)\n",
    "    elif class_name == \"obscene\":\n",
    "        x_test = train_word_features_obscene_identity_hate[:]\n",
    "        y_test = train_target[:]\n",
    "        print(\"Ok_1\",class_name)\n",
    "        classifier_obscene.fit(x_test, y_test)\n",
    "        print(\"Ok_1\",class_name)\n",
    "        submission[class_name] = classifier_obscene.predict_proba(test_word_features_obscene_identity_hate)[:, 1] \n",
    "        print(\"Ok_1\",class_name)\n",
    "    elif class_name == \"threat\":\n",
    "        x_test = train_word_features_threat_insult[:]\n",
    "        y_test = train_target[:]\n",
    "        print(\"Ok_1\",class_name)\n",
    "        classifier_threat.fit(x_test, y_test)\n",
    "        print(\"Ok_1\",class_name)\n",
    "        submission[class_name] = classifier_threat.predict_proba(test_word_features_threat_insult)[:, 1] \n",
    "        print(\"Ok_1\",class_name)\n",
    "    elif class_name == \"insult\":\n",
    "        x_test = train_word_features_threat_insult[:]\n",
    "        y_test = train_target[:]\n",
    "        print(\"Ok_1\",class_name)\n",
    "        classifier_insult.fit(x_test, y_test)\n",
    "        print(\"Ok_1\",class_name)\n",
    "        submission[class_name] = classifier_insult.predict_proba(test_word_features_threat_insult)[:, 1] \n",
    "        print(\"Ok_1\",class_name)\n",
    "    elif class_name == \"identity_hate\":\n",
    "        x_test = train_word_features_obscene_identity_hate[:]\n",
    "        y_test = train_target[:]\n",
    "        print(\"Ok_1\",class_name)\n",
    "        classifier_identity_hate.fit(x_test, y_test)\n",
    "        print(\"Ok_1\",class_name)\n",
    "        submission[class_name] = classifier_identity_hate.predict_proba(test_word_features_obscene_identity_hate)[:, 1] \n",
    "        print(\"Ok_1\",class_name)"
   ]
  },
  {
   "cell_type": "code",
   "execution_count": null,
   "metadata": {
    "collapsed": true
   },
   "outputs": [],
   "source": [
    "for class_name in class_names:\n",
    "    .....\n",
    "    classifier.fit(...)\n",
    "    ...\n",
    "    submission[class_name] = classifier.predict_proba(test_features)[:, 1]    "
   ]
  },
  {
   "cell_type": "code",
   "execution_count": 137,
   "metadata": {
    "collapsed": true
   },
   "outputs": [],
   "source": [
    "submission.to_csv('D:/STUDY/Data_Science_Study/University_course/HW_2/submission.csv', index=False)"
   ]
  },
  {
   "cell_type": "code",
   "execution_count": null,
   "metadata": {
    "collapsed": true
   },
   "outputs": [],
   "source": []
  }
 ],
 "metadata": {
  "kernelspec": {
   "display_name": "Python 3",
   "language": "python",
   "name": "python3"
  },
  "language_info": {
   "codemirror_mode": {
    "name": "ipython",
    "version": 3
   },
   "file_extension": ".py",
   "mimetype": "text/x-python",
   "name": "python",
   "nbconvert_exporter": "python",
   "pygments_lexer": "ipython3",
   "version": "3.6.1"
  }
 },
 "nbformat": 4,
 "nbformat_minor": 2
}
